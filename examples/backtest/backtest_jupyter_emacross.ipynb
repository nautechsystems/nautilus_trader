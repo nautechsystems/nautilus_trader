{
 "cells": [
  {
   "cell_type": "markdown",
   "metadata": {},
   "source": [
    "### Imports for strategy"
   ]
  },
  {
   "cell_type": "code",
   "execution_count": 1,
   "metadata": {},
   "outputs": [
    {
     "name": "stdout",
     "output_type": "stream",
     "text": [
      "nautilus_indicators 0.63.1\n"
     ]
    }
   ],
   "source": [
    "from collections import deque\n",
    "from datetime import timedelta\n",
    "from typing import Dict\n",
    "\n",
    "from nautilus_trader.core.message import Event\n",
    "from nautilus_trader.core.functions import fast_mean\n",
    "from nautilus_trader.model.enums import OrderSide, OrderPurpose, TimeInForce\n",
    "from nautilus_trader.model.objects import Price, Tick, BarSpecification, BarType, Bar, Instrument\n",
    "from nautilus_trader.model.identifiers import Symbol\n",
    "from nautilus_trader.trading.strategy import TradingStrategy\n",
    "from nautilus_trader.trading.sizing import FixedRiskSizer\n",
    "\n",
    "from nautilus_indicators.average.ema import ExponentialMovingAverage\n",
    "from nautilus_indicators.atr import AverageTrueRange\n",
    "from nautilus_indicators.__info__ import __version__ as n_indicators_version\n",
    "\n",
    "print(f'nautilus_indicators {n_indicators_version}')"
   ]
  },
  {
   "cell_type": "code",
   "execution_count": 2,
   "metadata": {},
   "outputs": [],
   "source": [
    "class EMACrossPy(TradingStrategy):\n",
    "    \"\"\"\"\n",
    "    A simple moving average cross example strategy. When the fast EMA crosses\n",
    "    the slow EMA then a STOP_MARKET atomic order is placed for that direction\n",
    "    with a trailing stop and profit target at 1R risk.\n",
    "    \"\"\"\n",
    "\n",
    "    def __init__(self,\n",
    "                 symbol: Symbol,\n",
    "                 bar_spec: BarSpecification,\n",
    "                 risk_bp: float=10.0,\n",
    "                 fast_ema: int=10,\n",
    "                 slow_ema: int=20,\n",
    "                 atr_period: int=20,\n",
    "                 sl_atr_multiple: float=2.0):\n",
    "        \"\"\"\n",
    "        Initializes a new instance of the EMACrossPy class.\n",
    "\n",
    "        :param symbol: The symbol for the strategy.\n",
    "        :param bar_spec: The bar specification for the strategy.\n",
    "        :param risk_bp: The risk per trade (basis points).\n",
    "        :param fast_ema: The fast EMA period.\n",
    "        :param slow_ema: The slow EMA period.\n",
    "        :param atr_period: The ATR period.\n",
    "        :param sl_atr_multiple: The ATR multiple for stop-loss prices.\n",
    "        \"\"\"\n",
    "        # Order id tag must be unique at trader level\n",
    "        super().__init__(order_id_tag=symbol.code, bar_capacity=40)\n",
    "\n",
    "        # Custom strategy variables\n",
    "        self.symbol = symbol\n",
    "        self.bar_type = BarType(symbol, bar_spec)\n",
    "        self.precision = 5          # dummy initial value for FX\n",
    "        self.risk_bp = risk_bp\n",
    "        self.entry_buffer = 0.0     # instrument.tick_size\n",
    "        self.SL_buffer = 0.0        # instrument.tick_size * 10\n",
    "        self.SL_atr_multiple = sl_atr_multiple\n",
    "\n",
    "        self.instrument = None      # initialized in on_start()\n",
    "        self.position_sizer = None  # initialized in on_start()\n",
    "\n",
    "        # Create the indicators for the strategy\n",
    "        self.fast_ema = ExponentialMovingAverage(fast_ema)\n",
    "        self.slow_ema = ExponentialMovingAverage(slow_ema)\n",
    "        self.atr = AverageTrueRange(atr_period)\n",
    "\n",
    "    def on_start(self):\n",
    "        \"\"\"\n",
    "        This method is called when self.start() is called, and after internal start logic.\n",
    "        \"\"\"\n",
    "        # Put custom code to be run on strategy start here (or pass)\n",
    "        self.instrument = self.get_instrument(self.symbol)\n",
    "        self.precision = self.instrument.price_precision\n",
    "        self.entry_buffer = self.instrument.tick_size.as_double() * 3.0\n",
    "        self.SL_buffer = self.instrument.tick_size * 10.0\n",
    "        self.position_sizer = FixedRiskSizer(self.instrument)\n",
    "\n",
    "        # Register the indicators for updating\n",
    "        self.register_indicator(\n",
    "            data_source=self.bar_type,\n",
    "            indicator=self.fast_ema,\n",
    "            update_method=self.fast_ema.update)\n",
    "        self.register_indicator(\n",
    "            data_source=self.bar_type,\n",
    "            indicator=self.slow_ema,\n",
    "            update_method=self.slow_ema.update)\n",
    "        self.register_indicator(\n",
    "            data_source=self.bar_type,\n",
    "            indicator=self.atr,\n",
    "            update_method=self.atr.update)\n",
    "\n",
    "        # Get historical data\n",
    "        self.get_ticks(self.symbol)\n",
    "        self.get_bars(self.bar_type)\n",
    "\n",
    "        # Subscribe to live data\n",
    "        self.subscribe_instrument(self.symbol)\n",
    "        self.subscribe_bars(self.bar_type)\n",
    "        self.subscribe_ticks(self.symbol)\n",
    "\n",
    "        # Kick off strategy immediately with last bar\n",
    "        if self.bar_count(self.bar_type) > 0:\n",
    "            self.on_bar(self.bar_type, self.bar(self.bar_type, 0))\n",
    "\n",
    "    def on_tick(self, tick: Tick):\n",
    "        \"\"\"\n",
    "        This method is called whenever a Tick is received by the strategy, and\n",
    "        after the Tick has been processed by the base class.\n",
    "        The received Tick object is then passed into this method.\n",
    "\n",
    "        :param tick: The received tick.\n",
    "        \"\"\"\n",
    "        # self.log.info(f\"Received Tick({tick})\")  # For debugging\n",
    "\n",
    "    def on_bar(self, bar_type: BarType, bar: Bar):\n",
    "        \"\"\"\n",
    "        This method is called whenever the strategy receives a Bar, and after the\n",
    "        Bar has been processed by the base class.\n",
    "        The received BarType and Bar objects are then passed into this method.\n",
    "\n",
    "        :param bar_type: The received bar type.\n",
    "        :param bar: The received bar.\n",
    "        \"\"\"\n",
    "        self.log.info(f\"Received {bar_type} Bar({bar})\")  # For debugging\n",
    "\n",
    "        # Check if indicators ready\n",
    "        if not self.indicators_initialized():\n",
    "            self.log.info(f\"Waiting for indicators to warm up \"\n",
    "                           f\"[{self.bar_count(self.bar_type)}] ...\")\n",
    "            return  # Wait for indicators to warm up...\n",
    "\n",
    "        # Check if tick data available\n",
    "        if not self.has_ticks(self.symbol):\n",
    "            self.log.info(f\"Waiting for {self.symbol.value} ticks...\")\n",
    "            return  # Wait for ticks...\n",
    "\n",
    "        # Get average spread\n",
    "        average_spread = self.average_spread(self.symbol)\n",
    "\n",
    "        # Check market liquidity\n",
    "        if average_spread == 0.0:\n",
    "            return  # Protect divide by zero\n",
    "        else:\n",
    "            liquidity_ratio = self.atr.value / average_spread\n",
    "            if liquidity_ratio < 2.0:\n",
    "                self.log.info(f\"Liquidity Ratio == {liquidity_ratio} (no liquidity).\")\n",
    "                return\n",
    "\n",
    "        spread_buffer = max(average_spread, self.spread(self.symbol))\n",
    "        sl_buffer = self.atr.value * self.SL_atr_multiple\n",
    "\n",
    "        if self.count_orders_working() == 0 and self.is_flat():  # No active or pending positions\n",
    "            # BUY LOGIC\n",
    "            if self.fast_ema.value >= self.slow_ema.value:\n",
    "                self._enter_long(bar, sl_buffer, spread_buffer)\n",
    "            # SELL LOGIC\n",
    "            elif self.fast_ema.value < self.slow_ema.value:\n",
    "                self._enter_short(bar, sl_buffer, spread_buffer)\n",
    "\n",
    "        self._check_trailing_stops(bar, sl_buffer, spread_buffer)\n",
    "\n",
    "    def _enter_long(self, bar: Bar, sl_buffer: float, spread_buffer: float):\n",
    "        price_entry = Price(bar.high.as_double() + self.entry_buffer + spread_buffer, self.precision)\n",
    "        price_stop_loss = Price(bar.low.as_double() - sl_buffer, self.precision)\n",
    "\n",
    "        risk = price_entry.as_double() - price_stop_loss.as_double()\n",
    "        price_take_profit = Price(price_entry.as_double() + risk, self.precision)\n",
    "\n",
    "        exchange_rate = self.get_exchange_rate_for_account(\n",
    "            quote_currency=self.instrument.quote_currency,\n",
    "            price_type=PriceType.ASK)\n",
    "\n",
    "        position_size = self.position_sizer.calculate(\n",
    "            equity=self.account().free_equity,\n",
    "            risk_bp=self.risk_bp,\n",
    "            entry=price_entry,\n",
    "            stop_loss=price_stop_loss,\n",
    "            exchange_rate=exchange_rate,\n",
    "            commission_rate_bp=0.15,\n",
    "            hard_limit=20000000,\n",
    "            units=1,\n",
    "            unit_batch_size=10000)\n",
    "        if position_size > 0:\n",
    "            atomic_order = self.order_factory.atomic_stop_market(\n",
    "                symbol=self.symbol,\n",
    "                order_side=OrderSide.BUY,\n",
    "                quantity=position_size,\n",
    "                price_entry=price_entry,\n",
    "                price_stop_loss=price_stop_loss,\n",
    "                price_take_profit=price_take_profit,\n",
    "                time_in_force=TimeInForce.GTD,\n",
    "                expire_time=bar.timestamp + timedelta(minutes=1))\n",
    "\n",
    "            self.submit_atomic_order(atomic_order, self.position_id_generator.generate())\n",
    "        else:\n",
    "            self.log.info(\"Insufficient equity for BUY signal.\")\n",
    "\n",
    "    def _enter_short(self, bar: Bar, sl_buffer: float, spread_buffer: float):\n",
    "        price_entry = Price(bar.low.as_double() - self.entry_buffer, self.precision)\n",
    "        price_stop_loss = Price(bar.high.as_double() + sl_buffer + spread_buffer, self.precision)\n",
    "\n",
    "        risk = price_stop_loss.as_double() - price_entry.as_double()\n",
    "        price_take_profit = Price(price_entry.as_double() - risk, self.precision)\n",
    "\n",
    "        exchange_rate = self.get_exchange_rate_for_account(\n",
    "            quote_currency=self.instrument.quote_currency,\n",
    "            price_type=PriceType.ASK)\n",
    "\n",
    "        position_size = self.position_sizer.calculate(\n",
    "            equity=self.account().free_equity,\n",
    "            risk_bp=self.risk_bp,\n",
    "            entry=price_entry,\n",
    "            stop_loss=price_stop_loss,\n",
    "            exchange_rate=exchange_rate,\n",
    "            commission_rate_bp=0.15,\n",
    "            hard_limit=20000000,\n",
    "            units=1,\n",
    "            unit_batch_size=10000)\n",
    "\n",
    "        if position_size > 0:  # Sufficient equity for a position\n",
    "            atomic_order = self.order_factory.atomic_stop_market(\n",
    "                symbol=self.symbol,\n",
    "                order_side=OrderSide.SELL,\n",
    "                quantity=position_size,\n",
    "                price_entry=price_entry,\n",
    "                price_stop_loss=price_stop_loss,\n",
    "                price_take_profit=price_take_profit,\n",
    "                time_in_force=TimeInForce.GTD,\n",
    "                expire_time=bar.timestamp + timedelta(minutes=1))\n",
    "\n",
    "            self.submit_atomic_order(atomic_order, self.position_id_generator.generate())\n",
    "        else:\n",
    "            self.log.info(\"Insufficient equity for SELL signal.\")\n",
    "\n",
    "    def _check_trailing_stops(self, bar: Bar, sl_buffer: float, spread_buffer: float):\n",
    "        for working_order in self.orders_working().values():\n",
    "            if working_order.purpose == OrderPurpose.STOP_LOSS:\n",
    "                # SELL SIDE ORDERS\n",
    "                if working_order.is_sell:\n",
    "                    temp_price = Price(bar.low.as_double() - sl_buffer, self.precision)\n",
    "                    if temp_price.gt(working_order.price):\n",
    "                        self.modify_order(working_order, working_order.quantity, temp_price)\n",
    "                # BUY SIDE ORDERS\n",
    "                elif working_order.is_buy:\n",
    "                    temp_price = Price(bar.high.as_double() + sl_buffer + spread_buffer, self.precision)\n",
    "                    if temp_price.lt(working_order.price):\n",
    "                        self.modify_order(working_order, working_order.quantity, temp_price)\n",
    "\n",
    "    def on_instrument(self, instrument: Instrument):\n",
    "        \"\"\"\n",
    "        This method is called whenever the strategy receives an Instrument update.\n",
    "\n",
    "        :param instrument: The received instrument.\n",
    "        \"\"\"\n",
    "        if self.instrument.symbol.equals(instrument.symbol):\n",
    "            self.instrument = instrument\n",
    "\n",
    "        self.log.info(f\"Updated instrument {instrument}.\")\n",
    "\n",
    "    def on_event(self, event: Event):\n",
    "        \"\"\"\n",
    "        This method is called whenever the strategy receives an Event object,\n",
    "        and after the event has been processed by the TradingStrategy base class.\n",
    "        These events could be AccountEvent, OrderEvent, PositionEvent, TimeEvent.\n",
    "\n",
    "        :param event: The received event.\n",
    "        \"\"\"\n",
    "        # Put custom code for event handling here (or pass)\n",
    "        pass\n",
    "\n",
    "    def on_stop(self):\n",
    "        \"\"\"\n",
    "        This method is called when self.stop() is called and after internal\n",
    "        stopping logic.\n",
    "        \"\"\"\n",
    "        # Put custom code to be run on strategy stop here (or pass)\n",
    "        pass\n",
    "\n",
    "    def on_reset(self):\n",
    "        \"\"\"\n",
    "        This method is called when self.reset() is called, and after internal\n",
    "        reset logic such as clearing the internally held bars, ticks and resetting\n",
    "        all indicators.\n",
    "        \"\"\"\n",
    "        # Put custom code to be run on a strategy reset here (or pass)\n",
    "        pass\n",
    "\n",
    "    def on_save(self) -> {}:\n",
    "        # Put custom state to be saved here (or return empty dictionary)\n",
    "        return {}\n",
    "\n",
    "    def on_load(self, state: {}):\n",
    "        # Put custom state to be loaded here (or pass)\n",
    "        pass\n",
    "\n",
    "    def on_dispose(self):\n",
    "        \"\"\"\n",
    "        This method is called when self.dispose() is called. Dispose of any\n",
    "        resources that has been used by the strategy here.\n",
    "        \"\"\"\n",
    "        # Put custom code to be run on a strategy disposal here (or pass)\n",
    "        self.unsubscribe_instrument(self.symbol)\n",
    "        self.unsubscribe_bars(self.bar_type)\n",
    "        self.unsubscribe_ticks(self.symbol)\n"
   ]
  },
  {
   "cell_type": "markdown",
   "metadata": {},
   "source": [
    "### Get Data"
   ]
  },
  {
   "cell_type": "code",
   "execution_count": 10,
   "metadata": {},
   "outputs": [
    {
     "name": "stdout",
     "output_type": "stream",
     "text": [
      "nautilus_research 0.66.2\n"
     ]
    }
   ],
   "source": [
    "import sys\n",
    "import pytz\n",
    "\n",
    "from datetime import datetime\n",
    "\n",
    "from nautilus_research.__info__ import __version__ as nautilus_research_version\n",
    "from nautilus_research.database import ResearchDatabaseClient, Database, Library, MarketDataType\n",
    "from nautilus_research.data.integrity import check_tick_data\n",
    "\n",
    "print(f'nautilus_research {nautilus_research_version}')"
   ]
  },
  {
   "cell_type": "code",
   "execution_count": 11,
   "metadata": {},
   "outputs": [],
   "source": [
    "library = ResearchDatabaseClient(database=Database.MARKET_DATA)(Library.FXCM)\n",
    "\n",
    "start = datetime(2017, 2, 1, 0, 0, 0, 0, pytz.UTC)\n",
    "stop = datetime(2017, 3, 1, 0, 0, 0, 0, pytz.UTC)"
   ]
  },
  {
   "cell_type": "code",
   "execution_count": 12,
   "metadata": {},
   "outputs": [
    {
     "ename": "TypeError",
     "evalue": "Cannot compare tz-naive and tz-aware datetime-like objects.",
     "output_type": "error",
     "traceback": [
      "\u001b[0;31m---------------------------------------------------------------------------\u001b[0m",
      "\u001b[0;31mKeyError\u001b[0m                                  Traceback (most recent call last)",
      "\u001b[0;32m~/anaconda3/lib/python3.7/site-packages/pandas/core/indexes/base.py\u001b[0m in \u001b[0;36mget_loc\u001b[0;34m(self, key, method, tolerance)\u001b[0m\n\u001b[1;32m   2645\u001b[0m             \u001b[0;32mtry\u001b[0m\u001b[0;34m:\u001b[0m\u001b[0;34m\u001b[0m\u001b[0;34m\u001b[0m\u001b[0m\n\u001b[0;32m-> 2646\u001b[0;31m                 \u001b[0;32mreturn\u001b[0m \u001b[0mself\u001b[0m\u001b[0;34m.\u001b[0m\u001b[0m_engine\u001b[0m\u001b[0;34m.\u001b[0m\u001b[0mget_loc\u001b[0m\u001b[0;34m(\u001b[0m\u001b[0mkey\u001b[0m\u001b[0;34m)\u001b[0m\u001b[0;34m\u001b[0m\u001b[0;34m\u001b[0m\u001b[0m\n\u001b[0m\u001b[1;32m   2647\u001b[0m             \u001b[0;32mexcept\u001b[0m \u001b[0mKeyError\u001b[0m\u001b[0;34m:\u001b[0m\u001b[0;34m\u001b[0m\u001b[0;34m\u001b[0m\u001b[0m\n",
      "\u001b[0;32mpandas/_libs/index.pyx\u001b[0m in \u001b[0;36mpandas._libs.index.DatetimeEngine.get_loc\u001b[0;34m()\u001b[0m\n",
      "\u001b[0;32mpandas/_libs/index.pyx\u001b[0m in \u001b[0;36mpandas._libs.index.DatetimeEngine.get_loc\u001b[0;34m()\u001b[0m\n",
      "\u001b[0;31mKeyError\u001b[0m: Timestamp('2017-02-01 00:00:00')",
      "\nDuring handling of the above exception, another exception occurred:\n",
      "\u001b[0;31mKeyError\u001b[0m                                  Traceback (most recent call last)",
      "\u001b[0;32m~/anaconda3/lib/python3.7/site-packages/pandas/core/indexes/base.py\u001b[0m in \u001b[0;36mget_slice_bound\u001b[0;34m(self, label, side, kind)\u001b[0m\n\u001b[1;32m   4841\u001b[0m         \u001b[0;32mtry\u001b[0m\u001b[0;34m:\u001b[0m\u001b[0;34m\u001b[0m\u001b[0;34m\u001b[0m\u001b[0m\n\u001b[0;32m-> 4842\u001b[0;31m             \u001b[0mslc\u001b[0m \u001b[0;34m=\u001b[0m \u001b[0mself\u001b[0m\u001b[0;34m.\u001b[0m\u001b[0mget_loc\u001b[0m\u001b[0;34m(\u001b[0m\u001b[0mlabel\u001b[0m\u001b[0;34m)\u001b[0m\u001b[0;34m\u001b[0m\u001b[0;34m\u001b[0m\u001b[0m\n\u001b[0m\u001b[1;32m   4843\u001b[0m         \u001b[0;32mexcept\u001b[0m \u001b[0mKeyError\u001b[0m \u001b[0;32mas\u001b[0m \u001b[0merr\u001b[0m\u001b[0;34m:\u001b[0m\u001b[0;34m\u001b[0m\u001b[0;34m\u001b[0m\u001b[0m\n",
      "\u001b[0;32m~/anaconda3/lib/python3.7/site-packages/pandas/core/indexes/datetimes.py\u001b[0m in \u001b[0;36mget_loc\u001b[0;34m(self, key, method, tolerance)\u001b[0m\n\u001b[1;32m    698\u001b[0m                 \u001b[0mkey\u001b[0m \u001b[0;34m=\u001b[0m \u001b[0mTimestamp\u001b[0m\u001b[0;34m(\u001b[0m\u001b[0mkey\u001b[0m\u001b[0;34m)\u001b[0m\u001b[0;34m.\u001b[0m\u001b[0mtz_convert\u001b[0m\u001b[0;34m(\u001b[0m\u001b[0mself\u001b[0m\u001b[0;34m.\u001b[0m\u001b[0mtz\u001b[0m\u001b[0;34m)\u001b[0m\u001b[0;34m\u001b[0m\u001b[0;34m\u001b[0m\u001b[0m\n\u001b[0;32m--> 699\u001b[0;31m             \u001b[0;32mreturn\u001b[0m \u001b[0mIndex\u001b[0m\u001b[0;34m.\u001b[0m\u001b[0mget_loc\u001b[0m\u001b[0;34m(\u001b[0m\u001b[0mself\u001b[0m\u001b[0;34m,\u001b[0m \u001b[0mkey\u001b[0m\u001b[0;34m,\u001b[0m \u001b[0mmethod\u001b[0m\u001b[0;34m,\u001b[0m \u001b[0mtolerance\u001b[0m\u001b[0;34m)\u001b[0m\u001b[0;34m\u001b[0m\u001b[0;34m\u001b[0m\u001b[0m\n\u001b[0m\u001b[1;32m    700\u001b[0m \u001b[0;34m\u001b[0m\u001b[0m\n",
      "\u001b[0;32m~/anaconda3/lib/python3.7/site-packages/pandas/core/indexes/base.py\u001b[0m in \u001b[0;36mget_loc\u001b[0;34m(self, key, method, tolerance)\u001b[0m\n\u001b[1;32m   2647\u001b[0m             \u001b[0;32mexcept\u001b[0m \u001b[0mKeyError\u001b[0m\u001b[0;34m:\u001b[0m\u001b[0;34m\u001b[0m\u001b[0;34m\u001b[0m\u001b[0m\n\u001b[0;32m-> 2648\u001b[0;31m                 \u001b[0;32mreturn\u001b[0m \u001b[0mself\u001b[0m\u001b[0;34m.\u001b[0m\u001b[0m_engine\u001b[0m\u001b[0;34m.\u001b[0m\u001b[0mget_loc\u001b[0m\u001b[0;34m(\u001b[0m\u001b[0mself\u001b[0m\u001b[0;34m.\u001b[0m\u001b[0m_maybe_cast_indexer\u001b[0m\u001b[0;34m(\u001b[0m\u001b[0mkey\u001b[0m\u001b[0;34m)\u001b[0m\u001b[0;34m)\u001b[0m\u001b[0;34m\u001b[0m\u001b[0;34m\u001b[0m\u001b[0m\n\u001b[0m\u001b[1;32m   2649\u001b[0m         \u001b[0mindexer\u001b[0m \u001b[0;34m=\u001b[0m \u001b[0mself\u001b[0m\u001b[0;34m.\u001b[0m\u001b[0mget_indexer\u001b[0m\u001b[0;34m(\u001b[0m\u001b[0;34m[\u001b[0m\u001b[0mkey\u001b[0m\u001b[0;34m]\u001b[0m\u001b[0;34m,\u001b[0m \u001b[0mmethod\u001b[0m\u001b[0;34m=\u001b[0m\u001b[0mmethod\u001b[0m\u001b[0;34m,\u001b[0m \u001b[0mtolerance\u001b[0m\u001b[0;34m=\u001b[0m\u001b[0mtolerance\u001b[0m\u001b[0;34m)\u001b[0m\u001b[0;34m\u001b[0m\u001b[0;34m\u001b[0m\u001b[0m\n",
      "\u001b[0;32mpandas/_libs/index.pyx\u001b[0m in \u001b[0;36mpandas._libs.index.DatetimeEngine.get_loc\u001b[0;34m()\u001b[0m\n",
      "\u001b[0;32mpandas/_libs/index.pyx\u001b[0m in \u001b[0;36mpandas._libs.index.DatetimeEngine.get_loc\u001b[0;34m()\u001b[0m\n",
      "\u001b[0;31mKeyError\u001b[0m: Timestamp('2017-02-01 00:00:00')",
      "\nDuring handling of the above exception, another exception occurred:\n",
      "\u001b[0;31mTypeError\u001b[0m                                 Traceback (most recent call last)",
      "\u001b[0;32m<ipython-input-12-70a751c58474>\u001b[0m in \u001b[0;36m<module>\u001b[0;34m\u001b[0m\n\u001b[1;32m      2\u001b[0m         \u001b[0msymbol\u001b[0m\u001b[0;34m=\u001b[0m\u001b[0;34m'AUDUSD'\u001b[0m\u001b[0;34m,\u001b[0m\u001b[0;34m\u001b[0m\u001b[0;34m\u001b[0m\u001b[0m\n\u001b[1;32m      3\u001b[0m         \u001b[0mstart_datetime\u001b[0m\u001b[0;34m=\u001b[0m\u001b[0mstart\u001b[0m\u001b[0;34m,\u001b[0m\u001b[0;34m\u001b[0m\u001b[0;34m\u001b[0m\u001b[0m\n\u001b[0;32m----> 4\u001b[0;31m         end_datetime=stop)\n\u001b[0m\u001b[1;32m      5\u001b[0m \u001b[0;34m\u001b[0m\u001b[0m\n\u001b[1;32m      6\u001b[0m \u001b[0mprint\u001b[0m\u001b[0;34m(\u001b[0m\u001b[0;34mf'{tick_data_audusd.shape[0]:,} rows'\u001b[0m\u001b[0;34m)\u001b[0m\u001b[0;34m\u001b[0m\u001b[0;34m\u001b[0m\u001b[0m\n",
      "\u001b[0;32mnautilus_research/database.pyx\u001b[0m in \u001b[0;36mnautilus_research.database.MarketDataLibrary.read_ticks\u001b[0;34m()\u001b[0m\n",
      "\u001b[0;32mnautilus_research/database.pyx\u001b[0m in \u001b[0;36mnautilus_research.database.MarketDataLibrary.read_ticks\u001b[0;34m()\u001b[0m\n",
      "\u001b[0;32mnautilus_research/database.pyx\u001b[0m in \u001b[0;36mnautilus_research.database.MarketDataLibrary._read_timeseries\u001b[0;34m()\u001b[0m\n",
      "\u001b[0;32mnautilus_research/database.pyx\u001b[0m in \u001b[0;36mnautilus_research.database.MarketDataLibrary._slice_dataframe\u001b[0;34m()\u001b[0m\n",
      "\u001b[0;32m~/anaconda3/lib/python3.7/site-packages/pandas/core/frame.py\u001b[0m in \u001b[0;36m__getitem__\u001b[0;34m(self, key)\u001b[0m\n\u001b[1;32m   2777\u001b[0m \u001b[0;34m\u001b[0m\u001b[0m\n\u001b[1;32m   2778\u001b[0m         \u001b[0;31m# Do we have a slicer (on rows)?\u001b[0m\u001b[0;34m\u001b[0m\u001b[0;34m\u001b[0m\u001b[0;34m\u001b[0m\u001b[0m\n\u001b[0;32m-> 2779\u001b[0;31m         \u001b[0mindexer\u001b[0m \u001b[0;34m=\u001b[0m \u001b[0mconvert_to_index_sliceable\u001b[0m\u001b[0;34m(\u001b[0m\u001b[0mself\u001b[0m\u001b[0;34m,\u001b[0m \u001b[0mkey\u001b[0m\u001b[0;34m)\u001b[0m\u001b[0;34m\u001b[0m\u001b[0;34m\u001b[0m\u001b[0m\n\u001b[0m\u001b[1;32m   2780\u001b[0m         \u001b[0;32mif\u001b[0m \u001b[0mindexer\u001b[0m \u001b[0;32mis\u001b[0m \u001b[0;32mnot\u001b[0m \u001b[0;32mNone\u001b[0m\u001b[0;34m:\u001b[0m\u001b[0;34m\u001b[0m\u001b[0;34m\u001b[0m\u001b[0m\n\u001b[1;32m   2781\u001b[0m             \u001b[0;31m# either we have a slice or we have a string that can be converted\u001b[0m\u001b[0;34m\u001b[0m\u001b[0;34m\u001b[0m\u001b[0;34m\u001b[0m\u001b[0m\n",
      "\u001b[0;32m~/anaconda3/lib/python3.7/site-packages/pandas/core/indexing.py\u001b[0m in \u001b[0;36mconvert_to_index_sliceable\u001b[0;34m(obj, key)\u001b[0m\n\u001b[1;32m   2263\u001b[0m     \u001b[0midx\u001b[0m \u001b[0;34m=\u001b[0m \u001b[0mobj\u001b[0m\u001b[0;34m.\u001b[0m\u001b[0mindex\u001b[0m\u001b[0;34m\u001b[0m\u001b[0;34m\u001b[0m\u001b[0m\n\u001b[1;32m   2264\u001b[0m     \u001b[0;32mif\u001b[0m \u001b[0misinstance\u001b[0m\u001b[0;34m(\u001b[0m\u001b[0mkey\u001b[0m\u001b[0;34m,\u001b[0m \u001b[0mslice\u001b[0m\u001b[0;34m)\u001b[0m\u001b[0;34m:\u001b[0m\u001b[0;34m\u001b[0m\u001b[0;34m\u001b[0m\u001b[0m\n\u001b[0;32m-> 2265\u001b[0;31m         \u001b[0;32mreturn\u001b[0m \u001b[0midx\u001b[0m\u001b[0;34m.\u001b[0m\u001b[0m_convert_slice_indexer\u001b[0m\u001b[0;34m(\u001b[0m\u001b[0mkey\u001b[0m\u001b[0;34m,\u001b[0m \u001b[0mkind\u001b[0m\u001b[0;34m=\u001b[0m\u001b[0;34m\"getitem\"\u001b[0m\u001b[0;34m)\u001b[0m\u001b[0;34m\u001b[0m\u001b[0;34m\u001b[0m\u001b[0m\n\u001b[0m\u001b[1;32m   2266\u001b[0m \u001b[0;34m\u001b[0m\u001b[0m\n\u001b[1;32m   2267\u001b[0m     \u001b[0;32melif\u001b[0m \u001b[0misinstance\u001b[0m\u001b[0;34m(\u001b[0m\u001b[0mkey\u001b[0m\u001b[0;34m,\u001b[0m \u001b[0mstr\u001b[0m\u001b[0;34m)\u001b[0m\u001b[0;34m:\u001b[0m\u001b[0;34m\u001b[0m\u001b[0;34m\u001b[0m\u001b[0m\n",
      "\u001b[0;32m~/anaconda3/lib/python3.7/site-packages/pandas/core/indexes/base.py\u001b[0m in \u001b[0;36m_convert_slice_indexer\u001b[0;34m(self, key, kind)\u001b[0m\n\u001b[1;32m   2961\u001b[0m             \u001b[0mindexer\u001b[0m \u001b[0;34m=\u001b[0m \u001b[0mkey\u001b[0m\u001b[0;34m\u001b[0m\u001b[0;34m\u001b[0m\u001b[0m\n\u001b[1;32m   2962\u001b[0m         \u001b[0;32melse\u001b[0m\u001b[0;34m:\u001b[0m\u001b[0;34m\u001b[0m\u001b[0;34m\u001b[0m\u001b[0m\n\u001b[0;32m-> 2963\u001b[0;31m             \u001b[0mindexer\u001b[0m \u001b[0;34m=\u001b[0m \u001b[0mself\u001b[0m\u001b[0;34m.\u001b[0m\u001b[0mslice_indexer\u001b[0m\u001b[0;34m(\u001b[0m\u001b[0mstart\u001b[0m\u001b[0;34m,\u001b[0m \u001b[0mstop\u001b[0m\u001b[0;34m,\u001b[0m \u001b[0mstep\u001b[0m\u001b[0;34m,\u001b[0m \u001b[0mkind\u001b[0m\u001b[0;34m=\u001b[0m\u001b[0mkind\u001b[0m\u001b[0;34m)\u001b[0m\u001b[0;34m\u001b[0m\u001b[0;34m\u001b[0m\u001b[0m\n\u001b[0m\u001b[1;32m   2964\u001b[0m \u001b[0;34m\u001b[0m\u001b[0m\n\u001b[1;32m   2965\u001b[0m         \u001b[0;32mreturn\u001b[0m \u001b[0mindexer\u001b[0m\u001b[0;34m\u001b[0m\u001b[0;34m\u001b[0m\u001b[0m\n",
      "\u001b[0;32m~/anaconda3/lib/python3.7/site-packages/pandas/core/indexes/datetimes.py\u001b[0m in \u001b[0;36mslice_indexer\u001b[0;34m(self, start, end, step, kind)\u001b[0m\n\u001b[1;32m    806\u001b[0m \u001b[0;34m\u001b[0m\u001b[0m\n\u001b[1;32m    807\u001b[0m         \u001b[0;32mtry\u001b[0m\u001b[0;34m:\u001b[0m\u001b[0;34m\u001b[0m\u001b[0;34m\u001b[0m\u001b[0m\n\u001b[0;32m--> 808\u001b[0;31m             \u001b[0;32mreturn\u001b[0m \u001b[0mIndex\u001b[0m\u001b[0;34m.\u001b[0m\u001b[0mslice_indexer\u001b[0m\u001b[0;34m(\u001b[0m\u001b[0mself\u001b[0m\u001b[0;34m,\u001b[0m \u001b[0mstart\u001b[0m\u001b[0;34m,\u001b[0m \u001b[0mend\u001b[0m\u001b[0;34m,\u001b[0m \u001b[0mstep\u001b[0m\u001b[0;34m,\u001b[0m \u001b[0mkind\u001b[0m\u001b[0;34m=\u001b[0m\u001b[0mkind\u001b[0m\u001b[0;34m)\u001b[0m\u001b[0;34m\u001b[0m\u001b[0;34m\u001b[0m\u001b[0m\n\u001b[0m\u001b[1;32m    809\u001b[0m         \u001b[0;32mexcept\u001b[0m \u001b[0mKeyError\u001b[0m\u001b[0;34m:\u001b[0m\u001b[0;34m\u001b[0m\u001b[0;34m\u001b[0m\u001b[0m\n\u001b[1;32m    810\u001b[0m             \u001b[0;31m# For historical reasons DatetimeIndex by default supports\u001b[0m\u001b[0;34m\u001b[0m\u001b[0;34m\u001b[0m\u001b[0;34m\u001b[0m\u001b[0m\n",
      "\u001b[0;32m~/anaconda3/lib/python3.7/site-packages/pandas/core/indexes/base.py\u001b[0m in \u001b[0;36mslice_indexer\u001b[0;34m(self, start, end, step, kind)\u001b[0m\n\u001b[1;32m   4711\u001b[0m         \u001b[0mslice\u001b[0m\u001b[0;34m(\u001b[0m\u001b[0;36m1\u001b[0m\u001b[0;34m,\u001b[0m \u001b[0;36m3\u001b[0m\u001b[0;34m)\u001b[0m\u001b[0;34m\u001b[0m\u001b[0;34m\u001b[0m\u001b[0m\n\u001b[1;32m   4712\u001b[0m         \"\"\"\n\u001b[0;32m-> 4713\u001b[0;31m         \u001b[0mstart_slice\u001b[0m\u001b[0;34m,\u001b[0m \u001b[0mend_slice\u001b[0m \u001b[0;34m=\u001b[0m \u001b[0mself\u001b[0m\u001b[0;34m.\u001b[0m\u001b[0mslice_locs\u001b[0m\u001b[0;34m(\u001b[0m\u001b[0mstart\u001b[0m\u001b[0;34m,\u001b[0m \u001b[0mend\u001b[0m\u001b[0;34m,\u001b[0m \u001b[0mstep\u001b[0m\u001b[0;34m=\u001b[0m\u001b[0mstep\u001b[0m\u001b[0;34m,\u001b[0m \u001b[0mkind\u001b[0m\u001b[0;34m=\u001b[0m\u001b[0mkind\u001b[0m\u001b[0;34m)\u001b[0m\u001b[0;34m\u001b[0m\u001b[0;34m\u001b[0m\u001b[0m\n\u001b[0m\u001b[1;32m   4714\u001b[0m \u001b[0;34m\u001b[0m\u001b[0m\n\u001b[1;32m   4715\u001b[0m         \u001b[0;31m# return a slice\u001b[0m\u001b[0;34m\u001b[0m\u001b[0;34m\u001b[0m\u001b[0;34m\u001b[0m\u001b[0m\n",
      "\u001b[0;32m~/anaconda3/lib/python3.7/site-packages/pandas/core/indexes/base.py\u001b[0m in \u001b[0;36mslice_locs\u001b[0;34m(self, start, end, step, kind)\u001b[0m\n\u001b[1;32m   4924\u001b[0m         \u001b[0mstart_slice\u001b[0m \u001b[0;34m=\u001b[0m \u001b[0;32mNone\u001b[0m\u001b[0;34m\u001b[0m\u001b[0;34m\u001b[0m\u001b[0m\n\u001b[1;32m   4925\u001b[0m         \u001b[0;32mif\u001b[0m \u001b[0mstart\u001b[0m \u001b[0;32mis\u001b[0m \u001b[0;32mnot\u001b[0m \u001b[0;32mNone\u001b[0m\u001b[0;34m:\u001b[0m\u001b[0;34m\u001b[0m\u001b[0;34m\u001b[0m\u001b[0m\n\u001b[0;32m-> 4926\u001b[0;31m             \u001b[0mstart_slice\u001b[0m \u001b[0;34m=\u001b[0m \u001b[0mself\u001b[0m\u001b[0;34m.\u001b[0m\u001b[0mget_slice_bound\u001b[0m\u001b[0;34m(\u001b[0m\u001b[0mstart\u001b[0m\u001b[0;34m,\u001b[0m \u001b[0;34m\"left\"\u001b[0m\u001b[0;34m,\u001b[0m \u001b[0mkind\u001b[0m\u001b[0;34m)\u001b[0m\u001b[0;34m\u001b[0m\u001b[0;34m\u001b[0m\u001b[0m\n\u001b[0m\u001b[1;32m   4927\u001b[0m         \u001b[0;32mif\u001b[0m \u001b[0mstart_slice\u001b[0m \u001b[0;32mis\u001b[0m \u001b[0;32mNone\u001b[0m\u001b[0;34m:\u001b[0m\u001b[0;34m\u001b[0m\u001b[0;34m\u001b[0m\u001b[0m\n\u001b[1;32m   4928\u001b[0m             \u001b[0mstart_slice\u001b[0m \u001b[0;34m=\u001b[0m \u001b[0;36m0\u001b[0m\u001b[0;34m\u001b[0m\u001b[0;34m\u001b[0m\u001b[0m\n",
      "\u001b[0;32m~/anaconda3/lib/python3.7/site-packages/pandas/core/indexes/base.py\u001b[0m in \u001b[0;36mget_slice_bound\u001b[0;34m(self, label, side, kind)\u001b[0m\n\u001b[1;32m   4843\u001b[0m         \u001b[0;32mexcept\u001b[0m \u001b[0mKeyError\u001b[0m \u001b[0;32mas\u001b[0m \u001b[0merr\u001b[0m\u001b[0;34m:\u001b[0m\u001b[0;34m\u001b[0m\u001b[0;34m\u001b[0m\u001b[0m\n\u001b[1;32m   4844\u001b[0m             \u001b[0;32mtry\u001b[0m\u001b[0;34m:\u001b[0m\u001b[0;34m\u001b[0m\u001b[0;34m\u001b[0m\u001b[0m\n\u001b[0;32m-> 4845\u001b[0;31m                 \u001b[0;32mreturn\u001b[0m \u001b[0mself\u001b[0m\u001b[0;34m.\u001b[0m\u001b[0m_searchsorted_monotonic\u001b[0m\u001b[0;34m(\u001b[0m\u001b[0mlabel\u001b[0m\u001b[0;34m,\u001b[0m \u001b[0mside\u001b[0m\u001b[0;34m)\u001b[0m\u001b[0;34m\u001b[0m\u001b[0;34m\u001b[0m\u001b[0m\n\u001b[0m\u001b[1;32m   4846\u001b[0m             \u001b[0;32mexcept\u001b[0m \u001b[0mValueError\u001b[0m\u001b[0;34m:\u001b[0m\u001b[0;34m\u001b[0m\u001b[0;34m\u001b[0m\u001b[0m\n\u001b[1;32m   4847\u001b[0m                 \u001b[0;31m# raise the original KeyError\u001b[0m\u001b[0;34m\u001b[0m\u001b[0;34m\u001b[0m\u001b[0;34m\u001b[0m\u001b[0m\n",
      "\u001b[0;32m~/anaconda3/lib/python3.7/site-packages/pandas/core/indexes/base.py\u001b[0m in \u001b[0;36m_searchsorted_monotonic\u001b[0;34m(self, label, side)\u001b[0m\n\u001b[1;32m   4794\u001b[0m     \u001b[0;32mdef\u001b[0m \u001b[0m_searchsorted_monotonic\u001b[0m\u001b[0;34m(\u001b[0m\u001b[0mself\u001b[0m\u001b[0;34m,\u001b[0m \u001b[0mlabel\u001b[0m\u001b[0;34m,\u001b[0m \u001b[0mside\u001b[0m\u001b[0;34m=\u001b[0m\u001b[0;34m\"left\"\u001b[0m\u001b[0;34m)\u001b[0m\u001b[0;34m:\u001b[0m\u001b[0;34m\u001b[0m\u001b[0;34m\u001b[0m\u001b[0m\n\u001b[1;32m   4795\u001b[0m         \u001b[0;32mif\u001b[0m \u001b[0mself\u001b[0m\u001b[0;34m.\u001b[0m\u001b[0mis_monotonic_increasing\u001b[0m\u001b[0;34m:\u001b[0m\u001b[0;34m\u001b[0m\u001b[0;34m\u001b[0m\u001b[0m\n\u001b[0;32m-> 4796\u001b[0;31m             \u001b[0;32mreturn\u001b[0m \u001b[0mself\u001b[0m\u001b[0;34m.\u001b[0m\u001b[0msearchsorted\u001b[0m\u001b[0;34m(\u001b[0m\u001b[0mlabel\u001b[0m\u001b[0;34m,\u001b[0m \u001b[0mside\u001b[0m\u001b[0;34m=\u001b[0m\u001b[0mside\u001b[0m\u001b[0;34m)\u001b[0m\u001b[0;34m\u001b[0m\u001b[0;34m\u001b[0m\u001b[0m\n\u001b[0m\u001b[1;32m   4797\u001b[0m         \u001b[0;32melif\u001b[0m \u001b[0mself\u001b[0m\u001b[0;34m.\u001b[0m\u001b[0mis_monotonic_decreasing\u001b[0m\u001b[0;34m:\u001b[0m\u001b[0;34m\u001b[0m\u001b[0;34m\u001b[0m\u001b[0m\n\u001b[1;32m   4798\u001b[0m             \u001b[0;31m# np.searchsorted expects ascending sort order, have to reverse\u001b[0m\u001b[0;34m\u001b[0m\u001b[0;34m\u001b[0m\u001b[0;34m\u001b[0m\u001b[0m\n",
      "\u001b[0;32m~/anaconda3/lib/python3.7/site-packages/pandas/core/indexes/datetimes.py\u001b[0m in \u001b[0;36msearchsorted\u001b[0;34m(self, value, side, sorter)\u001b[0m\n\u001b[1;32m    846\u001b[0m \u001b[0;34m\u001b[0m\u001b[0m\n\u001b[1;32m    847\u001b[0m         \u001b[0;32melif\u001b[0m \u001b[0misinstance\u001b[0m\u001b[0;34m(\u001b[0m\u001b[0mvalue\u001b[0m\u001b[0;34m,\u001b[0m \u001b[0mself\u001b[0m\u001b[0;34m.\u001b[0m\u001b[0m_data\u001b[0m\u001b[0;34m.\u001b[0m\u001b[0m_recognized_scalars\u001b[0m\u001b[0;34m)\u001b[0m\u001b[0;34m:\u001b[0m\u001b[0;34m\u001b[0m\u001b[0;34m\u001b[0m\u001b[0m\n\u001b[0;32m--> 848\u001b[0;31m             \u001b[0mself\u001b[0m\u001b[0;34m.\u001b[0m\u001b[0m_data\u001b[0m\u001b[0;34m.\u001b[0m\u001b[0m_check_compatible_with\u001b[0m\u001b[0;34m(\u001b[0m\u001b[0mvalue\u001b[0m\u001b[0;34m)\u001b[0m\u001b[0;34m\u001b[0m\u001b[0;34m\u001b[0m\u001b[0m\n\u001b[0m\u001b[1;32m    849\u001b[0m             \u001b[0mvalue\u001b[0m \u001b[0;34m=\u001b[0m \u001b[0mself\u001b[0m\u001b[0;34m.\u001b[0m\u001b[0m_data\u001b[0m\u001b[0;34m.\u001b[0m\u001b[0m_scalar_type\u001b[0m\u001b[0;34m(\u001b[0m\u001b[0mvalue\u001b[0m\u001b[0;34m)\u001b[0m\u001b[0;34m\u001b[0m\u001b[0;34m\u001b[0m\u001b[0m\n\u001b[1;32m    850\u001b[0m \u001b[0;34m\u001b[0m\u001b[0m\n",
      "\u001b[0;32m~/anaconda3/lib/python3.7/site-packages/pandas/core/arrays/datetimes.py\u001b[0m in \u001b[0;36m_check_compatible_with\u001b[0;34m(self, other, setitem)\u001b[0m\n\u001b[1;32m    460\u001b[0m         \u001b[0;32mif\u001b[0m \u001b[0mother\u001b[0m \u001b[0;32mis\u001b[0m \u001b[0mNaT\u001b[0m\u001b[0;34m:\u001b[0m\u001b[0;34m\u001b[0m\u001b[0;34m\u001b[0m\u001b[0m\n\u001b[1;32m    461\u001b[0m             \u001b[0;32mreturn\u001b[0m\u001b[0;34m\u001b[0m\u001b[0;34m\u001b[0m\u001b[0m\n\u001b[0;32m--> 462\u001b[0;31m         \u001b[0mself\u001b[0m\u001b[0;34m.\u001b[0m\u001b[0m_assert_tzawareness_compat\u001b[0m\u001b[0;34m(\u001b[0m\u001b[0mother\u001b[0m\u001b[0;34m)\u001b[0m\u001b[0;34m\u001b[0m\u001b[0;34m\u001b[0m\u001b[0m\n\u001b[0m\u001b[1;32m    463\u001b[0m         \u001b[0;32mif\u001b[0m \u001b[0msetitem\u001b[0m\u001b[0;34m:\u001b[0m\u001b[0;34m\u001b[0m\u001b[0;34m\u001b[0m\u001b[0m\n\u001b[1;32m    464\u001b[0m             \u001b[0;31m# Stricter check for setitem vs comparison methods\u001b[0m\u001b[0;34m\u001b[0m\u001b[0;34m\u001b[0m\u001b[0;34m\u001b[0m\u001b[0m\n",
      "\u001b[0;32m~/anaconda3/lib/python3.7/site-packages/pandas/core/arrays/datetimes.py\u001b[0m in \u001b[0;36m_assert_tzawareness_compat\u001b[0;34m(self, other)\u001b[0m\n\u001b[1;32m    641\u001b[0m             \u001b[0;32mif\u001b[0m \u001b[0mother_tz\u001b[0m \u001b[0;32mis\u001b[0m \u001b[0;32mnot\u001b[0m \u001b[0;32mNone\u001b[0m\u001b[0;34m:\u001b[0m\u001b[0;34m\u001b[0m\u001b[0;34m\u001b[0m\u001b[0m\n\u001b[1;32m    642\u001b[0m                 raise TypeError(\n\u001b[0;32m--> 643\u001b[0;31m                     \u001b[0;34m\"Cannot compare tz-naive and tz-aware datetime-like objects.\"\u001b[0m\u001b[0;34m\u001b[0m\u001b[0;34m\u001b[0m\u001b[0m\n\u001b[0m\u001b[1;32m    644\u001b[0m                 )\n\u001b[1;32m    645\u001b[0m         \u001b[0;32melif\u001b[0m \u001b[0mother_tz\u001b[0m \u001b[0;32mis\u001b[0m \u001b[0;32mNone\u001b[0m\u001b[0;34m:\u001b[0m\u001b[0;34m\u001b[0m\u001b[0;34m\u001b[0m\u001b[0m\n",
      "\u001b[0;31mTypeError\u001b[0m: Cannot compare tz-naive and tz-aware datetime-like objects."
     ]
    }
   ],
   "source": [
    "tick_data_audusd = library.read_ticks(\n",
    "        symbol='AUDUSD',\n",
    "        start_datetime=start,\n",
    "        end_datetime=stop)\n",
    "\n",
    "print(f'{tick_data_audusd.shape[0]:,} rows')\n",
    "print(f'{sys.getsizeof(tick_data_audusd):,} bytes')\n",
    "tick_data_audusd.head()"
   ]
  },
  {
   "cell_type": "code",
   "execution_count": null,
   "metadata": {},
   "outputs": [],
   "source": [
    "# tick_data_gbpusd = library.read_ticks(\n",
    "#         symbol='GBPUSD',\n",
    "#         start_datetime=start,\n",
    "#         end_datetime=stop)\n",
    "\n",
    "# print(f'{tick_data_gbpusd.shape[0]:,} rows')\n",
    "# print(f'{sys.getsizeof(tick_data_gbpusd):,} bytes')\n",
    "# tick_data_gbpusd.head()"
   ]
  },
  {
   "cell_type": "code",
   "execution_count": null,
   "metadata": {},
   "outputs": [],
   "source": [
    "# tick_data_eurusd = library.read_ticks(\n",
    "#         symbol='EURUSD',\n",
    "#         start_datetime=start,\n",
    "#         end_datetime=stop)\n",
    "\n",
    "# print(f'{tick_data_eurusd.shape[0]:,} rows')\n",
    "# print(f'{sys.getsizeof(tick_data_eurusd):,} bytes')\n",
    "# tick_data_eurusd.head()"
   ]
  },
  {
   "cell_type": "code",
   "execution_count": null,
   "metadata": {},
   "outputs": [],
   "source": [
    "# tick_data_usdjpy = library.read_ticks(\n",
    "#         symbol='USDJPY',\n",
    "#         start_datetime=start,\n",
    "#         end_datetime=stop)\n",
    "\n",
    "# print(f'{tick_data_usdjpy.shape[0]:,} rows')\n",
    "# print(f'{sys.getsizeof(tick_data_usdjpy):,} bytes')\n",
    "# tick_data_usdjpy.head()"
   ]
  },
  {
   "cell_type": "markdown",
   "metadata": {},
   "source": [
    "### Build Backtest Engine"
   ]
  },
  {
   "cell_type": "code",
   "execution_count": 13,
   "metadata": {},
   "outputs": [
    {
     "name": "stdout",
     "output_type": "stream",
     "text": [
      "nautilus_trader 1.18.1\n"
     ]
    }
   ],
   "source": [
    "from nautilus_trader.common.logger import LogLevel\n",
    "from nautilus_trader.model.enums import Currency, SecurityType, BarStructure, PriceType\n",
    "from nautilus_trader.model.identifiers import Venue, TraderId\n",
    "from nautilus_trader.backtest.loaders import InstrumentLoader\n",
    "from nautilus_trader.backtest.config import BacktestConfig\n",
    "from nautilus_trader.backtest.data import BacktestDataContainer\n",
    "from nautilus_trader.backtest.models import FillModel\n",
    "from nautilus_trader.backtest.engine import BacktestEngine\n",
    "\n",
    "from nautilus_trader import __version__ as n_trader_version\n",
    "print(f'nautilus_trader {n_trader_version}')"
   ]
  },
  {
   "cell_type": "code",
   "execution_count": 14,
   "metadata": {
    "pycharm": {
     "is_executing": false,
     "name": "#%%\n"
    }
   },
   "outputs": [
    {
     "ename": "NameError",
     "evalue": "name 'tick_data_audusd' is not defined",
     "output_type": "error",
     "traceback": [
      "\u001b[0;31m---------------------------------------------------------------------------\u001b[0m",
      "\u001b[0;31mNameError\u001b[0m                                 Traceback (most recent call last)",
      "\u001b[0;32m<ipython-input-14-48c5bbc84311>\u001b[0m in \u001b[0;36m<module>\u001b[0;34m\u001b[0m\n\u001b[1;32m      4\u001b[0m \u001b[0mdata\u001b[0m \u001b[0;34m=\u001b[0m \u001b[0mBacktestDataContainer\u001b[0m\u001b[0;34m(\u001b[0m\u001b[0;34m)\u001b[0m\u001b[0;34m\u001b[0m\u001b[0;34m\u001b[0m\u001b[0m\n\u001b[1;32m      5\u001b[0m \u001b[0mdata\u001b[0m\u001b[0;34m.\u001b[0m\u001b[0madd_instrument\u001b[0m\u001b[0;34m(\u001b[0m\u001b[0mAUDUSD\u001b[0m\u001b[0;34m)\u001b[0m\u001b[0;34m\u001b[0m\u001b[0;34m\u001b[0m\u001b[0m\n\u001b[0;32m----> 6\u001b[0;31m \u001b[0mdata\u001b[0m\u001b[0;34m.\u001b[0m\u001b[0madd_ticks\u001b[0m\u001b[0;34m(\u001b[0m\u001b[0mAUDUSD\u001b[0m\u001b[0;34m.\u001b[0m\u001b[0msymbol\u001b[0m\u001b[0;34m,\u001b[0m \u001b[0mtick_data_audusd\u001b[0m\u001b[0;34m)\u001b[0m\u001b[0;34m\u001b[0m\u001b[0;34m\u001b[0m\u001b[0m\n\u001b[0m\u001b[1;32m      7\u001b[0m \u001b[0;34m\u001b[0m\u001b[0m\n\u001b[1;32m      8\u001b[0m strategies = [EMACrossPy(\n",
      "\u001b[0;31mNameError\u001b[0m: name 'tick_data_audusd' is not defined"
     ]
    }
   ],
   "source": [
    "loader = InstrumentLoader()\n",
    "AUDUSD = loader.default_fx_ccy(Symbol('AUDUSD', Venue('FXCM')))  # Test Instrument\n",
    "\n",
    "data = BacktestDataContainer()\n",
    "data.add_instrument(AUDUSD)\n",
    "data.add_ticks(AUDUSD.symbol, tick_data_audusd)\n",
    "\n",
    "strategies = [EMACrossPy(\n",
    "    symbol=AUDUSD.symbol,\n",
    "    bar_spec=BarSpecification(200, BarStructure.TICK, PriceType.MID),\n",
    "    risk_bp=10,\n",
    "    fast_ema=10,\n",
    "    slow_ema=20,\n",
    "    atr_period=20,\n",
    "    sl_atr_multiple=2.0)]\n",
    "\n",
    "config = BacktestConfig(\n",
    "    exec_db_type='in-memory',\n",
    "    exec_db_flush=False,\n",
    "    frozen_account=False,\n",
    "    starting_capital=1000000,\n",
    "    account_currency=Currency.USD,\n",
    "    bypass_logging=False,\n",
    "    level_console=LogLevel.INFO,\n",
    "    level_file=LogLevel.DEBUG,\n",
    "    level_store=LogLevel.WARNING,\n",
    "    log_thread=False,\n",
    "    log_to_file=False)\n",
    "\n",
    "fill_model = FillModel(\n",
    "    prob_fill_at_limit=0.2,\n",
    "    prob_fill_at_stop=0.95,\n",
    "    prob_slippage=0.5,\n",
    "    random_seed=None)\n",
    "\n",
    "engine = BacktestEngine(\n",
    "    data=data,\n",
    "    strategies=strategies,\n",
    "    config=config,          # Optional (can be None)\n",
    "    fill_model=fill_model)  # Optional (can be None)"
   ]
  },
  {
   "cell_type": "code",
   "execution_count": null,
   "metadata": {},
   "outputs": [],
   "source": [
    "help(engine.run)"
   ]
  },
  {
   "cell_type": "code",
   "execution_count": null,
   "metadata": {
    "pycharm": {
     "is_executing": false,
     "name": "#%%\n"
    }
   },
   "outputs": [],
   "source": [
    "engine.run()"
   ]
  },
  {
   "cell_type": "code",
   "execution_count": null,
   "metadata": {},
   "outputs": [],
   "source": [
    "engine.trader.generate_account_report()"
   ]
  },
  {
   "cell_type": "code",
   "execution_count": null,
   "metadata": {},
   "outputs": [],
   "source": [
    "import matplotlib.pyplot as plt\n",
    "from pandas.plotting import register_matplotlib_converters\n",
    "\n",
    "register_matplotlib_converters()"
   ]
  },
  {
   "cell_type": "code",
   "execution_count": null,
   "metadata": {},
   "outputs": [],
   "source": [
    "plt.plot(engine.trader.generate_account_report()['cash_balance'])"
   ]
  },
  {
   "cell_type": "code",
   "execution_count": null,
   "metadata": {},
   "outputs": [],
   "source": [
    "engine.trader.generate_order_fills_report()"
   ]
  },
  {
   "cell_type": "code",
   "execution_count": null,
   "metadata": {},
   "outputs": [],
   "source": [
    "engine.trader.generate_positions_report()"
   ]
  },
  {
   "cell_type": "code",
   "execution_count": null,
   "metadata": {},
   "outputs": [],
   "source": []
  }
 ],
 "metadata": {
  "kernelspec": {
   "display_name": "Python 3",
   "language": "python",
   "name": "python3"
  },
  "language_info": {
   "codemirror_mode": {
    "name": "ipython",
    "version": 3
   },
   "file_extension": ".py",
   "mimetype": "text/x-python",
   "name": "python",
   "nbconvert_exporter": "python",
   "pygments_lexer": "ipython3",
   "version": "3.7.6"
  },
  "pycharm": {
   "stem_cell": {
    "cell_type": "raw",
    "metadata": {
     "collapsed": false
    },
    "source": []
   }
  }
 },
 "nbformat": 4,
 "nbformat_minor": 1
}
