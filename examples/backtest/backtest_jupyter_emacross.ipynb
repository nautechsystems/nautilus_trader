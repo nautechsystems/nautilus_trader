{
 "cells": [
  {
   "cell_type": "code",
   "execution_count": 1,
   "metadata": {
    "collapsed": true,
    "pycharm": {
     "is_executing": false
    }
   },
   "outputs": [],
   "source": [
    "import pandas as pd\n",
    "\n",
    "from datetime import datetime\n",
    "\n",
    "from nautilus_trader.common.logger import LogLevel\n",
    "from nautilus_trader.model.enums import Resolution, Currency\n",
    "from nautilus_trader.model.identifiers import Venue, TraderId\n",
    "from nautilus_trader.backtest.models import FillModel\n",
    "from nautilus_trader.backtest.config import BacktestConfig\n",
    "from nautilus_trader.backtest.engine import BacktestEngine\n",
    "from test_kit.data import TestDataProvider\n",
    "from test_kit.stubs import TestStubs\n",
    "from test_kit.strategies import EMACross"
   ]
  },
  {
   "cell_type": "code",
   "execution_count": 2,
   "outputs": [],
   "source": [
    "usdjpy = TestStubs.instrument_usdjpy()\n",
    "bid_data_1min = TestDataProvider.usdjpy_1min_bid()\n",
    "ask_data_1min = TestDataProvider.usdjpy_1min_ask()\n",
    "\n",
    "instruments = [TestStubs.instrument_usdjpy()]\n",
    "tick_data = {usdjpy.symbol: pd.DataFrame()}\n",
    "bid_data = {usdjpy.symbol: {Resolution.MINUTE: bid_data_1min}}\n",
    "ask_data = {usdjpy.symbol: {Resolution.MINUTE: ask_data_1min}}\n",
    "\n",
    "strategies = [EMACross(\n",
    "    instrument=usdjpy,\n",
    "    bar_spec=TestStubs.bar_spec_1min_bid(),\n",
    "    risk_bp=10,\n",
    "    fast_ema=10,\n",
    "    slow_ema=20,\n",
    "    atr_period=20,\n",
    "    sl_atr_multiple=2.0)]\n",
    "\n",
    "config = BacktestConfig(\n",
    "    exec_db_type='in-memory',\n",
    "    exec_db_flush=False,\n",
    "    frozen_account=False,\n",
    "    starting_capital=1000000,\n",
    "    account_currency=Currency.USD,\n",
    "    bypass_logging=False,\n",
    "    level_console=LogLevel.INFO,\n",
    "    level_file=LogLevel.DEBUG,\n",
    "    level_store=LogLevel.WARNING,\n",
    "    log_thread=False,\n",
    "    log_to_file=False)\n",
    "\n",
    "fill_model = FillModel(\n",
    "    prob_fill_at_limit=0.2,\n",
    "    prob_fill_at_stop=0.95,\n",
    "    prob_slippage=0.5,\n",
    "    random_seed=None)\n",
    "\n",
    "engine = BacktestEngine(\n",
    "    trader_id=TraderId('BACKTESTER', '001'),\n",
    "    venue=Venue('FXCM'),\n",
    "    instruments=instruments,\n",
    "    data_ticks=tick_data,\n",
    "    data_bars_bid=bid_data,\n",
    "    data_bars_ask=ask_data,\n",
    "    strategies=strategies,\n",
    "    fill_model=fill_model,\n",
    "    config=config)\n"
   ],
   "metadata": {
    "collapsed": false,
    "pycharm": {
     "name": "#%%\n",
     "is_executing": false
    }
   }
  },
  {
   "cell_type": "code",
   "execution_count": 3,
   "outputs": [],
   "source": [
    "start = datetime(2013, 2, 1, 0, 0, 0, 0)\n",
    "stop = datetime(2013, 3, 1, 1, 0, 0, 0)\n",
    "\n",
    "engine.run(start, stop)"
   ],
   "metadata": {
    "collapsed": false,
    "pycharm": {
     "name": "#%%\n",
     "is_executing": false
    }
   }
  },
  {
   "cell_type": "code",
   "execution_count": 5,
   "outputs": [],
   "source": [
    "print(engine.get_equity_curve().head())\n",
    "print(engine.get_order_fills_report())\n",
    "print(engine.get_positions_report())\n",
    "\n"
   ],
   "metadata": {
    "collapsed": false,
    "pycharm": {
     "name": "#%%\n",
     "is_executing": false
    }
   }
  }
 ],
 "metadata": {
  "kernelspec": {
   "name": "pycharm-fed94d40",
   "language": "python",
   "display_name": "PyCharm (nautilus_trader)"
  },
  "language_info": {
   "codemirror_mode": {
    "name": "ipython",
    "version": 2
   },
   "file_extension": ".py",
   "mimetype": "text/x-python",
   "name": "python",
   "nbconvert_exporter": "python",
   "pygments_lexer": "ipython2",
   "version": "2.7.6"
  },
  "pycharm": {
   "stem_cell": {
    "cell_type": "raw",
    "source": [],
    "metadata": {
     "collapsed": false
    }
   }
  }
 },
 "nbformat": 4,
 "nbformat_minor": 0
}