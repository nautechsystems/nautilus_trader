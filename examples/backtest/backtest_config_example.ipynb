{
 "cells": [
  {
   "cell_type": "code",
   "execution_count": 1,
   "id": "5d2f9457-1982-4b13-8a10-98bd64279a6a",
   "metadata": {},
   "outputs": [],
   "source": [
    "import os\n",
    "import pathlib\n",
    "import shutil\n",
    "from decimal import Decimal\n",
    "\n",
    "from nautilus_trader.common.providers import InstrumentProvider\n",
    "from nautilus_trader.model.bar import BarSpecification\n",
    "from nautilus_trader.model.currencies import USD\n",
    "from nautilus_trader.model.enums import BarAggregation\n",
    "from nautilus_trader.model.enums import PriceType\n",
    "\n",
    "from nautilus_trader.backtest.config import *\n",
    "from nautilus_trader.backtest.config import BacktestConfig, BacktestVenueConfig, BacktestDataConfig\n",
    "from nautilus_trader.backtest.data_loader import DataCatalog, DataLoader, CSVParser\n",
    "from tests.test_kit.providers import TestInstrumentProvider\n",
    "from tests.test_kit.strategies import EMACross\n",
    "from tests.test_kit import PACKAGE_ROOT\n",
    "from tests.test_kit.stubs import TestStubs\n",
    "\n",
    "TEST_DATA_DIR = str(pathlib.Path(PACKAGE_ROOT).joinpath(\"data\"))"
   ]
  },
  {
   "cell_type": "markdown",
   "id": "3a26dc97-d9ce-436a-9299-c01c3057d82c",
   "metadata": {},
   "source": [
    "### Firstly we need to load some data into the DataCatalog"
   ]
  },
  {
   "cell_type": "code",
   "execution_count": 2,
   "id": "0bff503a-1c60-4b3b-92c5-d6f8be654f24",
   "metadata": {},
   "outputs": [],
   "source": [
    "# Set a path for the catalog\n",
    "path = pathlib.Path.cwd() / \"catalog\"\n",
    "if path.exists():\n",
    "    shutil.rmtree(path.absolute())\n",
    "path.mkdir(exist_ok=True)\n",
    "os.environ.update({\"NAUTILUS_BACKTEST_DIR\": str(path)})"
   ]
  },
  {
   "cell_type": "code",
   "execution_count": 3,
   "id": "d47522ed-37c3-4a57-8772-b97369b970e2",
   "metadata": {},
   "outputs": [
    {
     "name": "stderr",
     "output_type": "stream",
     "text": [
      "100%|██████████| 1/1 [00:02<00:00,  2.08s/it]\n"
     ]
    }
   ],
   "source": [
    "# Load one of the CSV test files into the DataCatalog\n",
    "from functools import partial\n",
    "\n",
    "def parse_csv_tick(df, instrument_id, state=None):\n",
    "    from nautilus_trader.core.datetime import secs_to_nanos\n",
    "    from nautilus_trader.model.objects import Price\n",
    "    from nautilus_trader.model.objects import Quantity\n",
    "\n",
    "    yield TestInstrumentProvider.default_fx_ccy(\"AUD/USD\")\n",
    "    for r in df.values:\n",
    "        ts = secs_to_nanos(pd.Timestamp(r[0]).timestamp())\n",
    "        tick = QuoteTick(\n",
    "            instrument_id=instrument_id,\n",
    "            bid=Price.from_str(str(r[1])),\n",
    "            ask=Price.from_str(str(r[2])),\n",
    "            bid_size=Quantity.from_int(1_000_000),\n",
    "            ask_size=Quantity.from_int(1_000_000),\n",
    "            ts_event_ns=ts,\n",
    "            ts_recv_ns=ts,\n",
    "        )\n",
    "        yield tick\n",
    "\n",
    "instrument_provider = InstrumentProvider()\n",
    "instrument_provider.add(TestInstrumentProvider.default_fx_ccy(\"AUD/USD\"))\n",
    "loader = DataLoader(\n",
    "    path=TEST_DATA_DIR,\n",
    "    parser=CSVParser(\n",
    "        parser=partial(parse_csv_tick, instrument_id=TestStubs.audusd_id())\n",
    "    ),\n",
    "    glob_pattern=\"truefx-audusd-ticks.csv\",\n",
    "    instrument_provider=instrument_provider,\n",
    ")\n",
    "\n",
    "catalog = DataCatalog()\n",
    "catalog.import_from_data_loader(loader=loader, progress=True)\n",
    "assert len(catalog.instruments()) == 1\n",
    "assert len(catalog.quote_ticks()) == 100000"
   ]
  },
  {
   "cell_type": "markdown",
   "id": "b594cc18-5c46-43ff-b6d7-bf22cd95383f",
   "metadata": {},
   "source": [
    "### Use the new `BacktestConfig` object to incrementally build up a backtest configuration\n",
    "\n",
    "The `BacktestConfig` object takes similar configuration to the engine; `venues`, `instruments`, `data` and `strategies`. \n",
    "\n",
    "The benefit though, is that it can be partially configured (instantiated partially and/or with `update` method) and duplicated with ease (via the `replace` method which returns a copy)."
   ]
  },
  {
   "cell_type": "code",
   "execution_count": 4,
   "id": "f8ff310d-67c9-47c4-8f16-6eb7515a6693",
   "metadata": {},
   "outputs": [
    {
     "data": {
      "text/plain": [
       "Partial-BacktestConfig(venues=[BacktestVenueConfig(name='SIM', venue_type='ECN', oms_type='HEDGING', account_type='MARGIN', base_currency=Currency(code=USD, name=United States dollar, precision=2, iso4217=840, type=FIAT), starting_balances=[Money('1000000.00', USD)], fill_model=None, modules=None)], instruments=None, data_config=None, strategies=None, name=None)"
      ]
     },
     "execution_count": 4,
     "metadata": {},
     "output_type": "execute_result"
    }
   ],
   "source": [
    "# Create a `base` config object to be shared with all backtests\n",
    "base = BacktestConfig(\n",
    "    venues=[\n",
    "        BacktestVenueConfig(\n",
    "            name=\"SIM\",\n",
    "            venue_type=\"ECN\",\n",
    "            oms_type=\"HEDGING\",\n",
    "            account_type=\"MARGIN\",\n",
    "            base_currency=USD,\n",
    "            starting_balances=[Money(1_000_000, USD)],\n",
    "        )\n",
    "    ]\n",
    ")\n",
    "base"
   ]
  },
  {
   "cell_type": "markdown",
   "id": "a851842e-c0da-4f3c-97db-c61537436b10",
   "metadata": {},
   "source": [
    "**Notice the `Partial-` prefix, indicating the object is not fully configured.**\n",
    "\n",
    "We can confirm this by using the `check` method, which confirms we have required config remaining"
   ]
  },
  {
   "cell_type": "code",
   "execution_count": 5,
   "id": "7b78bb95-e6c5-466d-9f1c-c6e189a028bb",
   "metadata": {},
   "outputs": [
    {
     "ename": "AssertionError",
     "evalue": "Missing fields: ['instruments', 'data_config', 'strategies', 'name']",
     "output_type": "error",
     "traceback": [
      "\u001b[0;31m---------------------------------------------------------------------------\u001b[0m",
      "\u001b[0;31mAssertionError\u001b[0m                            Traceback (most recent call last)",
      "\u001b[0;32m<ipython-input-5-8fde26f4c673>\u001b[0m in \u001b[0;36m<module>\u001b[0;34m\u001b[0m\n\u001b[0;32m----> 1\u001b[0;31m \u001b[0mbase\u001b[0m\u001b[0;34m.\u001b[0m\u001b[0mcheck\u001b[0m\u001b[0;34m(\u001b[0m\u001b[0;34m)\u001b[0m\u001b[0;34m\u001b[0m\u001b[0;34m\u001b[0m\u001b[0m\n\u001b[0m",
      "\u001b[0;32m~/projects/nautilus_trader_gh/nautilus_trader/backtest/config.py\u001b[0m in \u001b[0;36mcheck\u001b[0;34m(self, ignore)\u001b[0m\n\u001b[1;32m     34\u001b[0m         \u001b[0mmissing\u001b[0m \u001b[0;34m=\u001b[0m \u001b[0;34m[\u001b[0m\u001b[0mm\u001b[0m \u001b[0;32mfor\u001b[0m \u001b[0mm\u001b[0m \u001b[0;32min\u001b[0m \u001b[0mself\u001b[0m\u001b[0;34m.\u001b[0m\u001b[0mmissing\u001b[0m\u001b[0;34m(\u001b[0m\u001b[0;34m)\u001b[0m \u001b[0;32mif\u001b[0m \u001b[0mm\u001b[0m \u001b[0;32mnot\u001b[0m \u001b[0;32min\u001b[0m \u001b[0;34m(\u001b[0m\u001b[0mignore\u001b[0m \u001b[0;32mor\u001b[0m \u001b[0;34m{\u001b[0m\u001b[0;34m}\u001b[0m\u001b[0;34m)\u001b[0m\u001b[0;34m]\u001b[0m\u001b[0;34m\u001b[0m\u001b[0;34m\u001b[0m\u001b[0m\n\u001b[1;32m     35\u001b[0m         \u001b[0;32mif\u001b[0m \u001b[0mmissing\u001b[0m\u001b[0;34m:\u001b[0m\u001b[0;34m\u001b[0m\u001b[0;34m\u001b[0m\u001b[0m\n\u001b[0;32m---> 36\u001b[0;31m             \u001b[0;32mraise\u001b[0m \u001b[0mAssertionError\u001b[0m\u001b[0;34m(\u001b[0m\u001b[0;34mf\"Missing fields: {missing}\"\u001b[0m\u001b[0;34m)\u001b[0m\u001b[0;34m\u001b[0m\u001b[0;34m\u001b[0m\u001b[0m\n\u001b[0m\u001b[1;32m     37\u001b[0m \u001b[0;34m\u001b[0m\u001b[0m\n\u001b[1;32m     38\u001b[0m     \u001b[0;32mdef\u001b[0m \u001b[0mupdate\u001b[0m\u001b[0;34m(\u001b[0m\u001b[0mself\u001b[0m\u001b[0;34m,\u001b[0m \u001b[0;34m**\u001b[0m\u001b[0mkwargs\u001b[0m\u001b[0;34m)\u001b[0m\u001b[0;34m:\u001b[0m\u001b[0;34m\u001b[0m\u001b[0;34m\u001b[0m\u001b[0m\n",
      "\u001b[0;31mAssertionError\u001b[0m: Missing fields: ['instruments', 'data_config', 'strategies', 'name']"
     ]
    }
   ],
   "source": [
    "base.check()"
   ]
  },
  {
   "cell_type": "markdown",
   "id": "bb055fb4-c55d-4b6b-88c2-7b1028ba2c2e",
   "metadata": {},
   "source": [
    "#### We can continue to configure the backtest via `update`\n",
    "\n",
    "The `data_config` arg allows adding multiple data types (quotes, trades, generic_data), but for one specific backtest run"
   ]
  },
  {
   "cell_type": "code",
   "execution_count": 6,
   "id": "47e3fc5b-3d1a-4b04-9721-1d9929fb6f52",
   "metadata": {},
   "outputs": [
    {
     "data": {
      "text/plain": [
       "Partial-BacktestConfig(venues=[BacktestVenueConfig(name='SIM', venue_type='ECN', oms_type='HEDGING', account_type='MARGIN', base_currency=Currency(code=USD, name=United States dollar, precision=2, iso4217=840, type=FIAT), starting_balances=[Money('1000000.00', USD)], fill_model=None, modules=None)], instruments=[CurrencySpot(id=AUD/USD.SIM, symbol=AUD/USD, asset_class=FX, asset_type=SPOT, quote_currency=USD, is_inverse=False, price_precision=5, price_increment=0.00001, size_precision=0, size_increment=1, multiplier=1, lot_size=1000, margin_init=0.03, margin_maint=0.03, maker_fee=0.00002, taker_fee=0.00002, info=None)], data_config=[BacktestDataConfig(data_type=<class 'nautilus_trader.model.tick.QuoteTick'>, instrument_id='AUD/USD.SIM', start_time=1580398089820000000, end_time=1580504394501000000, filters=None)], strategies=None, name=None)"
      ]
     },
     "execution_count": 6,
     "metadata": {},
     "output_type": "execute_result"
    }
   ],
   "source": [
    "# Add some specific data and instruments\n",
    "instrument = TestInstrumentProvider.default_fx_ccy(\"AUD/USD\", venue=Venue(\"SIM\"))\n",
    "\n",
    "data_config=[\n",
    "    BacktestDataConfig(\n",
    "        data_type=QuoteTick,\n",
    "        instrument_id=instrument.id.value,\n",
    "        start_time=1580398089820000000,\n",
    "        end_time=1580504394501000000,\n",
    "    )\n",
    "]\n",
    "\n",
    "config = base.update(\n",
    "    instruments=[instrument],\n",
    "    data_config=data_config,\n",
    ")\n",
    "\n",
    "config"
   ]
  },
  {
   "cell_type": "markdown",
   "id": "622f1694-f81c-4d49-a0f8-771586452d15",
   "metadata": {},
   "source": [
    "### Finally, we can perform a grid-search of some parameters by using the `replace` method, which returns a new copy of the config\n",
    "\n",
    "Note here the `strategy` is actually a tuple of (`TradingStrategy` class, `kwargs` dict), as we can't (currently) serialize a trading strategy to send to dask workers."
   ]
  },
  {
   "cell_type": "code",
   "execution_count": 7,
   "id": "5ebffb50-74ce-446e-97cf-541b0f74c61b",
   "metadata": {},
   "outputs": [],
   "source": [
    "PARAM_SET = [\n",
    "    {\"fast_ema\": 10, \"slow_ema\": 20},\n",
    "    {\"fast_ema\": 20, \"slow_ema\": 30},\n",
    "    {\"fast_ema\": 30, \"slow_ema\": 40},\n",
    "]\n",
    "\n",
    "configs = []\n",
    "for params in PARAM_SET:\n",
    "    strategy = (\n",
    "        EMACross,\n",
    "        dict(\n",
    "            instrument_id=instrument.id,\n",
    "            bar_spec=BarSpecification(15, BarAggregation.MINUTE, PriceType.BID),\n",
    "            trade_size=Decimal(1_000_000),\n",
    "            **params\n",
    "        ),\n",
    "    )\n",
    "    # Create the final config\n",
    "    new = config.replace(strategies=[strategy])\n",
    "    \n",
    "    configs.append(new)"
   ]
  },
  {
   "cell_type": "markdown",
   "id": "46142116-e369-4781-89e0-02e24cabb695",
   "metadata": {},
   "source": [
    "You can also optionally assign a `name` to the config, otherwise an unique hash will be generated"
   ]
  },
  {
   "cell_type": "markdown",
   "id": "ee552938-c6e6-44bc-9e5f-0a3df53097dd",
   "metadata": {},
   "source": [
    "### This creates 3 sets of parameters to run over"
   ]
  },
  {
   "cell_type": "code",
   "execution_count": 8,
   "id": "68e9fdaf-81a7-4297-9fbc-e119ce2383ac",
   "metadata": {},
   "outputs": [
    {
     "data": {
      "text/plain": [
       "[Partial-BacktestConfig(venues=[BacktestVenueConfig(name='SIM', venue_type='ECN', oms_type='HEDGING', account_type='MARGIN', base_currency=Currency(code=USD, name=United States dollar, precision=2, iso4217=840, type=FIAT), starting_balances=[Money('1000000.00', USD)], fill_model=None, modules=None)], instruments=[CurrencySpot(id=AUD/USD.SIM, symbol=AUD/USD, asset_class=FX, asset_type=SPOT, quote_currency=USD, is_inverse=False, price_precision=5, price_increment=0.00001, size_precision=0, size_increment=1, multiplier=1, lot_size=1000, margin_init=0.03, margin_maint=0.03, maker_fee=0.00002, taker_fee=0.00002, info=None)], data_config=[BacktestDataConfig(data_type=<class 'nautilus_trader.model.tick.QuoteTick'>, instrument_id='AUD/USD.SIM', start_time=1580398089820000000, end_time=1580504394501000000, filters=None)], strategies=[(<class 'tests.test_kit.strategies.EMACross'>, {'instrument_id': InstrumentId('AUD/USD.SIM'), 'bar_spec': BarSpecification(15-MINUTE-BID), 'trade_size': Decimal('1000000'), 'fast_ema': 10, 'slow_ema': 20})], name=None),\n",
       " Partial-BacktestConfig(venues=[BacktestVenueConfig(name='SIM', venue_type='ECN', oms_type='HEDGING', account_type='MARGIN', base_currency=Currency(code=USD, name=United States dollar, precision=2, iso4217=840, type=FIAT), starting_balances=[Money('1000000.00', USD)], fill_model=None, modules=None)], instruments=[CurrencySpot(id=AUD/USD.SIM, symbol=AUD/USD, asset_class=FX, asset_type=SPOT, quote_currency=USD, is_inverse=False, price_precision=5, price_increment=0.00001, size_precision=0, size_increment=1, multiplier=1, lot_size=1000, margin_init=0.03, margin_maint=0.03, maker_fee=0.00002, taker_fee=0.00002, info=None)], data_config=[BacktestDataConfig(data_type=<class 'nautilus_trader.model.tick.QuoteTick'>, instrument_id='AUD/USD.SIM', start_time=1580398089820000000, end_time=1580504394501000000, filters=None)], strategies=[(<class 'tests.test_kit.strategies.EMACross'>, {'instrument_id': InstrumentId('AUD/USD.SIM'), 'bar_spec': BarSpecification(15-MINUTE-BID), 'trade_size': Decimal('1000000'), 'fast_ema': 20, 'slow_ema': 30})], name=None),\n",
       " Partial-BacktestConfig(venues=[BacktestVenueConfig(name='SIM', venue_type='ECN', oms_type='HEDGING', account_type='MARGIN', base_currency=Currency(code=USD, name=United States dollar, precision=2, iso4217=840, type=FIAT), starting_balances=[Money('1000000.00', USD)], fill_model=None, modules=None)], instruments=[CurrencySpot(id=AUD/USD.SIM, symbol=AUD/USD, asset_class=FX, asset_type=SPOT, quote_currency=USD, is_inverse=False, price_precision=5, price_increment=0.00001, size_precision=0, size_increment=1, multiplier=1, lot_size=1000, margin_init=0.03, margin_maint=0.03, maker_fee=0.00002, taker_fee=0.00002, info=None)], data_config=[BacktestDataConfig(data_type=<class 'nautilus_trader.model.tick.QuoteTick'>, instrument_id='AUD/USD.SIM', start_time=1580398089820000000, end_time=1580504394501000000, filters=None)], strategies=[(<class 'tests.test_kit.strategies.EMACross'>, {'instrument_id': InstrumentId('AUD/USD.SIM'), 'bar_spec': BarSpecification(15-MINUTE-BID), 'trade_size': Decimal('1000000'), 'fast_ema': 30, 'slow_ema': 40})], name=None)]"
      ]
     },
     "execution_count": 8,
     "metadata": {},
     "output_type": "execute_result"
    }
   ],
   "source": [
    "configs"
   ]
  },
  {
   "cell_type": "markdown",
   "id": "7792efde-f672-43c3-98d5-1263acdade0f",
   "metadata": {},
   "source": [
    "### The `build_graph` function turns one or more configs into a dask task graph (delayed object)."
   ]
  },
  {
   "cell_type": "code",
   "execution_count": 9,
   "id": "1ce4d33c-0dd1-4e14-970a-3ad93ed6287e",
   "metadata": {},
   "outputs": [
    {
     "data": {
      "text/plain": [
       "Delayed('gather-b3fb00a0-70c2-486e-9e57-9f5a5eb85196')"
      ]
     },
     "execution_count": 9,
     "metadata": {},
     "output_type": "execute_result"
    }
   ],
   "source": [
    "task = build_graph(configs)\n",
    "task"
   ]
  },
  {
   "cell_type": "code",
   "execution_count": 10,
   "id": "1ec06050-5e35-40f0-9ed4-c20b7f77bccf",
   "metadata": {},
   "outputs": [
    {
     "data": {
      "image/png": "[encoded data removed]",
      "text/plain": [
       "<IPython.core.display.Image object>"
      ]
     },
     "execution_count": 10,
     "metadata": {},
     "output_type": "execute_result"
    }
   ],
   "source": [
    "task.visualize(rankdir='LR')"
   ]
  },
  {
   "cell_type": "markdown",
   "id": "e380542f-8496-4178-9efa-985d2f573d67",
   "metadata": {},
   "source": [
    "#### Notice because our configs share the same data that only one instance of `load` is required"
   ]
  },
  {
   "cell_type": "markdown",
   "id": "39553f8b-2976-4a22-ad69-2329c01e8b0f",
   "metadata": {},
   "source": [
    "### Start up a local dask cluster to execute the graph"
   ]
  },
  {
   "cell_type": "code",
   "execution_count": 11,
   "id": "1b6e2935-17c6-40d9-9a08-ef011df19631",
   "metadata": {},
   "outputs": [
    {
     "name": "stderr",
     "output_type": "stream",
     "text": [
      "/Users/bradleymcelroy/Library/Caches/pypoetry/virtualenvs/nautilus-trader-9CWMrM3f-py3.9/lib/python3.9/site-packages/distributed/node.py:160: UserWarning: Port 8787 is already in use.\n",
      "Perhaps you already have a cluster running?\n",
      "Hosting the HTTP server on port 60191 instead\n",
      "  warnings.warn(\n"
     ]
    },
    {
     "data": {
      "text/html": [
       "\n",
       "            <div>\n",
       "                <div style=\"\n",
       "                    width: 24px;\n",
       "                    height: 24px;\n",
       "                    background-color: #e1e1e1;\n",
       "                    border: 3px solid #9D9D9D;\n",
       "                    border-radius: 5px;\n",
       "                    position: absolute;\"> </div>\n",
       "                <div style=\"margin-left: 48px;\">\n",
       "                    <h3 style=\"margin-bottom: 0px;\">Client</h3>\n",
       "                    <p style=\"color: #9D9D9D; margin-bottom: 0px;\">Client-efa6192a-dafe-11eb-9ad7-1e00ea3c4726</p>\n",
       "                    <table style=\"width: 100%; text-align: left;\">\n",
       "                    \n",
       "                <tr>\n",
       "                    <td style=\"text-align: left;\"><strong>Connection method:</strong> Cluster object</td>\n",
       "                    <td style=\"text-align: left;\"><strong>Cluster type:</strong> LocalCluster</td>\n",
       "                </tr>\n",
       "                \n",
       "                <tr>\n",
       "                    <td style=\"text-align: left;\">\n",
       "                        <strong>Dashboard: </strong>\n",
       "                        <a href=\"http://127.0.0.1:60191/status\">http://127.0.0.1:60191/status</a>\n",
       "                    </td>\n",
       "                    <td style=\"text-align: left;\"></td>\n",
       "                </tr>\n",
       "                \n",
       "                    </table>\n",
       "                    \n",
       "                <details>\n",
       "                <summary style=\"margin-bottom: 20px;\"><h3 style=\"display: inline;\">Cluster Info</h3></summary>\n",
       "                \n",
       "            <div class=\"jp-RenderedHTMLCommon jp-RenderedHTML jp-mod-trusted jp-OutputArea-output\">\n",
       "                <div style=\"\n",
       "                    width: 24px;\n",
       "                    height: 24px;\n",
       "                    background-color: #e1e1e1;\n",
       "                    border: 3px solid #9D9D9D;\n",
       "                    border-radius: 5px;\n",
       "                    position: absolute;\"> </div>\n",
       "                <div style=\"margin-left: 48px;\">\n",
       "                    <h3 style=\"margin-bottom: 0px; margin-top: 0px;\">LocalCluster</h3>\n",
       "                    <p style=\"color: #9D9D9D; margin-bottom: 0px;\">03b48c0b</p>\n",
       "                    <table style=\"width: 100%; text-align: left;\">\n",
       "                    \n",
       "            <tr>\n",
       "                <td style=\"text-align: left;\"><strong>Status:</strong> running</td>\n",
       "                <td style=\"text-align: left;\"><strong>Using processes:</strong> True</td>\n",
       "            </tr>\n",
       "        \n",
       "            <tr>\n",
       "                <td style=\"text-align: left;\">\n",
       "                    <strong>Dashboard:</strong> <a href=\"http://127.0.0.1:60191/status\">http://127.0.0.1:60191/status</a>\n",
       "                </td>\n",
       "                <td style=\"text-align: left;\"><strong>Workers:</strong> 2</td>\n",
       "            </tr>\n",
       "            <tr>\n",
       "                <td style=\"text-align: left;\">\n",
       "                    <strong>Total threads:</strong>\n",
       "                    8\n",
       "                </td>\n",
       "                <td style=\"text-align: left;\">\n",
       "                    <strong>Total memory:</strong>\n",
       "                    16.00 GiB\n",
       "                </td>\n",
       "            </tr>\n",
       "        \n",
       "                    </table>\n",
       "                    <details>\n",
       "                    <summary style=\"margin-bottom: 20px;\"><h3 style=\"display: inline;\">Scheduler Info</h3></summary>\n",
       "                    \n",
       "        <div style=\"\">\n",
       "            \n",
       "            <div>\n",
       "                <div style=\"\n",
       "                    width: 24px;\n",
       "                    height: 24px;\n",
       "                    background-color: #FFF7E5;\n",
       "                    border: 3px solid #FF6132;\n",
       "                    border-radius: 5px;\n",
       "                    position: absolute;\"> </div>\n",
       "                <div style=\"margin-left: 48px;\">\n",
       "                    <h3 style=\"margin-bottom: 0px;\">Scheduler</h3>\n",
       "                    <p style=\"color: #9D9D9D; margin-bottom: 0px;\">Scheduler-5a3073f6-0055-4000-888a-033e36ee937c</p>\n",
       "                    <table style=\"width: 100%; text-align: left;\">\n",
       "                        <tr>\n",
       "                            <td style=\"text-align: left;\"><strong>Comm:</strong> tcp://127.0.0.1:60192</td>\n",
       "                            <td style=\"text-align: left;\"><strong>Workers:</strong> 2</td>\n",
       "                        </tr>\n",
       "                        <tr>\n",
       "                            <td style=\"text-align: left;\">\n",
       "                                <strong>Dashboard:</strong> <a href=\"http://127.0.0.1:60191/status\">http://127.0.0.1:60191/status</a>\n",
       "                            </td>\n",
       "                            <td style=\"text-align: left;\">\n",
       "                                <strong>Total threads:</strong>\n",
       "                                8\n",
       "                            </td>\n",
       "                        </tr>\n",
       "                        <tr>\n",
       "                            <td style=\"text-align: left;\">\n",
       "                                <strong>Started:</strong>\n",
       "                                Just now\n",
       "                            </td>\n",
       "                            <td style=\"text-align: left;\">\n",
       "                                <strong>Total memory:</strong>\n",
       "                                16.00 GiB\n",
       "                            </td>\n",
       "                        </tr>\n",
       "                    </table>\n",
       "                </div>\n",
       "            </div>\n",
       "        \n",
       "            <details style=\"margin-left: 48px;\">\n",
       "            <summary style=\"margin-bottom: 20px;\"><h3 style=\"display: inline;\">Workers</h3></summary>\n",
       "            \n",
       "            <div style=\"margin-bottom: 20px;\">\n",
       "                <div style=\"width: 24px;\n",
       "                            height: 24px;\n",
       "                            background-color: #DBF5FF;\n",
       "                            border: 3px solid #4CC9FF;\n",
       "                            border-radius: 5px;\n",
       "                            position: absolute;\"> </div>\n",
       "                <div style=\"margin-left: 48px;\">\n",
       "                <details>\n",
       "                    <summary>\n",
       "                        <h4 style=\"margin-bottom: 0px; display: inline;\">Worker: 0</h4>\n",
       "                    </summary>\n",
       "                    <table style=\"width: 100%; text-align: left;\">\n",
       "                        <tr>\n",
       "                            <td style=\"text-align: left;\"><strong>Comm: </strong> tcp://127.0.0.1:60196</td>\n",
       "                            <td style=\"text-align: left;\"><strong>Total threads: </strong> 4</td>\n",
       "                        </tr>\n",
       "                        <tr>\n",
       "                            <td style=\"text-align: left;\">\n",
       "                                <strong>Dashboard: </strong>\n",
       "                                <a href=\"http://127.0.0.1:60198/status\">http://127.0.0.1:60198/status</a>\n",
       "                            </td>\n",
       "                            <td style=\"text-align: left;\">\n",
       "                                <strong>Memory: </strong>\n",
       "                                8.00 GiB\n",
       "                            </td>\n",
       "                        </tr>\n",
       "                        <tr>\n",
       "                            <td style=\"text-align: left;\"><strong>Nanny: </strong> tcp://127.0.0.1:60195</td>\n",
       "                            <td style=\"text-align: left;\"></td>\n",
       "                        </tr>\n",
       "                        <tr>\n",
       "                            <td colspan=\"2\" style=\"text-align: left;\">\n",
       "                                <strong>Local directory: </strong>\n",
       "                                /Users/bradleymcelroy/projects/nautilus_trader_gh/examples/backtest/dask-worker-space/worker-gl279n_i\n",
       "                            </td>\n",
       "                        </tr>\n",
       "                        \n",
       "                        \n",
       "                    </table>\n",
       "                </details>\n",
       "                </div>\n",
       "            </div>\n",
       "            \n",
       "            <div style=\"margin-bottom: 20px;\">\n",
       "                <div style=\"width: 24px;\n",
       "                            height: 24px;\n",
       "                            background-color: #DBF5FF;\n",
       "                            border: 3px solid #4CC9FF;\n",
       "                            border-radius: 5px;\n",
       "                            position: absolute;\"> </div>\n",
       "                <div style=\"margin-left: 48px;\">\n",
       "                <details>\n",
       "                    <summary>\n",
       "                        <h4 style=\"margin-bottom: 0px; display: inline;\">Worker: 1</h4>\n",
       "                    </summary>\n",
       "                    <table style=\"width: 100%; text-align: left;\">\n",
       "                        <tr>\n",
       "                            <td style=\"text-align: left;\"><strong>Comm: </strong> tcp://127.0.0.1:60197</td>\n",
       "                            <td style=\"text-align: left;\"><strong>Total threads: </strong> 4</td>\n",
       "                        </tr>\n",
       "                        <tr>\n",
       "                            <td style=\"text-align: left;\">\n",
       "                                <strong>Dashboard: </strong>\n",
       "                                <a href=\"http://127.0.0.1:60199/status\">http://127.0.0.1:60199/status</a>\n",
       "                            </td>\n",
       "                            <td style=\"text-align: left;\">\n",
       "                                <strong>Memory: </strong>\n",
       "                                8.00 GiB\n",
       "                            </td>\n",
       "                        </tr>\n",
       "                        <tr>\n",
       "                            <td style=\"text-align: left;\"><strong>Nanny: </strong> tcp://127.0.0.1:60194</td>\n",
       "                            <td style=\"text-align: left;\"></td>\n",
       "                        </tr>\n",
       "                        <tr>\n",
       "                            <td colspan=\"2\" style=\"text-align: left;\">\n",
       "                                <strong>Local directory: </strong>\n",
       "                                /Users/bradleymcelroy/projects/nautilus_trader_gh/examples/backtest/dask-worker-space/worker-2njeve1i\n",
       "                            </td>\n",
       "                        </tr>\n",
       "                        \n",
       "                        \n",
       "                    </table>\n",
       "                </details>\n",
       "                </div>\n",
       "            </div>\n",
       "            \n",
       "            </details>\n",
       "        </div>\n",
       "        \n",
       "                    </details>\n",
       "                </div>\n",
       "            </div>\n",
       "        \n",
       "                </details>\n",
       "                \n",
       "                </div>\n",
       "            </div>\n",
       "        "
      ],
      "text/plain": [
       "<Client: 'tcp://127.0.0.1:60192' processes=2 threads=8, memory=16.00 GiB>"
      ]
     },
     "execution_count": 11,
     "metadata": {},
     "output_type": "execute_result"
    }
   ],
   "source": [
    "# Create a local dask client\n",
    "from distributed import Client\n",
    "client = Client(n_workers=2)\n",
    "client"
   ]
  },
  {
   "cell_type": "markdown",
   "id": "3995677b-e48a-4d4c-8457-e51e93175592",
   "metadata": {},
   "source": [
    "### Run the backtests!"
   ]
  },
  {
   "cell_type": "code",
   "execution_count": 12,
   "id": "d767c12d-8322-4671-a03a-07fa396af1b0",
   "metadata": {},
   "outputs": [],
   "source": [
    "results = task.compute()"
   ]
  },
  {
   "cell_type": "code",
   "execution_count": 31,
   "id": "5fcb4bdc-9202-48b8-a559-8e0cc672089d",
   "metadata": {},
   "outputs": [
    {
     "data": {
      "text/plain": [
       "{'backtest-f6db99029a46bc85f9a43c84069aca95': {'account':                                  balance_USD venue\n",
       "  timestamp                                         \n",
       "  2020-01-30 20:15:00.275000+00:00   999986.58   SIM\n",
       "  2020-01-31 00:15:01.969000+00:00   999893.16   SIM\n",
       "  2020-01-31 00:15:01.969000+00:00   999879.74   SIM\n",
       "  2020-01-31 01:00:00.016000+00:00   998806.30   SIM\n",
       "  2020-01-31 01:00:00.016000+00:00   998792.86   SIM\n",
       "  2020-01-31 03:15:00.104000+00:00   997959.43   SIM\n",
       "  2020-01-31 03:15:00.104000+00:00   997946.00   SIM\n",
       "  2020-01-31 05:00:01.939000+00:00   997022.56   SIM\n",
       "  2020-01-31 05:00:01.939000+00:00   997009.12   SIM\n",
       "  2020-01-31 07:00:00.116000+00:00   996275.69   SIM\n",
       "  2020-01-31 07:00:00.116000+00:00   996262.26   SIM\n",
       "  2020-01-31 13:45:00.288000+00:00   997638.86   SIM\n",
       "  2020-01-31 13:45:00.288000+00:00   997625.46   SIM\n",
       "  2020-01-31 15:30:00.972000+00:00   996948.68   SIM\n",
       "  2020-01-31 15:30:00.972000+00:00   996962.07   SIM\n",
       "  2020-01-31 20:59:54.501000+00:00   997035.29   SIM\n",
       "  2021-07-02 06:30:07.387804+00:00  1000000.00   SIM,\n",
       "  'fills':                                 venue_order_id instrument_id  side    type  \\\n",
       "  client_order_id                                                              \n",
       "  O-20200130-201500-000-AUDUSD-1           1-001   AUD/USD.SIM   BUY  MARKET   \n",
       "  O-20200131-001501-000-AUDUSD-2           1-002   AUD/USD.SIM  SELL  MARKET   \n",
       "  O-20200131-001501-000-AUDUSD-3           1-003   AUD/USD.SIM  SELL  MARKET   \n",
       "  O-20200131-010000-000-AUDUSD-4           1-004   AUD/USD.SIM   BUY  MARKET   \n",
       "  O-20200131-010000-000-AUDUSD-5           1-005   AUD/USD.SIM   BUY  MARKET   \n",
       "  O-20200131-031500-000-AUDUSD-6           1-006   AUD/USD.SIM  SELL  MARKET   \n",
       "  O-20200131-031500-000-AUDUSD-7           1-007   AUD/USD.SIM  SELL  MARKET   \n",
       "  O-20200131-050001-000-AUDUSD-8           1-008   AUD/USD.SIM   BUY  MARKET   \n",
       "  O-20200131-050001-000-AUDUSD-9           1-009   AUD/USD.SIM   BUY  MARKET   \n",
       "  O-20200131-070000-000-AUDUSD-10          1-010   AUD/USD.SIM  SELL  MARKET   \n",
       "  O-20200131-070000-000-AUDUSD-11          1-011   AUD/USD.SIM  SELL  MARKET   \n",
       "  O-20200131-134500-000-AUDUSD-12          1-012   AUD/USD.SIM   BUY  MARKET   \n",
       "  O-20200131-134500-000-AUDUSD-13          1-013   AUD/USD.SIM   BUY  MARKET   \n",
       "  O-20200131-153000-000-AUDUSD-14          1-014   AUD/USD.SIM  SELL  MARKET   \n",
       "  O-20200131-153000-000-AUDUSD-15          1-015   AUD/USD.SIM  SELL  MARKET   \n",
       "  O-20200131-205954-000-AUDUSD-16          1-016   AUD/USD.SIM   BUY  MARKET   \n",
       "  \n",
       "                                       qty   avg_px  slippage  \\\n",
       "  client_order_id                                               \n",
       "  O-20200130-201500-000-AUDUSD-1   1000000  0.67117       0.0   \n",
       "  O-20200131-001501-000-AUDUSD-2   1000000  0.67109       0.0   \n",
       "  O-20200131-001501-000-AUDUSD-3   1000000  0.67109       0.0   \n",
       "  O-20200131-010000-000-AUDUSD-4   1000000  0.67215       0.0   \n",
       "  O-20200131-010000-000-AUDUSD-5   1000000  0.67215       0.0   \n",
       "  O-20200131-031500-000-AUDUSD-6   1000000  0.67133       0.0   \n",
       "  O-20200131-031500-000-AUDUSD-7   1000000  0.67133       0.0   \n",
       "  O-20200131-050001-000-AUDUSD-8   1000000  0.67224       0.0   \n",
       "  O-20200131-050001-000-AUDUSD-9   1000000  0.67224       0.0   \n",
       "  O-20200131-070000-000-AUDUSD-10  1000000  0.67152       0.0   \n",
       "  O-20200131-070000-000-AUDUSD-11  1000000  0.67152       0.0   \n",
       "  O-20200131-134500-000-AUDUSD-12  1000000  0.67013       0.0   \n",
       "  O-20200131-134500-000-AUDUSD-13  1000000  0.67013       0.0   \n",
       "  O-20200131-153000-000-AUDUSD-14  1000000  0.66948       0.0   \n",
       "  O-20200131-153000-000-AUDUSD-15  1000000  0.66948       0.0   \n",
       "  O-20200131-205954-000-AUDUSD-16  1000000  0.66938       0.0   \n",
       "  \n",
       "                                                         timestamp  \n",
       "  client_order_id                                                   \n",
       "  O-20200130-201500-000-AUDUSD-1  2020-01-30 20:15:00.275000+00:00  \n",
       "  O-20200131-001501-000-AUDUSD-2  2020-01-31 00:15:01.969000+00:00  \n",
       "  O-20200131-001501-000-AUDUSD-3  2020-01-31 00:15:01.969000+00:00  \n",
       "  O-20200131-010000-000-AUDUSD-4  2020-01-31 01:00:00.016000+00:00  \n",
       "  O-20200131-010000-000-AUDUSD-5  2020-01-31 01:00:00.016000+00:00  \n",
       "  O-20200131-031500-000-AUDUSD-6  2020-01-31 03:15:00.104000+00:00  \n",
       "  O-20200131-031500-000-AUDUSD-7  2020-01-31 03:15:00.104000+00:00  \n",
       "  O-20200131-050001-000-AUDUSD-8  2020-01-31 05:00:01.939000+00:00  \n",
       "  O-20200131-050001-000-AUDUSD-9  2020-01-31 05:00:01.939000+00:00  \n",
       "  O-20200131-070000-000-AUDUSD-10 2020-01-31 07:00:00.116000+00:00  \n",
       "  O-20200131-070000-000-AUDUSD-11 2020-01-31 07:00:00.116000+00:00  \n",
       "  O-20200131-134500-000-AUDUSD-12 2020-01-31 13:45:00.288000+00:00  \n",
       "  O-20200131-134500-000-AUDUSD-13 2020-01-31 13:45:00.288000+00:00  \n",
       "  O-20200131-153000-000-AUDUSD-14 2020-01-31 15:30:00.972000+00:00  \n",
       "  O-20200131-153000-000-AUDUSD-15 2020-01-31 15:30:00.972000+00:00  \n",
       "  O-20200131-205954-000-AUDUSD-16 2020-01-31 20:59:54.501000+00:00  ,\n",
       "  'positions':             instrument_id      strategy_id entry peak_qty  \\\n",
       "  position_id                                                 \n",
       "  1-001         AUD/USD.SIM  EMACross-AUDUSD   BUY  1000000   \n",
       "  1-002         AUD/USD.SIM  EMACross-AUDUSD  SELL  1000000   \n",
       "  1-003         AUD/USD.SIM  EMACross-AUDUSD   BUY  1000000   \n",
       "  1-004         AUD/USD.SIM  EMACross-AUDUSD  SELL  1000000   \n",
       "  1-005         AUD/USD.SIM  EMACross-AUDUSD   BUY  1000000   \n",
       "  1-006         AUD/USD.SIM  EMACross-AUDUSD  SELL  1000000   \n",
       "  1-007         AUD/USD.SIM  EMACross-AUDUSD   BUY  1000000   \n",
       "  1-008         AUD/USD.SIM  EMACross-AUDUSD  SELL  1000000   \n",
       "  \n",
       "                                   opened_time                      closed_time  \\\n",
       "  position_id                                                                     \n",
       "  1-001       2020-01-30 20:15:00.275000+00:00 2020-01-31 00:15:01.969000+00:00   \n",
       "  1-002       2020-01-31 00:15:01.969000+00:00 2020-01-31 01:00:00.016000+00:00   \n",
       "  1-003       2020-01-31 01:00:00.016000+00:00 2020-01-31 03:15:00.104000+00:00   \n",
       "  1-004       2020-01-31 03:15:00.104000+00:00 2020-01-31 05:00:01.939000+00:00   \n",
       "  1-005       2020-01-31 05:00:01.939000+00:00 2020-01-31 07:00:00.116000+00:00   \n",
       "  1-006       2020-01-31 07:00:00.116000+00:00 2020-01-31 13:45:00.288000+00:00   \n",
       "  1-007       2020-01-31 13:45:00.288000+00:00 2020-01-31 15:30:00.972000+00:00   \n",
       "  1-008       2020-01-31 15:30:00.972000+00:00 2020-01-31 20:59:54.501000+00:00   \n",
       "  \n",
       "                            duration  avg_px_open  avg_px_close  \\\n",
       "  position_id                                                     \n",
       "  1-001       0 days 04:00:01.694000      0.67117       0.67109   \n",
       "  1-002       0 days 00:44:58.046999      0.67109       0.67215   \n",
       "  1-003       0 days 02:15:00.088000      0.67215       0.67133   \n",
       "  1-004       0 days 01:45:01.834999      0.67133       0.67224   \n",
       "  1-005       0 days 01:59:58.177000      0.67224       0.67152   \n",
       "  1-006       0 days 06:45:00.172000      0.67152       0.67013   \n",
       "  1-007       0 days 01:45:00.684000      0.67013       0.66948   \n",
       "  1-008       0 days 05:29:53.528999      0.66948       0.66938   \n",
       "  \n",
       "               realized_points  realized_return  realized_pnl currency  \n",
       "  position_id                                                           \n",
       "  1-001               -0.00008        -0.000119       -106.84      USD  \n",
       "  1-002               -0.00106        -0.001580      -1086.86      USD  \n",
       "  1-003               -0.00082        -0.001220       -846.87      USD  \n",
       "  1-004               -0.00091        -0.001356       -936.87      USD  \n",
       "  1-005               -0.00072        -0.001071       -746.87      USD  \n",
       "  1-006                0.00139         0.002070       1363.17      USD  \n",
       "  1-007               -0.00065        -0.000970       -676.79      USD  \n",
       "  1-008                0.00010         0.000149         73.22      USD  },\n",
       " 'backtest-2bcffbbb7f94bf6201d367fcddd5d9c6': {'account':                                  balance_USD venue\n",
       "  timestamp                                         \n",
       "  2020-01-30 22:45:06.455000+00:00   999986.56   SIM\n",
       "  2020-01-31 08:00:00.366000+00:00   998903.14   SIM\n",
       "  2020-01-31 08:00:00.366000+00:00   998889.72   SIM\n",
       "  2020-01-31 20:59:54.501000+00:00  1000496.33   SIM\n",
       "  2021-07-02 06:30:07.622476+00:00  1000000.00   SIM,\n",
       "  'fills':                                venue_order_id instrument_id  side    type  \\\n",
       "  client_order_id                                                             \n",
       "  O-20200130-224506-000-AUDUSD-1          1-001   AUD/USD.SIM   BUY  MARKET   \n",
       "  O-20200131-080000-000-AUDUSD-2          1-002   AUD/USD.SIM  SELL  MARKET   \n",
       "  O-20200131-080000-000-AUDUSD-3          1-003   AUD/USD.SIM  SELL  MARKET   \n",
       "  O-20200131-205954-000-AUDUSD-4          1-004   AUD/USD.SIM   BUY  MARKET   \n",
       "  \n",
       "                                      qty   avg_px  slippage  \\\n",
       "  client_order_id                                              \n",
       "  O-20200130-224506-000-AUDUSD-1  1000000  0.67207       0.0   \n",
       "  O-20200131-080000-000-AUDUSD-2  1000000  0.67100       0.0   \n",
       "  O-20200131-080000-000-AUDUSD-3  1000000  0.67100       0.0   \n",
       "  O-20200131-205954-000-AUDUSD-4  1000000  0.66938       0.0   \n",
       "  \n",
       "                                                        timestamp  \n",
       "  client_order_id                                                  \n",
       "  O-20200130-224506-000-AUDUSD-1 2020-01-30 22:45:06.455000+00:00  \n",
       "  O-20200131-080000-000-AUDUSD-2 2020-01-31 08:00:00.366000+00:00  \n",
       "  O-20200131-080000-000-AUDUSD-3 2020-01-31 08:00:00.366000+00:00  \n",
       "  O-20200131-205954-000-AUDUSD-4 2020-01-31 20:59:54.501000+00:00  ,\n",
       "  'positions':             instrument_id      strategy_id entry peak_qty  \\\n",
       "  position_id                                                 \n",
       "  1-001         AUD/USD.SIM  EMACross-AUDUSD   BUY  1000000   \n",
       "  1-002         AUD/USD.SIM  EMACross-AUDUSD  SELL  1000000   \n",
       "  \n",
       "                                   opened_time                      closed_time  \\\n",
       "  position_id                                                                     \n",
       "  1-001       2020-01-30 22:45:06.455000+00:00 2020-01-31 08:00:00.366000+00:00   \n",
       "  1-002       2020-01-31 08:00:00.366000+00:00 2020-01-31 20:59:54.501000+00:00   \n",
       "  \n",
       "                            duration  avg_px_open  avg_px_close  \\\n",
       "  position_id                                                     \n",
       "  1-001       0 days 09:14:53.911000      0.67207       0.67100   \n",
       "  1-002       0 days 12:59:54.135000      0.67100       0.66938   \n",
       "  \n",
       "               realized_points  realized_return  realized_pnl currency  \n",
       "  position_id                                                           \n",
       "  1-001               -0.00107        -0.001592      -1096.86      USD  \n",
       "  1-002                0.00162         0.002414       1593.19      USD  },\n",
       " 'backtest-a026f0f865a7a8b24a7b23ce876170c8': {'account':                                  balance_USD venue\n",
       "  timestamp                                         \n",
       "  2020-01-31 01:15:00.805000+00:00   999986.55   SIM\n",
       "  2020-01-31 08:30:00.158000+00:00   997873.14   SIM\n",
       "  2020-01-31 08:30:00.158000+00:00   997859.73   SIM\n",
       "  2020-01-31 20:59:54.501000+00:00   998816.34   SIM\n",
       "  2021-07-02 06:30:07.519707+00:00  1000000.00   SIM,\n",
       "  'fills':                                venue_order_id instrument_id  side    type  \\\n",
       "  client_order_id                                                             \n",
       "  O-20200131-011500-000-AUDUSD-1          1-001   AUD/USD.SIM   BUY  MARKET   \n",
       "  O-20200131-083000-000-AUDUSD-2          1-002   AUD/USD.SIM  SELL  MARKET   \n",
       "  O-20200131-083000-000-AUDUSD-3          1-003   AUD/USD.SIM  SELL  MARKET   \n",
       "  O-20200131-205954-000-AUDUSD-4          1-004   AUD/USD.SIM   BUY  MARKET   \n",
       "  \n",
       "                                      qty   avg_px  slippage  \\\n",
       "  client_order_id                                              \n",
       "  O-20200131-011500-000-AUDUSD-1  1000000  0.67245       0.0   \n",
       "  O-20200131-083000-000-AUDUSD-2  1000000  0.67035       0.0   \n",
       "  O-20200131-083000-000-AUDUSD-3  1000000  0.67035       0.0   \n",
       "  O-20200131-205954-000-AUDUSD-4  1000000  0.66938       0.0   \n",
       "  \n",
       "                                                        timestamp  \n",
       "  client_order_id                                                  \n",
       "  O-20200131-011500-000-AUDUSD-1 2020-01-31 01:15:00.805000+00:00  \n",
       "  O-20200131-083000-000-AUDUSD-2 2020-01-31 08:30:00.158000+00:00  \n",
       "  O-20200131-083000-000-AUDUSD-3 2020-01-31 08:30:00.158000+00:00  \n",
       "  O-20200131-205954-000-AUDUSD-4 2020-01-31 20:59:54.501000+00:00  ,\n",
       "  'positions':             instrument_id      strategy_id entry peak_qty  \\\n",
       "  position_id                                                 \n",
       "  1-001         AUD/USD.SIM  EMACross-AUDUSD   BUY  1000000   \n",
       "  1-002         AUD/USD.SIM  EMACross-AUDUSD  SELL  1000000   \n",
       "  \n",
       "                                   opened_time                      closed_time  \\\n",
       "  position_id                                                                     \n",
       "  1-001       2020-01-31 01:15:00.805000+00:00 2020-01-31 08:30:00.158000+00:00   \n",
       "  1-002       2020-01-31 08:30:00.158000+00:00 2020-01-31 20:59:54.501000+00:00   \n",
       "  \n",
       "                            duration  avg_px_open  avg_px_close  \\\n",
       "  position_id                                                     \n",
       "  1-001       0 days 07:14:59.352999      0.67245       0.67035   \n",
       "  1-002       0 days 12:29:54.343000      0.67035       0.66938   \n",
       "  \n",
       "               realized_points  realized_return  realized_pnl currency  \n",
       "  position_id                                                           \n",
       "  1-001               -0.00210        -0.003123      -2126.86      USD  \n",
       "  1-002                0.00097         0.001447        943.20      USD  }}"
      ]
     },
     "execution_count": 31,
     "metadata": {},
     "output_type": "execute_result"
    }
   ],
   "source": [
    "results"
   ]
  },
  {
   "cell_type": "code",
   "execution_count": null,
   "id": "e36c2c9c-8c82-44ff-be6b-98b95253b86c",
   "metadata": {},
   "outputs": [],
   "source": []
  }
 ],
 "metadata": {
  "kernelspec": {
   "display_name": "Python (nautilus_trader_gh)",
   "language": "python",
   "name": "nautilus_trader_gh"
  },
  "language_info": {
   "codemirror_mode": {
    "name": "ipython",
    "version": 3
   },
   "file_extension": ".py",
   "mimetype": "text/x-python",
   "name": "python",
   "nbconvert_exporter": "python",
   "pygments_lexer": "ipython3",
   "version": "3.9.5"
  }
 },
 "nbformat": 4,
 "nbformat_minor": 5
}
