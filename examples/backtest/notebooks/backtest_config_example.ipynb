{
 "cells": [
  {
   "cell_type": "markdown",
   "id": "1781c982-1086-44e3-8a2e-5a8d662224fc",
   "metadata": {},
   "source": [
    "# Complete Backtest Example\n",
    "\n",
    "This notebook runs through a complete backtest example using raw data (external to nautilus) to a parameterised run "
   ]
  },
  {
   "cell_type": "markdown",
   "id": "c5054869-9f66-4782-99a8-5ba7c4b3fb3c",
   "metadata": {
    "tags": []
   },
   "source": [
    "## Getting some raw data\n",
    "\n",
    "Before we start the notebook - as a once off we need to download some sample data for backtesting\n",
    "\n",
    "For this notebook we will use Forex data from `histdata.com`, simply go to https://www.histdata.com/download-free-forex-historical-data/?/ascii/tick-data-quotes/ and select a Forex pair and one or more months of data to download.\n",
    "\n",
    "Once you have downloaded the data, set the variable `DATA_DIR` below to the directory containing the data. By default it will use the users `Downloads` directory."
   ]
  },
  {
   "cell_type": "code",
   "execution_count": null,
   "id": "b6da34f0-9e47-4de2-9f30-68b2725a3ce6",
   "metadata": {},
   "outputs": [],
   "source": [
    "DATA_DIR = \"~/Downloads/\""
   ]
  },
  {
   "cell_type": "markdown",
   "id": "de2ed543-97c1-42b6-82d9-82bd3cb6fc2c",
   "metadata": {},
   "source": [
    "Run the cell below; you should see the files that you downloaded"
   ]
  },
  {
   "cell_type": "code",
   "execution_count": null,
   "id": "152a5cdc-f3d8-4b7e-9bd1-87241cd99967",
   "metadata": {},
   "outputs": [],
   "source": [
    "import fsspec\n",
    "fs = fsspec.filesystem('file')\n",
    "raw_files = fs.glob(f\"{DATA_DIR}/HISTDATA*\")\n",
    "assert raw_files, f\"Unable to find any histdata files in directory {DATA_DIR}\"\n",
    "raw_files"
   ]
  },
  {
   "cell_type": "markdown",
   "id": "a4be5c96-3d1b-40f9-a6ee-6f19f84d0439",
   "metadata": {
    "tags": []
   },
   "source": [
    "## The Data Catalog\n",
    "\n",
    "Next we will load this raw data into the data catalog. The data catalog is a central store for Nautilus data, persisted in the [Parquet](https://parquet.apache.org) file format.\n",
    "\n",
    "We have chosen parquet as the storage format for the following reasons:\n",
    "- It performs much better than CSV/JSON/HDF5/etc in terms of compression (storage size) and read performance.\n",
    "- It does not require any separate running components (for example a database).\n",
    "- It is quick and simple for someone to get up and running with."
   ]
  },
  {
   "cell_type": "markdown",
   "id": "28863c1c-5161-4a5a-880c-f21ea82d6c9e",
   "metadata": {},
   "source": [
    "## Loading data into the catalog\n",
    "\n",
    "We can load data from various sources into the data catalog using helper methods in the `nautilus_trader.persistence.external.readers` module. The module contains methods for reading various data formats (csv, json, txt), minimising the amount of code required to get data loaded correctly into the data catalog.\n",
    "\n",
    "The Forex data from `histdata` is stored in csv/text format, with fields `timestamp, bid_price, ask_price`. To load the data into the catalog, we simply write a function that converts each row into a Nautilus object (in this case, a `QuoteTick`). For this example, we will use the `TextReader` helper, which allows reading and applying a parsing function line by line.\n",
    "\n",
    "Then, we simply instantiate a data catalog (passing in a directory where to store the data, by default we will just use the current directory) and pass our parsing function wrapping in the Reader class to `process_files`. We also need to know about which instrument this data is for; in this example, we will simply use one of the Nautilus test helpers to create a Forex instrument.\n",
    "\n",
    "It should only take a couple of minutes to load the data (depending on how many months)."
   ]
  },
  {
   "cell_type": "code",
   "execution_count": null,
   "id": "83ee13a6-5578-4b32-a75c-3a376d6e971e",
   "metadata": {},
   "outputs": [],
   "source": [
    "import datetime\n",
    "import pandas as pd\n",
    "\n",
    "from nautilus_trader.persistence.catalog import DataCatalog\n",
    "from nautilus_trader.persistence.external.core import process_files, write_objects\n",
    "from nautilus_trader.persistence.external.readers import TextReader\n",
    "\n",
    "from nautilus_trader.model.data.tick import QuoteTick\n",
    "from nautilus_trader.model.objects import Price, Quantity\n",
    "from nautilus_trader.core.datetime import dt_to_unix_nanos\n",
    "\n",
    "\n",
    "from nautilus_trader.backtest.data.providers import TestInstrumentProvider"
   ]
  },
  {
   "cell_type": "code",
   "execution_count": null,
   "id": "d8213a82-3663-412a-aac4-7b93ea1cc358",
   "metadata": {},
   "outputs": [],
   "source": [
    "def parser(line):\n",
    "    ts, bid, ask, idx = line.split(b\",\")\n",
    "    dt = pd.Timestamp(datetime.datetime.strptime(ts.decode(), \"%Y%m%d %H%M%S%f\"), tz='UTC')\n",
    "    yield QuoteTick(\n",
    "        instrument_id=AUDUSD.id,\n",
    "        bid=Price.from_str(bid.decode()),\n",
    "        ask=Price.from_str(ask.decode()),\n",
    "        bid_size=Quantity.from_int(100_000),\n",
    "        ask_size=Quantity.from_int(100_000),\n",
    "        ts_event=dt_to_unix_nanos(dt),\n",
    "        ts_init=dt_to_unix_nanos(dt),\n",
    "    )"
   ]
  },
  {
   "cell_type": "markdown",
   "id": "1a33829d-9f1b-4bbd-89fa-7ffc8e9772fa",
   "metadata": {},
   "source": [
    "We'll set up a catalog in the current working directory"
   ]
  },
  {
   "cell_type": "code",
   "execution_count": null,
   "id": "151e6e66-43ee-4b7e-a22e-41659f19d4b8",
   "metadata": {},
   "outputs": [],
   "source": [
    "import os, shutil\n",
    "CATALOG_PATH = os.getcwd() + \"/catalog\"\n",
    "\n",
    "# Clear if it already exists, then create fresh\n",
    "if os.path.exists(CATALOG_PATH):\n",
    "    shutil.rmtree(CATALOG_PATH)\n",
    "os.mkdir(CATALOG_PATH)"
   ]
  },
  {
   "cell_type": "code",
   "execution_count": null,
   "id": "a3ced2c7-5776-4f8e-954d-fe1102303d80",
   "metadata": {},
   "outputs": [],
   "source": [
    "AUDUSD = TestInstrumentProvider.default_fx_ccy(\"AUD/USD\")\n",
    "\n",
    "catalog = DataCatalog(CATALOG_PATH)\n",
    "\n",
    "process_files(\n",
    "    glob_path=f\"{DATA_DIR}/HISTDATA*.zip\",\n",
    "    reader=TextReader(line_parser=parser),\n",
    "    catalog=catalog,\n",
    ")\n",
    "\n",
    "# Also manually write the AUDUSD instrument to the catalog\n",
    "write_objects(catalog, [AUDUSD])"
   ]
  },
  {
   "cell_type": "markdown",
   "id": "ad998911-7ed2-43c8-98c5-b35059edfca0",
   "metadata": {},
   "source": [
    "## Using the Data Catalog \n",
    "\n",
    "Once data has been loaded into the catalog, the `catalog` instance can be used for loading data into the backtest engine, or simple for research purposes. It contains various methods to pull data from the catalog, like `quote_ticks` (show below))"
   ]
  },
  {
   "cell_type": "code",
   "execution_count": null,
   "id": "99722f39-474d-4101-a898-9a07ef10261a",
   "metadata": {},
   "outputs": [],
   "source": [
    "catalog.instruments()"
   ]
  },
  {
   "cell_type": "code",
   "execution_count": null,
   "id": "a4807b41-e5d0-4d65-8cce-51d75bf50b37",
   "metadata": {},
   "outputs": [],
   "source": [
    "start = dt_to_unix_nanos(pd.Timestamp('2020-01-01', tz='UTC'))\n",
    "end =  dt_to_unix_nanos(pd.Timestamp('2020-01-02', tz='UTC'))\n",
    "\n",
    "catalog.quote_ticks(start=start, end=end)"
   ]
  },
  {
   "cell_type": "markdown",
   "id": "2b203768-9711-4523-9ca6-5937a073b2f5",
   "metadata": {},
   "source": [
    "## Configuring backtests\n",
    "\n",
    "Nautilus has a top level object `BacktestRunConfig` that allows configuring a backtest in one place. It is a `Partialable` object (which means it can be configured in stages); the benefits of which are reduced boilerplate code when creating multiple backtest runs (for example when doing some sort of grid search over parameters).\n",
    "\n",
    "### Staring with a Venue\n",
    "\n",
    "We can start partially configuring the config with just a Venue:"
   ]
  },
  {
   "cell_type": "code",
   "execution_count": null,
   "id": "f8ff310d-67c9-47c4-8f16-6eb7515a6693",
   "metadata": {},
   "outputs": [],
   "source": [
    "from nautilus_trader.backtest.config import BacktestRunConfig, BacktestVenueConfig, BacktestDataConfig, BacktestEngineConfig\n",
    "from nautilus_trader.model.currencies import USD\n",
    "\n",
    "# Create a `base` config object to be shared with all backtests\n",
    "base = BacktestRunConfig(\n",
    "    venues=[\n",
    "        BacktestVenueConfig(\n",
    "            name=\"SIM\",\n",
    "            venue_type=\"ECN\",\n",
    "            oms_type=\"HEDGING\",\n",
    "            account_type=\"MARGIN\",\n",
    "            base_currency=\"USD\",\n",
    "            starting_balances=[\"1000000 USD\"],\n",
    "        )\n",
    "    ]\n",
    ")\n",
    "base"
   ]
  },
  {
   "cell_type": "markdown",
   "id": "bb055fb4-c55d-4b6b-88c2-7b1028ba2c2e",
   "metadata": {},
   "source": [
    "### Adding Data\n",
    "\n",
    "Notice many of the fields are `None` - we can continue to configure the backtest via `update`.\n",
    "\n",
    "The `data_config` arg allows adding multiple data types (`quotes`, `trades`, `generic_data`), but for this example, we will simply load the quote ticks we added earlier."
   ]
  },
  {
   "cell_type": "code",
   "execution_count": null,
   "id": "3d207cac-9680-4b79-a34c-d88ae83d64f9",
   "metadata": {},
   "outputs": [],
   "source": [
    "instrument = catalog.instruments(as_nautilus=True)[0]\n",
    "\n",
    "data_config=[\n",
    "    BacktestDataConfig(\n",
    "        catalog_path=CATALOG_PATH,\n",
    "        data_type=QuoteTick,\n",
    "        instrument_id=instrument.id.value,\n",
    "        start_time=1580398089820000000,\n",
    "        end_time=1580504394501000000,\n",
    "    )\n",
    "]\n",
    "\n",
    "config = base.update(\n",
    "    data=data_config,\n",
    "    engine=BacktestEngineConfig()\n",
    ")\n",
    "\n",
    "config"
   ]
  },
  {
   "cell_type": "markdown",
   "id": "c87052af-e9d4-412c-a9ac-31d4e1ddbb21",
   "metadata": {},
   "source": [
    "### Finally, add Strategy instances\n",
    "\n",
    "We can perform a grid-search of some parameters by using the `replace` method, which returns a new copy of the config. We use the `ImportableStrategyConfig` object to tell nautilus where the `TradingStrategy` class exists, and add some config "
   ]
  },
  {
   "cell_type": "code",
   "execution_count": null,
   "id": "68e9fdaf-81a7-4297-9fbc-e119ce2383ac",
   "metadata": {},
   "outputs": [],
   "source": [
    "from decimal import Decimal\n",
    "from nautilus_trader.trading.config import ImportableStrategyConfig\n",
    "from nautilus_trader.examples.strategies.ema_cross import EMACrossConfig\n",
    "\n",
    "\n",
    "PARAM_SET = [\n",
    "    {\"fast_ema\": 5, \"slow_ema\": 20},\n",
    "    {\"fast_ema\": 10, \"slow_ema\": 50},\n",
    "    {\"fast_ema\": 30, \"slow_ema\": 100},\n",
    "]\n",
    "\n",
    "configs = []\n",
    "for params in PARAM_SET:\n",
    "    strategies = [\n",
    "        ImportableStrategyConfig(\n",
    "            path=\"examples.strategies.ema_cross_simple:EMACross\",\n",
    "            config=EMACrossConfig(\n",
    "                instrument_id=instrument.id.value,\n",
    "                bar_type='AUD/USD.SIM-15-MINUTE-BID-INTERNAL',\n",
    "                trade_size=Decimal(1_000_000),\n",
    "                **params\n",
    "            ),\n",
    "        ),\n",
    "    ]\n",
    "    # Create the final config\n",
    "    new = config.replace(strategies=strategies)\n",
    "    \n",
    "    configs.append(new)"
   ]
  },
  {
   "cell_type": "markdown",
   "id": "91da0230-1e6a-45e2-a3c5-3ca0ce2cf42e",
   "metadata": {},
   "source": [
    "### This gives us 3 parameter sets to backtest"
   ]
  },
  {
   "cell_type": "code",
   "execution_count": null,
   "id": "2373e861-b1d1-4882-ba15-29d29b464ecd",
   "metadata": {},
   "outputs": [],
   "source": [
    "print(\"\\n\\n\".join(map(str, configs)))"
   ]
  },
  {
   "cell_type": "markdown",
   "id": "54051792-91e7-4c99-b0f2-17810d4ab8f9",
   "metadata": {},
   "source": [
    "# Run the backtest\n",
    "\n",
    "Finally, we can create a BacktestNode and run the backtest"
   ]
  },
  {
   "cell_type": "code",
   "execution_count": null,
   "id": "f16ff626-6bde-457a-9be0-973ab067dcd3",
   "metadata": {},
   "outputs": [],
   "source": [
    "from nautilus_trader.backtest.node import BacktestNode\n",
    "node = BacktestNode()"
   ]
  },
  {
   "cell_type": "code",
   "execution_count": null,
   "id": "cdd5e6c0-2518-4308-92af-1ecf26b4aa6e",
   "metadata": {},
   "outputs": [],
   "source": [
    "task = node.build_graph(run_configs=configs)\n",
    "task"
   ]
  },
  {
   "cell_type": "code",
   "execution_count": null,
   "id": "1ec06050-5e35-40f0-9ed4-c20b7f77bccf",
   "metadata": {},
   "outputs": [],
   "source": [
    "# Visualising the graph requires graphviz - `%pip install graphviz` in a notebook cell to install it\n",
    "\n",
    "# task.visualize(rankdir='LR') "
   ]
  },
  {
   "cell_type": "markdown",
   "id": "e380542f-8496-4178-9efa-985d2f573d67",
   "metadata": {},
   "source": [
    "^ Notice because our configs share the same data that only one instance of `load` is required"
   ]
  },
  {
   "cell_type": "markdown",
   "id": "39553f8b-2976-4a22-ad69-2329c01e8b0f",
   "metadata": {},
   "source": [
    "### Start up a local dask cluster to execute the graph"
   ]
  },
  {
   "cell_type": "code",
   "execution_count": null,
   "id": "1b6e2935-17c6-40d9-9a08-ef011df19631",
   "metadata": {},
   "outputs": [],
   "source": [
    "# Create a local dask client - not a requirement, but allows parallelising the runs\n",
    "from distributed import Client\n",
    "client = Client(n_workers=2)\n",
    "client"
   ]
  },
  {
   "cell_type": "markdown",
   "id": "3995677b-e48a-4d4c-8457-e51e93175592",
   "metadata": {},
   "source": [
    "### Run the backtests!"
   ]
  },
  {
   "cell_type": "code",
   "execution_count": null,
   "id": "d767c12d-8322-4671-a03a-07fa396af1b0",
   "metadata": {
    "jupyter": {
     "outputs_hidden": true
    },
    "tags": []
   },
   "outputs": [],
   "source": [
    "results = task.compute()"
   ]
  },
  {
   "cell_type": "markdown",
   "id": "ac35bd5f-3b5b-4b4f-a173-d4ebd198994c",
   "metadata": {},
   "source": [
    "### Compare the results"
   ]
  },
  {
   "cell_type": "code",
   "execution_count": null,
   "id": "d3ac8fb0-a06c-49fb-99eb-8dedba4f4b74",
   "metadata": {},
   "outputs": [],
   "source": [
    "results.plot_balances()"
   ]
  },
  {
   "cell_type": "code",
   "execution_count": null,
   "id": "a5e1e0a2",
   "metadata": {},
   "outputs": [],
   "source": []
  }
 ],
 "metadata": {
  "kernelspec": {
   "display_name": "Python (nautilus_trader)",
   "language": "python",
   "name": "nautilus_trader"
  },
  "language_info": {
   "codemirror_mode": {
    "name": "ipython",
    "version": 3
   },
   "file_extension": ".py",
   "mimetype": "text/x-python",
   "name": "python",
   "nbconvert_exporter": "python",
   "pygments_lexer": "ipython3",
   "version": "3.9.6"
  }
 },
 "nbformat": 4,
 "nbformat_minor": 5
}
