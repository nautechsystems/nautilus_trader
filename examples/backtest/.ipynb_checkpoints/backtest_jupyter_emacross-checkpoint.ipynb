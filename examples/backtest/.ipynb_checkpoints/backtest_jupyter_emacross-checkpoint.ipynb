{
 "cells": [
  {
   "cell_type": "code",
   "execution_count": 2,
   "metadata": {
    "pycharm": {
     "is_executing": false
    }
   },
   "outputs": [
    {
     "ename": "ModuleNotFoundError",
     "evalue": "No module named 'nautilus_trader.test_kit'",
     "output_type": "error",
     "traceback": [
      "\u001b[0;31m---------------------------------------------------------------------------\u001b[0m",
      "\u001b[0;31mModuleNotFoundError\u001b[0m                       Traceback (most recent call last)",
      "\u001b[0;32m<ipython-input-2-76dc30ba0481>\u001b[0m in \u001b[0;36m<module>\u001b[0;34m\u001b[0m\n\u001b[1;32m      9\u001b[0m \u001b[0;32mfrom\u001b[0m \u001b[0mnautilus_trader\u001b[0m\u001b[0;34m.\u001b[0m\u001b[0mbacktest\u001b[0m\u001b[0;34m.\u001b[0m\u001b[0mconfig\u001b[0m \u001b[0;32mimport\u001b[0m \u001b[0mBacktestConfig\u001b[0m\u001b[0;34m\u001b[0m\u001b[0;34m\u001b[0m\u001b[0m\n\u001b[1;32m     10\u001b[0m \u001b[0;32mfrom\u001b[0m \u001b[0mnautilus_trader\u001b[0m\u001b[0;34m.\u001b[0m\u001b[0mbacktest\u001b[0m\u001b[0;34m.\u001b[0m\u001b[0mengine\u001b[0m \u001b[0;32mimport\u001b[0m \u001b[0mBacktestEngine\u001b[0m\u001b[0;34m\u001b[0m\u001b[0;34m\u001b[0m\u001b[0m\n\u001b[0;32m---> 11\u001b[0;31m \u001b[0;32mfrom\u001b[0m \u001b[0mnautilus_trader\u001b[0m\u001b[0;34m.\u001b[0m\u001b[0mtest_kit\u001b[0m\u001b[0;34m.\u001b[0m\u001b[0mdata\u001b[0m \u001b[0;32mimport\u001b[0m \u001b[0mTestDataProvider\u001b[0m\u001b[0;34m\u001b[0m\u001b[0;34m\u001b[0m\u001b[0m\n\u001b[0m\u001b[1;32m     12\u001b[0m \u001b[0;32mfrom\u001b[0m \u001b[0mtest_kit\u001b[0m\u001b[0;34m.\u001b[0m\u001b[0mstubs\u001b[0m \u001b[0;32mimport\u001b[0m \u001b[0mTestStubs\u001b[0m\u001b[0;34m\u001b[0m\u001b[0;34m\u001b[0m\u001b[0m\n\u001b[1;32m     13\u001b[0m \u001b[0;32mfrom\u001b[0m \u001b[0mtest_kit\u001b[0m\u001b[0;34m.\u001b[0m\u001b[0mstrategies\u001b[0m \u001b[0;32mimport\u001b[0m \u001b[0mEMACross\u001b[0m\u001b[0;34m\u001b[0m\u001b[0;34m\u001b[0m\u001b[0m\n",
      "\u001b[0;31mModuleNotFoundError\u001b[0m: No module named 'nautilus_trader.test_kit'"
     ]
    }
   ],
   "source": [
    "import pandas as pd\n",
    "\n",
    "from datetime import datetime\n",
    "\n",
    "from nautilus_trader.common.logger import LogLevel\n",
    "from nautilus_trader.model.enums import Resolution, Currency\n",
    "from nautilus_trader.model.identifiers import Venue, TraderId\n",
    "from nautilus_trader.backtest.models import FillModel\n",
    "from nautilus_trader.backtest.config import BacktestConfig\n",
    "from nautilus_trader.backtest.engine import BacktestEngine"
   ]
  },
  {
   "cell_type": "code",
   "execution_count": null,
   "metadata": {},
   "outputs": [],
   "source": [
    "# strategy here"
   ]
  },
  {
   "cell_type": "code",
   "execution_count": 2,
   "metadata": {
    "pycharm": {
     "is_executing": false,
     "name": "#%%\n"
    }
   },
   "outputs": [],
   "source": [
    "USDJPY = TestStubs.instrument_usdjpy()\n",
    "bid_data_1min = TestDataProvider.usdjpy_1min_bid()\n",
    "ask_data_1min = TestDataProvider.usdjpy_1min_ask()\n",
    "\n",
    "instruments = [TestStubs.instrument_usdjpy()]\n",
    "tick_data = {usdjpy.symbol: pd.DataFrame()}\n",
    "bid_data = {usdjpy.symbol: {Resolution.MINUTE: bid_data_1min}}\n",
    "ask_data = {usdjpy.symbol: {Resolution.MINUTE: ask_data_1min}}\n",
    "\n",
    "strategies = [EMACross(\n",
    "    instrument=USDJPY,\n",
    "    bar_spec=TestStubs.bar_spec_1min_bid(),\n",
    "    risk_bp=10,\n",
    "    fast_ema=10,\n",
    "    slow_ema=20,\n",
    "    atr_period=20,\n",
    "    sl_atr_multiple=2.0)]\n",
    "\n",
    "config = BacktestConfig(\n",
    "    exec_db_type='in-memory',\n",
    "    exec_db_flush=False,\n",
    "    frozen_account=False,\n",
    "    starting_capital=1000000,\n",
    "    account_currency=Currency.USD,\n",
    "    bypass_logging=False,\n",
    "    level_console=LogLevel.INFO,\n",
    "    level_file=LogLevel.DEBUG,\n",
    "    level_store=LogLevel.WARNING,\n",
    "    log_thread=False,\n",
    "    log_to_file=False)\n",
    "\n",
    "fill_model = FillModel(\n",
    "    prob_fill_at_limit=0.2,\n",
    "    prob_fill_at_stop=0.95,\n",
    "    prob_slippage=0.5,\n",
    "    random_seed=None)\n",
    "\n",
    "engine = BacktestEngine(\n",
    "    trader_id=TraderId('BACKTESTER', '001'),\n",
    "    venue=Venue('FXCM'),\n",
    "    instruments=instruments,\n",
    "    data_ticks=tick_data,\n",
    "    data_bars_bid=bid_data,\n",
    "    data_bars_ask=ask_data,\n",
    "    strategies=strategies,\n",
    "    config=config,\n",
    "    fill_model=fill_model)\n"
   ]
  },
  {
   "cell_type": "code",
   "execution_count": 3,
   "metadata": {
    "pycharm": {
     "is_executing": false,
     "name": "#%%\n"
    }
   },
   "outputs": [],
   "source": [
    "start = datetime(2013, 2, 1, 0, 0, 0, 0)\n",
    "stop = datetime(2013, 3, 1, 1, 0, 0, 0)\n",
    "\n",
    "engine.run(start, stop)"
   ]
  },
  {
   "cell_type": "code",
   "execution_count": 5,
   "metadata": {
    "pycharm": {
     "is_executing": false,
     "name": "#%%\n"
    }
   },
   "outputs": [],
   "source": [
    "print(engine.get_equity_curve().head())\n",
    "print(engine.get_order_fills_report())\n",
    "print(engine.get_positions_report())\n",
    "\n"
   ]
  }
 ],
 "metadata": {
  "kernelspec": {
   "display_name": "Python 3",
   "language": "python",
   "name": "python3"
  },
  "language_info": {
   "codemirror_mode": {
    "name": "ipython",
    "version": 3
   },
   "file_extension": ".py",
   "mimetype": "text/x-python",
   "name": "python",
   "nbconvert_exporter": "python",
   "pygments_lexer": "ipython3",
   "version": "3.7.5"
  },
  "pycharm": {
   "stem_cell": {
    "cell_type": "raw",
    "metadata": {
     "collapsed": false
    },
    "source": []
   }
  }
 },
 "nbformat": 4,
 "nbformat_minor": 1
}
