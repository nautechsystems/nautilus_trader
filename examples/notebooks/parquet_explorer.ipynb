{
 "cells": [
  {
   "cell_type": "code",
   "execution_count": null,
   "id": "ccf1e39a-553e-40be-8518-9016e73ce2cc",
   "metadata": {
    "editable": true,
    "slideshow": {
     "slide_type": ""
    },
    "tags": []
   },
   "outputs": [],
   "source": [
    "import datafusion\n",
    "import pyarrow.parquet as pq"
   ]
  },
  {
   "cell_type": "code",
   "execution_count": null,
   "id": "a69ca54c-3b41-484c-89b8-994409127c10",
   "metadata": {},
   "outputs": [],
   "source": [
    "trade_tick_path = \"../../tests/test_data/trade_tick_data.parquet\"\n",
    "bar_path = \"../../tests/test_data/bar_data.parquet\""
   ]
  },
  {
   "cell_type": "code",
   "execution_count": null,
   "id": "25e01228-6c61-4f43-b50e-ba5ea39e4120",
   "metadata": {},
   "outputs": [],
   "source": [
    "# Create a context\n",
    "ctx = datafusion.SessionContext()"
   ]
  },
  {
   "cell_type": "code",
   "execution_count": null,
   "id": "ad4deb44-da1d-420f-a62a-b08863bf59fe",
   "metadata": {},
   "outputs": [],
   "source": [
    "# Run this cell once (otherwise will error)\n",
    "ctx.register_parquet(\"trade_0\", trade_tick_path)\n",
    "ctx.register_parquet(\"bar_0\", bar_path)"
   ]
  },
  {
   "cell_type": "markdown",
   "id": "8e44be92-2f9a-458e-940f-e188295df2c0",
   "metadata": {},
   "source": [
    "### TradeTick data"
   ]
  },
  {
   "cell_type": "code",
   "execution_count": null,
   "id": "8cbc02c7-ef75-4246-ac40-1105adce42de",
   "metadata": {},
   "outputs": [],
   "source": [
    "query = \"SELECT * FROM trade_0 ORDER BY ts_init\"\n",
    "df = ctx.sql(query)"
   ]
  },
  {
   "cell_type": "code",
   "execution_count": null,
   "id": "26437488-0e74-4bee-a8b9-28a9300203d9",
   "metadata": {},
   "outputs": [],
   "source": [
    "df.schema()"
   ]
  },
  {
   "cell_type": "code",
   "execution_count": null,
   "id": "2715c62c-99f6-4579-b0b8-3ea2fb81f93e",
   "metadata": {},
   "outputs": [],
   "source": [
    "df"
   ]
  },
  {
   "cell_type": "code",
   "execution_count": null,
   "id": "8294b160-3b73-4117-bef8-6b5b6aa31217",
   "metadata": {},
   "outputs": [],
   "source": [
    "table = pq.read_table(trade_tick_path)"
   ]
  },
  {
   "cell_type": "code",
   "execution_count": null,
   "id": "745678f8-9bca-4edd-b691-0360e1075978",
   "metadata": {},
   "outputs": [],
   "source": [
    "table.schema"
   ]
  },
  {
   "cell_type": "markdown",
   "id": "6372a0d1-970d-4f2b-bbde-313e38c265f7",
   "metadata": {},
   "source": [
    "### Bar data"
   ]
  },
  {
   "cell_type": "code",
   "execution_count": null,
   "id": "28910f87-b819-446b-bd98-3cdbaab1f146",
   "metadata": {},
   "outputs": [],
   "source": [
    "query = \"SELECT * FROM bar_0 ORDER BY ts_init\"\n",
    "df = ctx.sql(query)"
   ]
  },
  {
   "cell_type": "code",
   "execution_count": null,
   "id": "dbf74907-6034-4982-b6d8-9d3734bdcf63",
   "metadata": {},
   "outputs": [],
   "source": [
    "df.schema()"
   ]
  },
  {
   "cell_type": "code",
   "execution_count": null,
   "id": "a0259bbd-a42d-4aa8-8e15-fe56dafb1970",
   "metadata": {},
   "outputs": [],
   "source": [
    "df"
   ]
  },
  {
   "cell_type": "code",
   "execution_count": null,
   "id": "c930e4f8-6a4c-4ea3-b168-eea0ada5964c",
   "metadata": {},
   "outputs": [],
   "source": [
    "table = pq.read_table(bar_path)\n",
    "table.schema"
   ]
  },
  {
   "cell_type": "code",
   "execution_count": null,
   "id": "9601fbdc-4a14-49cc-8646-652ada4ad35c",
   "metadata": {},
   "outputs": [],
   "source": []
  }
 ],
 "metadata": {
  "kernelspec": {
   "display_name": "Python 3 (ipykernel)",
   "language": "python",
   "name": "python3"
  },
  "language_info": {
   "codemirror_mode": {
    "name": "ipython",
    "version": 3
   },
   "file_extension": ".py",
   "mimetype": "text/x-python",
   "name": "python",
   "nbconvert_exporter": "python",
   "pygments_lexer": "ipython3",
   "version": "3.10.12"
  }
 },
 "nbformat": 4,
 "nbformat_minor": 5
}
