{
 "cells": [
  {
   "cell_type": "code",
   "execution_count": null,
   "id": "bb4f92b7-f45c-48b9-84e5-2dff50351771",
   "metadata": {},
   "outputs": [],
   "source": [
    "import datetime\n",
    "import os\n",
    "import shutil\n",
    "from decimal import Decimal\n",
    "\n",
    "import fsspec\n",
    "import pandas as pd\n",
    "from nautilus_trader.core.datetime import dt_to_unix_nanos\n",
    "from nautilus_trader.model.data.tick import QuoteTick\n",
    "from nautilus_trader.model.objects import Price, Quantity\n",
    "\n",
    "from nautilus_trader.backtest.node import BacktestNode, BacktestVenueConfig, BacktestDataConfig, BacktestRunConfig, BacktestEngineConfig\n",
    "from nautilus_trader.config.common import ImportableStrategyConfig\n",
    "from nautilus_trader.persistence.catalog import ParquetDataCatalog\n",
    "from nautilus_trader.persistence.external.core import process_files, write_objects\n",
    "from nautilus_trader.persistence.external.readers import TextReader\n",
    "from nautilus_trader.test_kit.providers import TestInstrumentProvider"
   ]
  },
  {
   "cell_type": "code",
   "execution_count": null,
   "id": "7d88f76a-cca4-4445-a76d-b9caa40ae5fd",
   "metadata": {},
   "outputs": [],
   "source": [
    "DATA_DIR = \"~/Downloads/\""
   ]
  },
  {
   "cell_type": "code",
   "execution_count": null,
   "id": "154e3c17-604b-4b3d-b782-70225f4258aa",
   "metadata": {},
   "outputs": [],
   "source": [
    "fs = fsspec.filesystem('file')\n",
    "raw_files = fs.glob(f\"{DATA_DIR}/HISTDATA*\")\n",
    "assert raw_files, f\"Unable to find any histdata files in directory {DATA_DIR}\"\n",
    "raw_files"
   ]
  },
  {
   "cell_type": "code",
   "execution_count": null,
   "id": "33ce83d4-711a-4ae5-a4d2-eef441e0b37f",
   "metadata": {},
   "outputs": [],
   "source": [
    "def parser(line):\n",
    "    ts, bid, ask, idx = line.split(b\",\")\n",
    "    dt = pd.Timestamp(datetime.datetime.strptime(ts.decode(), \"%Y%m%d %H%M%S%f\"), tz='UTC')\n",
    "    yield QuoteTick(\n",
    "        instrument_id=AUDUSD.id,\n",
    "        bid=Price.from_str(bid.decode()),\n",
    "        ask=Price.from_str(ask.decode()),\n",
    "        bid_size=Quantity.from_int(100_000),\n",
    "        ask_size=Quantity.from_int(100_000),\n",
    "        ts_event=dt_to_unix_nanos(dt),\n",
    "        ts_init=dt_to_unix_nanos(dt),\n",
    "    )"
   ]
  },
  {
   "cell_type": "code",
   "execution_count": null,
   "id": "9febeb99-6767-4eb0-a18d-0a4c1128b2ab",
   "metadata": {},
   "outputs": [],
   "source": [
    "CATALOG_PATH = os.getcwd() + \"/catalog\"\n",
    "\n",
    "# Clear if it already exists, then create fresh\n",
    "if os.path.exists(CATALOG_PATH):\n",
    "    shutil.rmtree(CATALOG_PATH)\n",
    "os.mkdir(CATALOG_PATH)"
   ]
  },
  {
   "cell_type": "code",
   "execution_count": null,
   "id": "36d03016-8742-45ef-b0f5-816ccb328a09",
   "metadata": {},
   "outputs": [],
   "source": [
    "AUDUSD = TestInstrumentProvider.default_fx_ccy(\"AUD/USD\")\n",
    "\n",
    "catalog = ParquetDataCatalog(CATALOG_PATH)\n",
    "\n",
    "process_files(\n",
    "    glob_path=f\"{DATA_DIR}/HISTDATA_COM_ASCII_EURUSD_T202101*.zip\",\n",
    "    reader=TextReader(line_parser=parser),\n",
    "    catalog=catalog,\n",
    ")\n",
    "\n",
    "# Also manually write the AUD/USD instrument to the catalog\n",
    "write_objects(catalog, [AUDUSD])"
   ]
  },
  {
   "cell_type": "code",
   "execution_count": null,
   "id": "d9ec7c40-09c2-4407-b0dc-52eb5f440db9",
   "metadata": {},
   "outputs": [],
   "source": [
    "catalog.instruments()"
   ]
  },
  {
   "cell_type": "code",
   "execution_count": null,
   "id": "fa0c4f07-e988-43c6-80c2-e9cab9dbc998",
   "metadata": {},
   "outputs": [],
   "source": [
    "import pandas as pd\n",
    "from nautilus_trader.core.datetime import dt_to_unix_nanos\n",
    "\n",
    "\n",
    "start = dt_to_unix_nanos(pd.Timestamp('2021-01-03', tz='UTC'))\n",
    "end =  dt_to_unix_nanos(pd.Timestamp('2021-01-04', tz='UTC'))\n",
    "\n",
    "catalog.quote_ticks(start=start, end=end)"
   ]
  },
  {
   "cell_type": "code",
   "execution_count": null,
   "id": "5dbf344b-a596-4c61-880a-1bc05f8ba94e",
   "metadata": {},
   "outputs": [],
   "source": [
    "instrument = catalog.instruments(as_nautilus=True)[0]\n",
    "\n",
    "venues_config=[\n",
    "    BacktestVenueConfig(\n",
    "        name=\"SIM\",\n",
    "        oms_type=\"HEDGING\",\n",
    "        account_type=\"MARGIN\",\n",
    "        base_currency=\"USD\",\n",
    "        starting_balances=[\"1000000 USD\"],\n",
    "    )\n",
    "]\n",
    "\n",
    "data_config=[\n",
    "    BacktestDataConfig(\n",
    "        catalog_path=str(catalog.path),\n",
    "        data_cls=QuoteTick,\n",
    "        instrument_id=instrument.id.value,\n",
    "        start_time=start,\n",
    "        end_time=end,\n",
    "    )\n",
    "]\n",
    "\n",
    "strategies = [\n",
    "    ImportableStrategyConfig(\n",
    "        strategy_path=\"nautilus_trader.examples.strategies.ema_cross:EMACross\",\n",
    "        config_path=\"nautilus_trader.examples.strategies.ema_cross:EMACrossConfig\",\n",
    "        config=dict(\n",
    "            instrument_id=instrument.id.value,\n",
    "            bar_type=f\"{instrument.id.value}-15-MINUTE-BID-INTERNAL\",\n",
    "            fast_ema_period=10,\n",
    "            slow_ema_period=20,\n",
    "            trade_size=Decimal(1_000_000),\n",
    "        ),\n",
    "    ),\n",
    "]\n",
    "\n",
    "config = BacktestRunConfig(\n",
    "    engine=BacktestEngineConfig(strategies=strategies),\n",
    "    data=data_config,\n",
    "    venues=venues_config,\n",
    ")\n"
   ]
  },
  {
   "cell_type": "code",
   "execution_count": null,
   "id": "c8261e28-929b-4998-a041-20d2ae854aee",
   "metadata": {},
   "outputs": [],
   "source": [
    "node = BacktestNode(configs=[config])\n",
    "\n",
    "[result] = node.run()"
   ]
  },
  {
   "cell_type": "code",
   "execution_count": null,
   "id": "fc1fa02d-6c95-491a-8eaa-d2b79b059cc4",
   "metadata": {},
   "outputs": [],
   "source": [
    "result"
   ]
  },
  {
   "cell_type": "code",
   "execution_count": null,
   "id": "f27c6a33-8c02-42e2-a0c8-2db94cf77b1f",
   "metadata": {},
   "outputs": [],
   "source": []
  }
 ],
 "metadata": {
  "kernelspec": {
   "display_name": "Python (nautilus_trader)",
   "language": "python",
   "name": "nautilus_trader"
  },
  "language_info": {
   "codemirror_mode": {
    "name": "ipython",
    "version": 3
   },
   "file_extension": ".py",
   "mimetype": "text/x-python",
   "name": "python",
   "nbconvert_exporter": "python",
   "pygments_lexer": "ipython3",
   "version": "3.9.16"
  }
 },
 "nbformat": 4,
 "nbformat_minor": 5
}
