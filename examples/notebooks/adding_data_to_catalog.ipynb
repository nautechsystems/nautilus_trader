{
 "cells": [
  {
   "cell_type": "markdown",
   "id": "6180bc42-f610-4048-8d9b-423d5a1f2729",
   "metadata": {},
   "source": [
    "### Load some data from public FTX endpoint"
   ]
  },
  {
   "cell_type": "code",
   "execution_count": null,
   "id": "12d62265-a22d-4212-a4f8-424dc656e9d3",
   "metadata": {},
   "outputs": [],
   "source": [
    "import requests"
   ]
  },
  {
   "cell_type": "code",
   "execution_count": null,
   "id": "953d2087-1471-4f68-b4de-ad4d41ff27c6",
   "metadata": {},
   "outputs": [],
   "source": [
    "raw = requests.get(\"https://ftx.com/api//markets/BTC/USD/candles?resolution=60\").json()"
   ]
  },
  {
   "cell_type": "code",
   "execution_count": null,
   "id": "8d5d84a5-2790-452d-b51d-7c5d5b504d01",
   "metadata": {},
   "outputs": [],
   "source": [
    "raw['result'][:2]"
   ]
  },
  {
   "cell_type": "markdown",
   "id": "87cfd09a-7d0f-4502-a525-ced4062edc8c",
   "metadata": {},
   "source": [
    "### Initialise a DataCatalog\n",
    "\n",
    "We'll just use the current directory"
   ]
  },
  {
   "cell_type": "code",
   "execution_count": null,
   "id": "15f30023-7902-4603-b900-516629773836",
   "metadata": {},
   "outputs": [],
   "source": [
    "from nautilus_trader.persistence.catalog import ParquetDataCatalog\n",
    "\n",
    "catalog = ParquetDataCatalog(\"./\")"
   ]
  },
  {
   "cell_type": "code",
   "execution_count": null,
   "id": "11ad4554-7fec-40b2-b6a6-7ddf2015585d",
   "metadata": {},
   "outputs": [],
   "source": [
    "catalog.bars() # no bars yet"
   ]
  },
  {
   "cell_type": "markdown",
   "id": "66d84bc3-0604-4e52-b9b3-6c81fefa26b4",
   "metadata": {},
   "source": [
    "### Define BarType and Instrument\n",
    "\n",
    "We can't infer this from our data, we just \"know\" what this is based on the url we queried. \n",
    "\n",
    "We may be able to download the _actual_ instrument definition from a Nautilus Adapter, but often when testing it's easier to just generate a dummy instrument for backtests. "
   ]
  },
  {
   "cell_type": "code",
   "execution_count": null,
   "id": "e5fd7b4b-4ba8-4411-9bcd-d7c6ac5ae51f",
   "metadata": {},
   "outputs": [],
   "source": [
    "from nautilus_trader.model.identifiers import Venue\n",
    "\n",
    "# All instruments belong to a venue\n",
    "FTX = Venue(\"FTX\")"
   ]
  },
  {
   "cell_type": "code",
   "execution_count": null,
   "id": "208d4d38-82cc-4b7e-b7c9-e4292eca27f5",
   "metadata": {},
   "outputs": [],
   "source": [
    "from decimal import Decimal\n",
    "from nautilus_trader.model.currency import Currency\n",
    "from nautilus_trader.model.identifiers import Symbol\n",
    "from nautilus_trader.model.instruments.currency_pair import CurrencyPair\n",
    "from nautilus_trader.model.currencies import BTC\n",
    "from nautilus_trader.model.currencies import ETH\n",
    "from nautilus_trader.model.currencies import USD\n",
    "from nautilus_trader.model.objects import Money\n",
    "from nautilus_trader.model.objects import Price\n",
    "from nautilus_trader.model.objects import Quantity\n",
    "from nautilus_trader.model.identifiers import InstrumentId\n",
    "\n",
    "# Define a helper function to create the instrument, incase we want to create muleiple.\n",
    "\n",
    "def create_instrument(base: Currency, quote: Currency, venue: Venue):\n",
    "    symbol = Symbol(f\"{base.code}{quote.code}\")\n",
    "    instrument_id=InstrumentId(symbol=symbol, venue=venue)\n",
    "    \n",
    "    return CurrencyPair(\n",
    "        instrument_id=instrument_id,\n",
    "        native_symbol=symbol,\n",
    "        base_currency=base,\n",
    "        quote_currency=quote,\n",
    "        price_precision=2,\n",
    "        size_precision=6,\n",
    "        price_increment=Price(1e-02, precision=2),\n",
    "        size_increment=Quantity(1e-06, precision=6),\n",
    "        lot_size=None,\n",
    "        max_quantity=Quantity(9000, precision=6),\n",
    "        min_quantity=Quantity(1e-06, precision=6),\n",
    "        max_notional=None,\n",
    "        min_notional=Money(10.00000000, quote),\n",
    "        max_price=Price(1000000, precision=2),\n",
    "        min_price=Price(0.01, precision=2),\n",
    "        margin_init=Decimal(0),\n",
    "        margin_maint=Decimal(0),\n",
    "        maker_fee=Decimal(\"0.001\"),\n",
    "        taker_fee=Decimal(\"0.001\"),\n",
    "        ts_event=0,\n",
    "        ts_init=0,\n",
    "    )\n",
    "\n",
    "instrument = create_instrument(base=BTC, quote=USD, venue=FTX)"
   ]
  },
  {
   "cell_type": "code",
   "execution_count": null,
   "id": "9e5490b7-e336-497d-8639-484e3e650dd1",
   "metadata": {},
   "outputs": [],
   "source": [
    "from nautilus_trader.model.data.bar import BarType\n",
    "# Define the bar type for this file, we can't infer it from the actual data; we \"just know\" because of the url we downloaded it from.\n",
    "\n",
    "bar_type = BarType.from_str(f\"{instrument.id.value}-1-TICK-LAST-EXTERNAL\") # Short hand for defining a bar from a string"
   ]
  },
  {
   "cell_type": "markdown",
   "id": "7a7c3907-b504-46d9-b3c1-7828ff31d7c6",
   "metadata": {},
   "source": [
    "### Write the parsing function\n",
    "\n",
    "We need to convert each line to a nautilus object."
   ]
  },
  {
   "cell_type": "code",
   "execution_count": null,
   "id": "66ef54fb-bddd-42a9-bd55-14e656127b2a",
   "metadata": {},
   "outputs": [],
   "source": [
    "import pandas as pd\n",
    "from nautilus_trader.model.data.bar import Bar, BarType\n",
    "from nautilus_trader.model.identifiers import InstrumentId\n",
    "from nautilus_trader.core.datetime import dt_to_unix_nanos\n",
    "\n",
    "\n",
    "def parse_ftx_candle_line(line, bar_type: BarType, instrument):\n",
    "    ts_init = dt_to_unix_nanos(pd.Timestamp(line['startTime']))\n",
    "    return Bar(\n",
    "        bar_type=bar_type,\n",
    "        open=Price(line['open'], precision=instrument.price_precision),\n",
    "        high=Price(line['high'], precision=instrument.price_precision),\n",
    "        low=Price(line['low'], precision=instrument.price_precision),\n",
    "        close=Price(line['close'], precision=instrument.price_precision),\n",
    "        volume=Quantity(line['volume'], precision=instrument.size_precision),\n",
    "        ts_init=ts_init,\n",
    "        ts_event=ts_init,\n",
    "    )"
   ]
  },
  {
   "cell_type": "code",
   "execution_count": null,
   "id": "4c4f7493-7eba-4810-b22d-85f845253546",
   "metadata": {},
   "outputs": [],
   "source": [
    "# Confirm its working\n",
    "parse_ftx_candle_line(line=raw['result'][0], bar_type=bar_type, instrument=instrument)"
   ]
  },
  {
   "cell_type": "code",
   "execution_count": null,
   "id": "211e8e08-9ca9-41fe-b9b9-de36c75791b3",
   "metadata": {},
   "outputs": [],
   "source": [
    "from nautilus_trader.persistence.external.core import write_objects"
   ]
  },
  {
   "cell_type": "code",
   "execution_count": null,
   "id": "1096ca29-3c6c-43e9-a1e7-d7c503452100",
   "metadata": {},
   "outputs": [],
   "source": [
    "bars = [\n",
    "    parse_ftx_candle_line(line=line, bar_type=bar_type, instrument=instrument)\n",
    "    for line in raw['result']\n",
    "]\n",
    "\n",
    "len(bars)"
   ]
  },
  {
   "cell_type": "code",
   "execution_count": null,
   "id": "28094f92-8b15-495b-86d3-f20a78b09b0f",
   "metadata": {},
   "outputs": [],
   "source": [
    "# `write_objects` allows writing arbitrary objects to the catalog\n",
    "\n",
    "write_objects(catalog=catalog, chunk=bars)"
   ]
  },
  {
   "cell_type": "code",
   "execution_count": null,
   "id": "d690c1fc-cb08-4e0c-966c-f93113065dde",
   "metadata": {},
   "outputs": [],
   "source": [
    "catalog.bars().head()"
   ]
  }
 ],
 "metadata": {
  "kernelspec": {
   "display_name": "Python (nautilus_trader)",
   "language": "python",
   "name": "nautilus_trader"
  },
  "language_info": {
   "codemirror_mode": {
    "name": "ipython",
    "version": 3
   },
   "file_extension": ".py",
   "mimetype": "text/x-python",
   "name": "python",
   "nbconvert_exporter": "python",
   "pygments_lexer": "ipython3",
   "version": "3.8.13"
  }
 },
 "nbformat": 4,
 "nbformat_minor": 5
}
