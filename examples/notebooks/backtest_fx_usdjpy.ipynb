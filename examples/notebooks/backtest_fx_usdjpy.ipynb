{
 "cells": [
  {
   "cell_type": "code",
   "execution_count": null,
   "id": "e135064f-ea5e-4616-8e8a-2765d413cf3b",
   "metadata": {
    "tags": []
   },
   "outputs": [],
   "source": [
    "import time\n",
    "from decimal import Decimal\n",
    "\n",
    "import pandas as pd\n",
    "\n",
    "from nautilus_trader.backtest.engine import BacktestEngine\n",
    "from nautilus_trader.backtest.engine import BacktestEngineConfig\n",
    "from nautilus_trader.backtest.models import FillModel\n",
    "from nautilus_trader.backtest.modules import FXRolloverInterestConfig\n",
    "from nautilus_trader.backtest.modules import FXRolloverInterestModule\n",
    "from nautilus_trader.config import RiskEngineConfig\n",
    "from nautilus_trader.config import LoggingConfig\n",
    "from nautilus_trader.examples.strategies.ema_cross import EMACross\n",
    "from nautilus_trader.examples.strategies.ema_cross import EMACrossConfig\n",
    "from nautilus_trader.model.currencies import USD, JPY\n",
    "from nautilus_trader.model.enums import AccountType\n",
    "from nautilus_trader.model.enums import OmsType\n",
    "from nautilus_trader.model.identifiers import Venue\n",
    "from nautilus_trader.model.objects import Money\n",
    "from nautilus_trader.persistence.wranglers import QuoteTickDataWrangler\n",
    "from nautilus_trader.test_kit.providers import TestDataProvider\n",
    "from nautilus_trader.test_kit.providers import TestInstrumentProvider"
   ]
  },
  {
   "cell_type": "code",
   "execution_count": null,
   "id": "d83f8826-8ef9-4a2c-a877-bd738e97dd8b",
   "metadata": {
    "tags": []
   },
   "outputs": [],
   "source": [
    "# Configure backtest engine\n",
    "config = BacktestEngineConfig(\n",
    "    trader_id=\"BACKTESTER-001\",\n",
    "    logging=LoggingConfig(log_level=\"ERROR\"),\n",
    "    risk_engine=RiskEngineConfig(\n",
    "        bypass=True,  # Example of bypassing pre-trade risk checks for backtests\n",
    "    ),\n",
    ")\n",
    "\n",
    "# Build backtest engine\n",
    "engine = BacktestEngine(config=config)"
   ]
  },
  {
   "cell_type": "code",
   "execution_count": null,
   "id": "eca80120-529d-4026-a160-5ee424712325",
   "metadata": {
    "tags": []
   },
   "outputs": [],
   "source": [
    "# Optional plug in module to simulate rollover interest,\n",
    "# the data is coming from packaged test data.\n",
    "provider = TestDataProvider()\n",
    "interest_rate_data = provider.read_csv(\"short-term-interest.csv\")\n",
    "config = FXRolloverInterestConfig(interest_rate_data)\n",
    "fx_rollover_interest = FXRolloverInterestModule(config=config)\n",
    "\n",
    "# Create a fill model (optional)\n",
    "fill_model = FillModel(\n",
    "    prob_fill_on_limit=0.2,\n",
    "    prob_fill_on_stop=0.95,\n",
    "    prob_slippage=0.5,\n",
    "    random_seed=42,\n",
    ")\n",
    "\n",
    "# Add a trading venue (multiple venues possible)\n",
    "SIM = Venue(\"SIM\")\n",
    "engine.add_venue(\n",
    "    venue=SIM,\n",
    "    oms_type=OmsType.HEDGING,  # Venue will generate position IDs\n",
    "    account_type=AccountType.MARGIN,\n",
    "    base_currency=None,  # Standard single-currency account\n",
    "    starting_balances=[Money(1_000_000, USD), Money(10_000_000, JPY)],  # Single-currency or multi-currency accounts\n",
    "    fill_model=fill_model,\n",
    "    modules=[fx_rollover_interest],\n",
    ")"
   ]
  },
  {
   "cell_type": "code",
   "execution_count": null,
   "id": "fd9e8f20-bc8e-4697-9ef2-e32e56367080",
   "metadata": {
    "tags": []
   },
   "outputs": [],
   "source": [
    "# Add instruments\n",
    "USDJPY_SIM = TestInstrumentProvider.default_fx_ccy(\"USD/JPY\", SIM)\n",
    "engine.add_instrument(USDJPY_SIM)\n",
    "\n",
    "# Add data\n",
    "wrangler = QuoteTickDataWrangler(instrument=USDJPY_SIM)\n",
    "ticks = wrangler.process_bar_data(\n",
    "    bid_data=provider.read_csv_bars(\"fxcm-usdjpy-m1-bid-2013.csv\"),\n",
    "    ask_data=provider.read_csv_bars(\"fxcm-usdjpy-m1-ask-2013.csv\"),\n",
    ")\n",
    "engine.add_data(ticks)"
   ]
  },
  {
   "cell_type": "code",
   "execution_count": null,
   "id": "a5094200-dcf6-4f62-aff4-a66e9438434d",
   "metadata": {
    "tags": []
   },
   "outputs": [],
   "source": [
    "# Configure your strategy\n",
    "config = EMACrossConfig(\n",
    "    instrument_id=str(USDJPY_SIM.id),\n",
    "    bar_type=\"USD/JPY.SIM-5-MINUTE-BID-INTERNAL\",\n",
    "    fast_ema_period=10,\n",
    "    slow_ema_period=20,\n",
    "    trade_size=Decimal(1_000_000),\n",
    ")\n",
    "\n",
    "# Instantiate and add your strategy\n",
    "strategy = EMACross(config=config)\n",
    "engine.add_strategy(strategy=strategy)"
   ]
  },
  {
   "cell_type": "code",
   "execution_count": null,
   "id": "a307dad4-e450-4af6-b664-d2d37398118b",
   "metadata": {
    "tags": []
   },
   "outputs": [],
   "source": [
    "# Run backtest\n",
    "engine.run()"
   ]
  },
  {
   "cell_type": "code",
   "execution_count": null,
   "id": "7195b965-beab-4355-8826-62f4cc6d7e54",
   "metadata": {
    "tags": []
   },
   "outputs": [],
   "source": [
    "engine.trader.generate_account_report(SIM)"
   ]
  },
  {
   "cell_type": "code",
   "execution_count": null,
   "id": "2fade420-3bd0-4a7c-9717-3fa3437ae95a",
   "metadata": {
    "tags": []
   },
   "outputs": [],
   "source": [
    "engine.trader.generate_order_fills_report()"
   ]
  },
  {
   "cell_type": "code",
   "execution_count": null,
   "id": "6090a67d-b774-4c89-ac22-388cc112b4d1",
   "metadata": {
    "tags": []
   },
   "outputs": [],
   "source": [
    "engine.trader.generate_positions_report()"
   ]
  },
  {
   "cell_type": "code",
   "execution_count": null,
   "id": "d3f541c3-107c-4f8b-9da3-8a8ea3d5ea2a",
   "metadata": {
    "tags": []
   },
   "outputs": [],
   "source": [
    "# For repeated backtest runs make sure to reset the engine\n",
    "engine.reset()"
   ]
  },
  {
   "cell_type": "code",
   "execution_count": null,
   "id": "6927a631-dd42-43af-9b5e-2955f5114966",
   "metadata": {
    "tags": []
   },
   "outputs": [],
   "source": [
    "# Good practice to dispose of the object when done\n",
    "engine.dispose()"
   ]
  },
  {
   "cell_type": "code",
   "execution_count": null,
   "id": "28d0afc8-d5e6-4683-8248-1efda522ff7c",
   "metadata": {},
   "outputs": [],
   "source": []
  }
 ],
 "metadata": {
  "kernelspec": {
   "display_name": "Python 3 (ipykernel)",
   "language": "python",
   "name": "python3"
  },
  "language_info": {
   "codemirror_mode": {
    "name": "ipython",
    "version": 3
   },
   "file_extension": ".py",
   "mimetype": "text/x-python",
   "name": "python",
   "nbconvert_exporter": "python",
   "pygments_lexer": "ipython3",
   "version": "3.10.10"
  }
 },
 "nbformat": 4,
 "nbformat_minor": 5
}
