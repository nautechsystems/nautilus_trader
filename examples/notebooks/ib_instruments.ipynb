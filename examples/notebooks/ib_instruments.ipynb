{
 "cells": [
  {
   "cell_type": "code",
   "execution_count": null,
   "id": "72436deb-d319-4a79-bc8d-0e6fcd296833",
   "metadata": {},
   "outputs": [],
   "source": [
    "from nautilus_trader.adapters.interactive_brokers.web import ProductClass, Exchange, load_instrument_list"
   ]
  },
  {
   "cell_type": "code",
   "execution_count": null,
   "id": "fb2409d8-7cc2-42a1-bf02-cc4dffc20cca",
   "metadata": {},
   "outputs": [],
   "source": [
    "instruments = list(load_instrument_list(exchange=Exchange.SEHK, product_class=ProductClass.STOCKS, debug=True))"
   ]
  },
  {
   "cell_type": "code",
   "execution_count": null,
   "id": "e1e35f27-dc9f-4fdd-a962-c9a900f4c965",
   "metadata": {},
   "outputs": [],
   "source": [
    "instruments"
   ]
  },
  {
   "cell_type": "code",
   "execution_count": null,
   "id": "29cbb5c4-88dd-40d1-aa0c-7ee9d8d879ff",
   "metadata": {},
   "outputs": [],
   "source": []
  },
  {
   "cell_type": "code",
   "execution_count": null,
   "id": "dcb0d11d-3a49-4a06-ab9f-b469319c77ce",
   "metadata": {},
   "outputs": [],
   "source": []
  },
  {
   "cell_type": "code",
   "execution_count": null,
   "id": "1328d2da-6d7b-427e-bb6e-c3f505771304",
   "metadata": {},
   "outputs": [],
   "source": [
    "import enum\n",
    "from collections import namedtuple\n",
    "from lxml.html import fromstring"
   ]
  },
  {
   "cell_type": "code",
   "execution_count": null,
   "id": "ec31a545-6da2-42a3-bd73-330a9310e559",
   "metadata": {},
   "outputs": [],
   "source": []
  },
  {
   "cell_type": "code",
   "execution_count": null,
   "id": "a7facb37-1abb-4dba-9c56-63d9d283e8a2",
   "metadata": {},
   "outputs": [],
   "source": [
    "# exchanges = []\n",
    "# for region in (\"stk\", \"asia_stk\", \"europe_stk\"):\n",
    "#     resp = requests.get(\"https://www.interactivebrokers.com/en/index.php?f=1563&p=\" + region)\n",
    "#     tree = fromstring(resp.content)\n",
    "#     for url in [x for x in tree.xpath(\"//a//@href\") if 'exch=' in x]:\n",
    "#         _, exch, _ = url.split(\"&\")\n",
    "#         assert exch.startswith(\"exch=\")\n",
    "#         exchanges.append(exch.replace(\"exch=\", \"\"))"
   ]
  },
  {
   "cell_type": "code",
   "execution_count": null,
   "id": "d6e7c669-02f7-40c6-9b58-f54a69df1b63",
   "metadata": {},
   "outputs": [],
   "source": [
    "# print(\"\\n\".join([x.upper() + \" = \" + '\"' + x + '\"' for x in sorted(exchanges)]))"
   ]
  },
  {
   "cell_type": "code",
   "execution_count": null,
   "id": "7179b880-7b3b-4bbc-992d-1c8b74ae31d8",
   "metadata": {},
   "outputs": [],
   "source": [
    "class ProductClass(enum.Enum):\n",
    "    ETFS = \"ETF\"\n",
    "    INDICES = \"IND\"\n",
    "    STOCKS = \"STK\"\n",
    "    OPTIONS = \"OPTGRP\"\n",
    "    WARRANTS = \"WNT\"\n",
    "    \n",
    "class Exchange(enum.Enum):\n",
    "    AEB = \"aeb\"\n",
    "    ALPHA = \"alpha\"\n",
    "    AMEX = \"amex\"\n",
    "    ARCA = \"arca\"\n",
    "    ARCAEDGE = \"arcaedge\"\n",
    "    ASX = \"asx\"\n",
    "    BATECH = \"batech\"\n",
    "    BATEDE = \"batede\"\n",
    "    BATEEN = \"bateen\"\n",
    "    BATEEN_BE = \"bateen-be\"\n",
    "    BATEEN_FR = \"bateen-fr\"\n",
    "    BATEES = \"batees\"\n",
    "    BATEUK = \"bateuk\"\n",
    "    BATS = \"bats\"\n",
    "    BEX = \"bex\"\n",
    "    BM = \"bm\"\n",
    "    BUX = \"bux\"\n",
    "    BVL = \"bvl\"\n",
    "    BVME = \"bvme\"\n",
    "    BYX = \"byx\"\n",
    "    CHIX_CA = \"chix_ca\"\n",
    "    CHIXAU = \"chixau\"\n",
    "    CHIXCH = \"chixch\"\n",
    "    CHIXDE = \"chixde\"\n",
    "    CHIXEN = \"chixen\"\n",
    "    CHIXEN_BE = \"chixen-be\"\n",
    "    CHIXEN_FR = \"chixen-fr\"\n",
    "    CHIXES = \"chixes\"\n",
    "    CHIXJ = \"chixj\"\n",
    "    CHIXUK = \"chixuk\"\n",
    "    CHX = \"chx\"\n",
    "    DRCTEDGE = \"drctedge\"\n",
    "    DXEDE = \"dxede\"\n",
    "    EBS = \"ebs\"\n",
    "    EDGEA = \"edgea\"\n",
    "    ENEXT_BE = \"enext.be\"\n",
    "    FWB = \"fwb\"\n",
    "    GETTEX = \"gettex\"\n",
    "    IBIS = \"ibis\"\n",
    "    IEX = \"iex\"\n",
    "    ISLAND = \"island\"\n",
    "    JPNNEXT = \"jpnnext\"\n",
    "    LSE = \"lse\"\n",
    "    LSEIOB1 = \"lseiob1\"\n",
    "    LTSE = \"ltse\"\n",
    "    MEMX = \"memx\"\n",
    "    MEXI = \"mexi\"\n",
    "    MOEX = \"moex\"\n",
    "    N_RIGA = \"n.riga\"\n",
    "    N_TALLINN = \"n.tallinn\"\n",
    "    N_VILNIUS = \"n.vilnius\"\n",
    "    NASDAQ = \"nasdaq\"\n",
    "    NITE = \"nite\"\n",
    "    NSE = \"nse\"\n",
    "    NYSE = \"nyse\"\n",
    "    NYSENAT = \"nysenat\"\n",
    "    OMEGA = \"omega\"\n",
    "    OMXNO = \"omxno\"\n",
    "    PEARL = \"pearl\"\n",
    "    PINK = \"pink\"\n",
    "    PSX = \"psx\"\n",
    "    SBF = \"sbf\"\n",
    "    SEHK = \"sehk\"\n",
    "    SEHKNTL = \"sehkntl\"\n",
    "    SEHKSTAR = \"sehkstar\"\n",
    "    SEHKSZSE = \"sehkszse\"\n",
    "    SFB = \"sfb\"\n",
    "    SGX = \"sgx\"\n",
    "    SWB = \"swb\"\n",
    "    TASE = \"tase\"\n",
    "    TGATE = \"tgate\"\n",
    "    TRQX_BE = \"trqx-be\"\n",
    "    TRQX_FR = \"trqx-fr\"\n",
    "    TRQXCH = \"trqxch\"\n",
    "    TRQXDE = \"trqxde\"\n",
    "    TRQXEN = \"trqxen\"\n",
    "    TSE = \"tse\"\n",
    "    TSEJ = \"tsej\"\n",
    "    VENTURE = \"venture\"\n",
    "    VIRTX = \"virtx\"\n",
    "    VSE = \"vse\"\n",
    "    WSE = \"wse\"\n",
    "\n",
    "    \n",
    "class Product(namedtuple(\"Product\", \"ib_symbol, description, native_symbol, currency\")):\n",
    "    pass"
   ]
  },
  {
   "cell_type": "code",
   "execution_count": null,
   "id": "b1f822aa-11f9-460f-843a-fe735f108b0b",
   "metadata": {},
   "outputs": [],
   "source": []
  },
  {
   "cell_type": "code",
   "execution_count": null,
   "id": "86fc27d6-9568-4396-af86-798fe36a38a8",
   "metadata": {},
   "outputs": [],
   "source": [
    "import requests\n",
    "\n",
    "def _parse_products(table):\n",
    "    for row in table.xpath(\".//tr\")[1:]:\n",
    "        ib_symbol, desc, symbol, currency = list(filter(None, map(str.strip, row.xpath(\".//text()\"))))\n",
    "        yield Product(\n",
    "            ib_symbol=ib_symbol,\n",
    "            description=desc,\n",
    "            native_symbol=symbol,\n",
    "            currency=currency,\n",
    "        )\n",
    "\n",
    "\n",
    "def load_instrument_list(exchange: Exchange, product_class: ProductClass):\n",
    "    params = {\n",
    "        'f': '2222',\n",
    "        'exch': exchange.value,\n",
    "        'showcategories': product_class.value,\n",
    "        'limit': '500',\n",
    "    }\n",
    "    page = 0\n",
    "    while True:\n",
    "        page += 1\n",
    "        params.update({'page': str(page)})\n",
    "        response = requests.get('https://www.interactivebrokers.com/en/index.php', params=params)\n",
    "        tree = fromstring(response.content)\n",
    "        tables = tree.xpath('//table[@class=\"table table-striped table-bordered\"]')\n",
    "        if not tables:\n",
    "            break\n",
    "        symbol_table = tables[2]\n",
    "        yield from _parse_products(symbol_table)"
   ]
  },
  {
   "cell_type": "code",
   "execution_count": null,
   "id": "d4b24e16-216a-40eb-9fda-2f910f27502e",
   "metadata": {},
   "outputs": [],
   "source": [
    "list(_parse_products(tree.xpath('//table[@class=\"table table-striped table-bordered\"]')[2]))"
   ]
  },
  {
   "cell_type": "code",
   "execution_count": null,
   "id": "516051db-2302-4b9e-a784-2d9e32feb46d",
   "metadata": {},
   "outputs": [],
   "source": [
    "for product in "
   ]
  },
  {
   "cell_type": "code",
   "execution_count": null,
   "id": "33768c75-a2b4-43e8-9afa-194317617c41",
   "metadata": {},
   "outputs": [],
   "source": []
  },
  {
   "cell_type": "code",
   "execution_count": null,
   "id": "e350555f-a69f-4f8b-857a-c4ed9f0fca4a",
   "metadata": {},
   "outputs": [],
   "source": [
    "resp = load_instrument_list(exchange=Exchange.SEHK, product_class=ProductClass.STOCKS)"
   ]
  },
  {
   "cell_type": "code",
   "execution_count": null,
   "id": "5db0757a-a66c-48e1-bdfb-fdaa637e0425",
   "metadata": {},
   "outputs": [],
   "source": [
    "tree = fromstring(resp.content)"
   ]
  },
  {
   "cell_type": "code",
   "execution_count": null,
   "id": "447ea2e3-f8e9-4761-b604-a424bffea1f2",
   "metadata": {},
   "outputs": [],
   "source": [
    "tree"
   ]
  },
  {
   "cell_type": "code",
   "execution_count": null,
   "id": "bd7b3685-196a-4753-8690-5d63b57198f5",
   "metadata": {},
   "outputs": [],
   "source": []
  },
  {
   "cell_type": "code",
   "execution_count": null,
   "id": "b8f62e3f-a307-49f1-8a28-b0f4fd40d0eb",
   "metadata": {},
   "outputs": [],
   "source": [
    "for row in tree.xpath('//table[@class=\"table table-striped table-bordered\"]')[2].xpath(\".//tr\")[1:]:\n",
    "    break"
   ]
  },
  {
   "cell_type": "code",
   "execution_count": null,
   "id": "371f1d72-cfeb-4837-98b7-54d2ef15d0d1",
   "metadata": {},
   "outputs": [],
   "source": [
    "ib_symbol, desc, symbol, currency = list(filter(None, map(str.strip, row.xpath(\".//text()\"))))"
   ]
  },
  {
   "cell_type": "code",
   "execution_count": null,
   "id": "18ea49b1-6184-43a7-9122-c99686bda038",
   "metadata": {},
   "outputs": [],
   "source": []
  },
  {
   "cell_type": "code",
   "execution_count": null,
   "id": "05398891-92bb-4123-b8f6-1ef100bd1185",
   "metadata": {},
   "outputs": [],
   "source": []
  },
  {
   "cell_type": "code",
   "execution_count": null,
   "id": "4fce122a-7bcc-4489-9b03-d8d83290d17e",
   "metadata": {},
   "outputs": [],
   "source": []
  }
 ],
 "metadata": {
  "kernelspec": {
   "display_name": "Python (nautilus_trader)",
   "language": "python",
   "name": "nautilus_trader"
  },
  "language_info": {
   "codemirror_mode": {
    "name": "ipython",
    "version": 3
   },
   "file_extension": ".py",
   "mimetype": "text/x-python",
   "name": "python",
   "nbconvert_exporter": "python",
   "pygments_lexer": "ipython3",
   "version": "3.8.13"
  }
 },
 "nbformat": 4,
 "nbformat_minor": 5
}
