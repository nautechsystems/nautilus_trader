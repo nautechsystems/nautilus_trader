{
 "cells": [
  {
   "cell_type": "code",
   "execution_count": null,
   "id": "865d1598-73f2-4678-99be-5db41eddd8a9",
   "metadata": {},
   "outputs": [],
   "source": [
    "from nautilus_trader "
   ]
  },
  {
   "cell_type": "code",
   "execution_count": null,
   "id": "331caaac-da34-4136-9195-b60a164f86bb",
   "metadata": {},
   "outputs": [],
   "source": [
    "name = \"Test\""
   ]
  },
  {
   "cell_type": "code",
   "execution_count": null,
   "id": "539cd9bb-4f53-4240-b3f5-8b813785e76d",
   "metadata": {},
   "outputs": [],
   "source": []
  },
  {
   "cell_type": "code",
   "execution_count": null,
   "id": "5190bd86-5f4b-487f-8a47-a8be2ffd0b38",
   "metadata": {},
   "outputs": [],
   "source": []
  },
  {
   "cell_type": "code",
   "execution_count": null,
   "id": "b231a0af-d417-4b05-a63f-5705bc195e50",
   "metadata": {},
   "outputs": [],
   "source": []
  },
  {
   "cell_type": "code",
   "execution_count": null,
   "id": "0b8f5a5f-aecd-4de8-be5d-0f3b0226f39f",
   "metadata": {},
   "outputs": [],
   "source": []
  },
  {
   "cell_type": "code",
   "execution_count": null,
   "id": "86871cb2-3844-4a1a-b788-67dc7a414e3c",
   "metadata": {},
   "outputs": [],
   "source": []
  },
  {
   "cell_type": "code",
   "execution_count": null,
   "id": "96dfcf84-403f-4c36-afc2-08d8a5c82265",
   "metadata": {},
   "outputs": [],
   "source": []
  },
  {
   "cell_type": "code",
   "execution_count": null,
   "id": "a7621074-30c6-4e7f-aaea-9ac25dbe7f3f",
   "metadata": {},
   "outputs": [],
   "source": []
  }
 ],
 "metadata": {
  "kernelspec": {
   "display_name": "Python (nautilus_trader)",
   "language": "python",
   "name": "nautilus_trader"
  },
  "language_info": {
   "codemirror_mode": {
    "name": "ipython",
    "version": 3
   },
   "file_extension": ".py",
   "mimetype": "text/x-python",
   "name": "python",
   "nbconvert_exporter": "python",
   "pygments_lexer": "ipython3",
   "version": "3.9.12"
  }
 },
 "nbformat": 4,
 "nbformat_minor": 5
}
