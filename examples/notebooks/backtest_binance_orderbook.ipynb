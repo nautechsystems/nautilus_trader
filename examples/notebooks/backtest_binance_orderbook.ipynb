{
 "cells": [
  {
   "cell_type": "markdown",
   "id": "82356efa-eac5-4c85-a8b1-d9ea1969c67e",
   "metadata": {},
   "source": [
    "# Backtest on Binance OrderBook data\n",
    "\n",
    "This example runs through how to setup the data catalog and a `BacktestNode` to backtest an `OrderBookImbalance` strategy or order book data. This example requires you bring your Binance own order book data.\n",
    "\n",
    "**Warning:**\n",
    "\n",
    "<div style=\"border:1px solid #ffcc00; padding:10px; margin-top:10px; margin-bottom:10px; background-color:#333333; color: #ffcc00;\">\n",
    "Intended to be run on bare metal (not in the jupyterlab docker container).\n",
    "</div>"
   ]
  },
  {
   "cell_type": "markdown",
   "id": "ed70be00-0c81-43c5-877c-5cd030254887",
   "metadata": {},
   "source": [
    "## Imports\n",
    "\n",
    "We'll start with all of our imports for the remainder of this guide:"
   ]
  },
  {
   "cell_type": "code",
   "execution_count": null,
   "id": "3fb0574f-6e59-41af-a0ed-f7e4a33e3717",
   "metadata": {},
   "outputs": [],
   "source": [
    "import os\n",
    "import shutil\n",
    "from decimal import Decimal\n",
    "from pathlib import Path\n",
    "\n",
    "import pandas as pd\n",
    "\n",
    "from nautilus_trader.backtest.node import BacktestNode\n",
    "from nautilus_trader.core.datetime import dt_to_unix_nanos\n",
    "from nautilus_trader.config import BacktestRunConfig, BacktestVenueConfig, BacktestDataConfig, BacktestEngineConfig\n",
    "from nautilus_trader.config import ImportableStrategyConfig\n",
    "from nautilus_trader.config import LoggingConfig\n",
    "from nautilus_trader.examples.strategies.ema_cross import EMACross, EMACrossConfig\n",
    "from nautilus_trader.model.data import OrderBookDelta\n",
    "from nautilus_trader.persistence.loaders import BinanceOrderBookDeltaDataLoader\n",
    "from nautilus_trader.persistence.wranglers import OrderBookDeltaDataWranglerV2\n",
    "from nautilus_trader.persistence.catalog import ParquetDataCatalog\n",
    "from nautilus_trader.test_kit.providers import TestInstrumentProvider"
   ]
  },
  {
   "cell_type": "code",
   "execution_count": null,
   "id": "7dc89545-fb2e-4a54-baf1-ffa7d9f80189",
   "metadata": {},
   "outputs": [],
   "source": [
    "# Path to your data directory, using user /Downloads as an example\n",
    "DATA_DIR = \"~/Downloads\""
   ]
  },
  {
   "cell_type": "code",
   "execution_count": null,
   "id": "f4dd65a9-bef9-4f9f-98a5-57497e01ba8a",
   "metadata": {},
   "outputs": [],
   "source": [
    "data_path = Path(DATA_DIR).expanduser() / \"Data\" / \"Binance\"\n",
    "raw_files = list(data_path.iterdir())\n",
    "assert raw_files, f\"Unable to find any histdata files in directory {data_path}\"\n",
    "raw_files"
   ]
  },
  {
   "cell_type": "code",
   "execution_count": null,
   "id": "e44e488a-a19e-48f8-b896-aa35851d3420",
   "metadata": {},
   "outputs": [],
   "source": [
    "# First we'll load the initial order book snapshot\n",
    "path_snap = data_path / \"BTCUSDT_T_DEPTH_2022-11-01_depth_snap.csv\"\n",
    "df_snap = BinanceOrderBookDeltaDataLoader.load(path_snap)\n",
    "df_snap"
   ]
  },
  {
   "cell_type": "code",
   "execution_count": null,
   "id": "dcff2a8b-5f17-4966-932d-1d2d62aa811b",
   "metadata": {},
   "outputs": [],
   "source": [
    "# Then we'll load the order book updates, to save time here we're limiting to 1 million rows\n",
    "path_update = data_path / \"BTCUSDT_T_DEPTH_2022-11-01_depth_update.csv\"\n",
    "nrows = 1_000_000\n",
    "df_update = BinanceOrderBookDeltaDataLoader.load(path_update, nrows=nrows)\n",
    "df_update"
   ]
  },
  {
   "cell_type": "code",
   "execution_count": null,
   "id": "fe365a55-91cb-4306-a42a-f0df6929feef",
   "metadata": {},
   "outputs": [],
   "source": [
    "# Process deltas using a wrangler\n",
    "BTCUSDT_BINANCE = TestInstrumentProvider.btcusdt_binance()\n",
    "wrangler = OrderBookDeltaDataWranglerV2(BTCUSDT_BINANCE)\n",
    "\n",
    "deltas = wrangler.process(df_snap)\n",
    "deltas += wrangler.process(df_update)\n",
    "deltas.sort(key=lambda x: x.ts_init)  # Ensure data is non-decreasing by `ts_init`\n",
    "deltas[:10]"
   ]
  },
  {
   "cell_type": "code",
   "execution_count": null,
   "id": "45d39b65-d3af-4d91-bbe7-2e3f109c0e0e",
   "metadata": {},
   "outputs": [],
   "source": [
    "CATALOG_PATH = os.getcwd() + \"/catalog\"\n",
    "\n",
    "# Clear if it already exists, then create fresh\n",
    "if os.path.exists(CATALOG_PATH):\n",
    "    shutil.rmtree(CATALOG_PATH)\n",
    "os.mkdir(CATALOG_PATH)\n",
    "\n",
    "# Create a catalog instance\n",
    "catalog = ParquetDataCatalog(CATALOG_PATH)"
   ]
  },
  {
   "cell_type": "code",
   "execution_count": null,
   "id": "943c42a0-4fd7-47b6-a8b8-70d839a5803a",
   "metadata": {},
   "outputs": [],
   "source": [
    "# Write instrument and ticks to catalog (this currently takes a minute - investigating)\n",
    "catalog.write_data([BTCUSDT_BINANCE])\n",
    "catalog.write_data(deltas)"
   ]
  },
  {
   "cell_type": "code",
   "execution_count": null,
   "id": "c731d5ae-16ab-4b10-b1a1-727a3e446f94",
   "metadata": {},
   "outputs": [],
   "source": [
    "# Confirm the instrument was written\n",
    "catalog.instruments()"
   ]
  },
  {
   "cell_type": "code",
   "execution_count": null,
   "id": "36d3ddd1-3987-4a5d-b787-c94a491462aa",
   "metadata": {},
   "outputs": [],
   "source": [
    "# Explore the available data in the catalog\n",
    "start = dt_to_unix_nanos(pd.Timestamp(\"2022-11-01\", tz=\"UTC\"))\n",
    "end =  dt_to_unix_nanos(pd.Timestamp(\"2022-11-04\", tz=\"UTC\"))\n",
    "\n",
    "deltas = catalog.order_book_deltas(start=start, end=end)\n",
    "print(len(deltas))\n",
    "deltas[:10]"
   ]
  },
  {
   "cell_type": "code",
   "execution_count": null,
   "id": "265677cf-3a93-4b05-88f5-8e7c042a7860",
   "metadata": {},
   "outputs": [],
   "source": [
    "instrument = catalog.instruments()[0]\n",
    "book_type = \"L2_MBP\"  # Ensure data book type matches venue book type\n",
    "\n",
    "data_configs = [BacktestDataConfig(\n",
    "        catalog_path=CATALOG_PATH,\n",
    "        data_cls=OrderBookDelta,\n",
    "        instrument_id=instrument.id,\n",
    "        # start_time=start,  # Run across all data\n",
    "        # end_time=end,  # Run across all data\n",
    "    )\n",
    "]\n",
    "\n",
    "venues_configs = [\n",
    "    BacktestVenueConfig(\n",
    "        name=\"BINANCE\",\n",
    "        oms_type=\"NETTING\",\n",
    "        account_type=\"CASH\",\n",
    "        base_currency=None,\n",
    "        starting_balances=[\"20 BTC\", \"100000 USDT\"],\n",
    "        book_type=book_type,  # <-- Venues book type\n",
    "    )\n",
    "]\n",
    "\n",
    "strategies = [\n",
    "    ImportableStrategyConfig(\n",
    "        strategy_path=\"nautilus_trader.examples.strategies.orderbook_imbalance:OrderBookImbalance\",\n",
    "        config_path=\"nautilus_trader.examples.strategies.orderbook_imbalance:OrderBookImbalanceConfig\",\n",
    "        config=dict(\n",
    "            instrument_id=instrument.id,\n",
    "            book_type=book_type,\n",
    "            max_trade_size=Decimal(\"1.000\"),\n",
    "            min_seconds_between_triggers=1.0,\n",
    "        ),\n",
    "    ),\n",
    "]\n",
    "\n",
    "# NautilusTrader currently exceeds the rate limit for Jupyter notebook logging (stdout output),\n",
    "# this is why the `log_level` is set to \"ERROR\". If you lower this level to see\n",
    "# more logging then the notebook will hang during cell execution. A fix is currently\n",
    "# being investigated which involves either raising the configured rate limits for\n",
    "# Jupyter, or throttling the log flushing from Nautilus.\n",
    "# https://github.com/jupyterlab/jupyterlab/issues/12845\n",
    "# https://github.com/deshaw/jupyterlab-limit-output\n",
    "config = BacktestRunConfig(\n",
    "    engine=BacktestEngineConfig(\n",
    "        strategies=strategies,\n",
    "        logging=LoggingConfig(log_level=\"ERROR\"),\n",
    "    ),\n",
    "    data=data_configs,\n",
    "    venues=venues_configs,\n",
    ")\n",
    "\n",
    "config"
   ]
  },
  {
   "cell_type": "markdown",
   "id": "77f4d5cb-621f-4d5b-843e-7c0da11073ae",
   "metadata": {},
   "source": [
    "## Run the backtest!"
   ]
  },
  {
   "cell_type": "code",
   "execution_count": null,
   "id": "741b9024-6c0d-4cb9-9c28-687add29cd4e",
   "metadata": {},
   "outputs": [],
   "source": [
    "node = BacktestNode(configs=[config])\n",
    "\n",
    "result = node.run()"
   ]
  },
  {
   "cell_type": "code",
   "execution_count": null,
   "id": "7d50d1cd-d778-4e0f-b9da-ff9e44f4499f",
   "metadata": {},
   "outputs": [],
   "source": [
    "result"
   ]
  },
  {
   "cell_type": "code",
   "execution_count": null,
   "id": "af22401c-4d5b-4a58-bb18-97f460cb284c",
   "metadata": {},
   "outputs": [],
   "source": [
    "from nautilus_trader.backtest.engine import BacktestEngine\n",
    "from nautilus_trader.model.identifiers import Venue\n",
    "\n",
    "engine: BacktestEngine = node.get_engine(config.id)\n",
    "\n",
    "engine.trader.generate_order_fills_report()"
   ]
  },
  {
   "cell_type": "code",
   "execution_count": null,
   "id": "3381055f-134f-4bd1-bd04-d0c518030f1f",
   "metadata": {},
   "outputs": [],
   "source": [
    "engine.trader.generate_positions_report()"
   ]
  },
  {
   "cell_type": "code",
   "execution_count": null,
   "id": "975d538e-6de1-4d72-ae61-7eeb64b37aa6",
   "metadata": {},
   "outputs": [],
   "source": [
    "engine.trader.generate_account_report(Venue(\"BINANCE\"))"
   ]
  },
  {
   "cell_type": "code",
   "execution_count": null,
   "id": "afb0b9c1-42e2-493c-836e-b7402863aecd",
   "metadata": {},
   "outputs": [],
   "source": []
  }
 ],
 "metadata": {
  "kernelspec": {
   "display_name": "Python 3 (ipykernel)",
   "language": "python",
   "name": "python3"
  },
  "language_info": {
   "codemirror_mode": {
    "name": "ipython",
    "version": 3
   },
   "file_extension": ".py",
   "mimetype": "text/x-python",
   "name": "python",
   "nbconvert_exporter": "python",
   "pygments_lexer": "ipython3",
   "version": "3.10.13"
  }
 },
 "nbformat": 4,
 "nbformat_minor": 5
}
