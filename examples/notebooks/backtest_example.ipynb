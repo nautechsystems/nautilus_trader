{
 "cells": [
  {
   "cell_type": "code",
   "execution_count": null,
   "id": "ce0c43f6-6988-4e75-84fc-621699d67e1c",
   "metadata": {},
   "outputs": [],
   "source": [
    "import fsspec\n",
    "fs = fsspec.filesystem('file')\n",
    "raw_files = fs.glob(f\"{DATA_DIR}/HISTDATA*\")\n",
    "assert raw_files, f\"Unable to find any histdata files in directory {DATA_DIR}\"\n",
    "raw_files"
   ]
  },
  {
   "cell_type": "code",
   "execution_count": null,
   "id": "93239961-383a-4f1a-bafd-c0fab8f839b2",
   "metadata": {},
   "outputs": [],
   "source": [
    "CATALOG_PATH = os.getcwd() + \"/catalog\""
   ]
  },
  {
   "cell_type": "code",
   "execution_count": null,
   "id": "36d3ddd1-3987-4a5d-b787-c94a491462aa",
   "metadata": {},
   "outputs": [],
   "source": [
    "catalog.instruments()\n",
    "start = dt_to_unix_nanos(pd.Timestamp('2020-01-01', tz='UTC'))\n",
    "end =  dt_to_unix_nanos(pd.Timestamp('2020-01-02', tz='UTC'))\n",
    "\n",
    "catalog.quote_ticks(start=start, end=end)"
   ]
  },
  {
   "cell_type": "code",
   "execution_count": null,
   "id": "c2298da1-88a9-4c86-a5bc-efcbff70d805",
   "metadata": {},
   "outputs": [],
   "source": [
    "from nautilus_trader.backtest.config import BacktestRunConfig, BacktestVenueConfig, BacktestDataConfig, BacktestEngineConfig\n",
    "\n",
    "# Create a `base` config object to be shared with all backtests\n",
    "base = BacktestRunConfig(\n",
    "    venues=[\n",
    "        BacktestVenueConfig(\n",
    "            name=\"SIM\",\n",
    "            oms_type=\"HEDGING\",\n",
    "            account_type=\"MARGIN\",\n",
    "            base_currency=\"USD\",\n",
    "            starting_balances=[\"1000000 USD\"],\n",
    "        )\n",
    "    ]\n",
    ")\n",
    "base"
   ]
  },
  {
   "cell_type": "code",
   "execution_count": null,
   "id": "265677cf-3a93-4b05-88f5-8e7c042a7860",
   "metadata": {},
   "outputs": [],
   "source": [
    "instrument = catalog.instruments(as_nautilus=True)[0]\n",
    "\n",
    "data_config=[\n",
    "    BacktestDataConfig(\n",
    "        catalog_path=str(DataCatalog.from_env().path),\n",
    "        data_cls=QuoteTick,\n",
    "        instrument_id=instrument.id.value,\n",
    "        start_time=1580398089820000000,\n",
    "        end_time=1580504394501000000,\n",
    "    )\n",
    "]\n",
    "\n",
    "config = base.update(\n",
    "    data=data_config,\n",
    "    engine=BacktestEngineConfig()\n",
    ")\n",
    "\n",
    "config"
   ]
  },
  {
   "cell_type": "code",
   "execution_count": null,
   "id": "26a02da3-7a71-460d-b79b-e434dfb2134b",
   "metadata": {},
   "outputs": [],
   "source": [
    "from decimal import Decimal\n",
    "from nautilus_trader.trading.config import ImportableStrategyConfig\n",
    "from nautilus_trader.examples.strategies.ema_cross import EMACrossConfig\n",
    "\n",
    "\n",
    "PARAM_SET = [\n",
    "    {\"fast_ema\": 5, \"slow_ema\": 20},\n",
    "    {\"fast_ema\": 10, \"slow_ema\": 50},\n",
    "    {\"fast_ema\": 30, \"slow_ema\": 100},\n",
    "]\n",
    "\n",
    "configs = []\n",
    "for params in PARAM_SET:\n",
    "    strategies = [\n",
    "        ImportableStrategyConfig(\n",
    "            path=\"examples.strategies.ema_cross_simple:EMACross\",\n",
    "            config=EMACrossConfig(\n",
    "                instrument_id=instrument.id.value,\n",
    "                bar_type='AUD/USD.SIM-15-MINUTE-BID-INTERNAL',\n",
    "                trade_size=Decimal(1_000_000),\n",
    "                **params\n",
    "            ),\n",
    "        ),\n",
    "    ]\n",
    "    # Create the final config\n",
    "    new = config.replace(strategies=strategies)\n",
    "    \n",
    "    configs.append(new)"
   ]
  },
  {
   "cell_type": "code",
   "execution_count": null,
   "id": "9cb8ba87-0270-45ba-99ae-ba6180f2e8b2",
   "metadata": {},
   "outputs": [],
   "source": [
    "print(\"\\n\\n\".join(map(str, configs)))"
   ]
  },
  {
   "cell_type": "code",
   "execution_count": null,
   "id": "741b9024-6c0d-4cb9-9c28-687add29cd4e",
   "metadata": {},
   "outputs": [],
   "source": [
    "from nautilus_trader.backtest.node import BacktestNode\n",
    "node = BacktestNode()"
   ]
  },
  {
   "cell_type": "code",
   "execution_count": null,
   "id": "4014a6b3-3daa-45e5-a911-f609aae224b5",
   "metadata": {},
   "outputs": [],
   "source": [
    "task = node.build_graph(run_configs=configs)\n",
    "task"
   ]
  },
  {
   "cell_type": "code",
   "execution_count": null,
   "id": "77870885-199a-49c6-97c3-e88192597587",
   "metadata": {},
   "outputs": [],
   "source": [
    "# Create a local dask client - not a requirement, but allows parallelising the runs\n",
    "from distributed import Client\n",
    "client = Client(n_workers=2)\n",
    "client"
   ]
  },
  {
   "cell_type": "code",
   "execution_count": null,
   "id": "e60c4472-5e85-45b8-99ea-499327c33ef9",
   "metadata": {},
   "outputs": [],
   "source": [
    "results = task.compute()"
   ]
  },
  {
   "cell_type": "code",
   "execution_count": null,
   "id": "135cf10e-057a-4cc0-9ec0-b7dc9e36f7bb",
   "metadata": {},
   "outputs": [],
   "source": [
    "results.plot_balances()"
   ]
  },
  {
   "cell_type": "code",
   "execution_count": null,
   "id": "193b07f6-6bab-4ba4-99bb-26340bf13f57",
   "metadata": {},
   "outputs": [],
   "source": []
  },
  {
   "cell_type": "code",
   "execution_count": null,
   "id": "5e7d4550-91e3-4504-b112-07b49bbebf5c",
   "metadata": {},
   "outputs": [],
   "source": []
  },
  {
   "cell_type": "code",
   "execution_count": null,
   "id": "91eacd27-6ee0-4bc4-af41-e14aff06b22a",
   "metadata": {},
   "outputs": [],
   "source": []
  },
  {
   "cell_type": "code",
   "execution_count": null,
   "id": "f5fe77e5-a6e7-4f9b-b1ae-1ef1ac83eec1",
   "metadata": {},
   "outputs": [],
   "source": []
  },
  {
   "cell_type": "code",
   "execution_count": null,
   "id": "1ddeb41c-0f18-4208-ae34-faf7b615bcbf",
   "metadata": {},
   "outputs": [],
   "source": []
  },
  {
   "cell_type": "code",
   "execution_count": null,
   "id": "54da1070-4671-4bd4-b535-8929b04eeff7",
   "metadata": {},
   "outputs": [],
   "source": []
  },
  {
   "cell_type": "code",
   "execution_count": null,
   "id": "1c2d5fed-742e-4f24-9786-cdc7c542117d",
   "metadata": {},
   "outputs": [],
   "source": []
  }
 ],
 "metadata": {
  "kernelspec": {
   "display_name": "Python (nautilus_trader)",
   "language": "python",
   "name": "nautilus_trader"
  },
  "language_info": {
   "codemirror_mode": {
    "name": "ipython",
    "version": 3
   },
   "file_extension": ".py",
   "mimetype": "text/x-python",
   "name": "python",
   "nbconvert_exporter": "python",
   "pygments_lexer": "ipython3",
   "version": "3.9.7"
  }
 },
 "nbformat": 4,
 "nbformat_minor": 5
}
