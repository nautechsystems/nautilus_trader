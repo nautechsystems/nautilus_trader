{
 "cells": [
  {
   "cell_type": "code",
   "execution_count": null,
   "id": "3fb0574f-6e59-41af-a0ed-f7e4a33e3717",
   "metadata": {},
   "outputs": [],
   "source": [
    "from decimal import Decimal\n",
    "\n",
    "import pandas as pd\n",
    "\n",
    "from nautilus_trader.backtest.node import BacktestNode\n",
    "from nautilus_trader.core.datetime import dt_to_unix_nanos\n",
    "from nautilus_trader.config import BacktestRunConfig, BacktestVenueConfig, BacktestDataConfig, BacktestEngineConfig\n",
    "from nautilus_trader.config import ImportableStrategyConfig\n",
    "from nautilus_trader.config import LoggingConfig\n",
    "from nautilus_trader.examples.strategies.ema_cross import EMACross, EMACrossConfig\n",
    "from nautilus_trader.model.data import QuoteTick\n",
    "from nautilus_trader.persistence.catalog import ParquetDataCatalog"
   ]
  },
  {
   "cell_type": "code",
   "execution_count": null,
   "id": "45d39b65-d3af-4d91-bbe7-2e3f109c0e0e",
   "metadata": {},
   "outputs": [],
   "source": [
    "path = \"catalog\"\n",
    "catalog = ParquetDataCatalog(path=path)"
   ]
  },
  {
   "cell_type": "code",
   "execution_count": null,
   "id": "c731d5ae-16ab-4b10-b1a1-727a3e446f94",
   "metadata": {},
   "outputs": [],
   "source": [
    "catalog.instruments()"
   ]
  },
  {
   "cell_type": "code",
   "execution_count": null,
   "id": "36d3ddd1-3987-4a5d-b787-c94a491462aa",
   "metadata": {},
   "outputs": [],
   "source": [
    "start = dt_to_unix_nanos(pd.Timestamp(\"2020-01-03\", tz=\"UTC\"))\n",
    "end =  dt_to_unix_nanos(pd.Timestamp(\"2020-01-04\", tz=\"UTC\"))\n",
    "\n",
    "ticks = catalog.quote_ticks(start=start, end=end)\n",
    "ticks[:10]"
   ]
  },
  {
   "cell_type": "code",
   "execution_count": null,
   "id": "265677cf-3a93-4b05-88f5-8e7c042a7860",
   "metadata": {},
   "outputs": [],
   "source": [
    "instrument = catalog.instruments()[0]\n",
    "\n",
    "data_configs = [BacktestDataConfig(\n",
    "        catalog_path=str(ParquetDataCatalog.from_env().path),\n",
    "        data_cls=QuoteTick,\n",
    "        instrument_id=instrument.id.value,\n",
    "        start_time=start,\n",
    "        end_time=end,\n",
    "    )\n",
    "]\n",
    "\n",
    "venues_configs = [\n",
    "    BacktestVenueConfig(\n",
    "        name=\"SIM\",\n",
    "        oms_type=\"HEDGING\",\n",
    "        account_type=\"MARGIN\",\n",
    "        base_currency=\"USD\",\n",
    "        starting_balances=[\"1000000 USD\"],\n",
    "    )\n",
    "]\n",
    "\n",
    "strategies = [\n",
    "    ImportableStrategyConfig(\n",
    "        strategy_path=\"nautilus_trader.examples.strategies.ema_cross:EMACross\",\n",
    "        config_path=\"nautilus_trader.examples.strategies.ema_cross:EMACrossConfig\",\n",
    "        config=dict(\n",
    "            instrument_id=instrument.id.value,\n",
    "            bar_type=\"EUR/USD.SIM-15-MINUTE-BID-INTERNAL\",\n",
    "            fast_ema_period=10,\n",
    "            slow_ema_period=20,\n",
    "            trade_size=Decimal(100_000),\n",
    "        ),\n",
    "    ),\n",
    "]\n",
    "\n",
    "# NautilusTrader currently exceeds the rate limit for Jupyter notebook logging (stdout output),\n",
    "# this is why the `log_level` is set to \"ERROR\". If you lower this level to see\n",
    "# more logging then the notebook will hang during cell execution. A fix is currently\n",
    "# being investigated which involves either raising the configured rate limits for\n",
    "# Jupyter, or throttling the log flushing from Nautilus.\n",
    "# https://github.com/jupyterlab/jupyterlab/issues/12845\n",
    "# https://github.com/deshaw/jupyterlab-limit-output\n",
    "config = BacktestRunConfig(\n",
    "    engine=BacktestEngineConfig(\n",
    "        strategies=strategies,\n",
    "        logging=LoggingConfig(log_level=\"ERROR\"),\n",
    "    ),\n",
    "    data=data_configs,\n",
    "    venues=venues_configs,\n",
    ")\n",
    "\n",
    "config"
   ]
  },
  {
   "cell_type": "markdown",
   "id": "77f4d5cb-621f-4d5b-843e-7c0da11073ae",
   "metadata": {},
   "source": [
    "## Run the backtest!"
   ]
  },
  {
   "cell_type": "code",
   "execution_count": null,
   "id": "741b9024-6c0d-4cb9-9c28-687add29cd4e",
   "metadata": {},
   "outputs": [],
   "source": [
    "node = BacktestNode(configs=[config])\n",
    "\n",
    "result = node.run()"
   ]
  },
  {
   "cell_type": "code",
   "execution_count": null,
   "id": "7d50d1cd-d778-4e0f-b9da-ff9e44f4499f",
   "metadata": {},
   "outputs": [],
   "source": [
    "result"
   ]
  },
  {
   "cell_type": "code",
   "execution_count": null,
   "id": "af22401c-4d5b-4a58-bb18-97f460cb284c",
   "metadata": {},
   "outputs": [],
   "source": []
  }
 ],
 "metadata": {
  "kernelspec": {
   "display_name": "Python 3 (ipykernel)",
   "language": "python",
   "name": "python3"
  },
  "language_info": {
   "codemirror_mode": {
    "name": "ipython",
    "version": 3
   },
   "file_extension": ".py",
   "mimetype": "text/x-python",
   "name": "python",
   "nbconvert_exporter": "python",
   "pygments_lexer": "ipython3",
   "version": "3.10.12"
  }
 },
 "nbformat": 4,
 "nbformat_minor": 5
}
