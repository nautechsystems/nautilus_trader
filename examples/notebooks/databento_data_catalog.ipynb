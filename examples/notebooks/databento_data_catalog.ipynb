{
 "cells": [
  {
   "cell_type": "markdown",
   "id": "0",
   "metadata": {},
   "source": [
    "# Databento data catalog"
   ]
  },
  {
   "cell_type": "markdown",
   "id": "1",
   "metadata": {},
   "source": [
    "This tutorial will walk through how to setup a Nautilus Parquet data catalog with databento order book data.\n",
    "\n",
    "We choose to work with the MBP-10 schema (which is just an aggregation of the top 10 levels) so that the data is more manageable and easier to work with for the example."
   ]
  },
  {
   "cell_type": "code",
   "execution_count": null,
   "id": "2",
   "metadata": {},
   "outputs": [],
   "source": [
    "import databento as db\n",
    "\n",
    "client = db.Historical()  # This will use the DATABENTO_API_KEY environment variable (recommended best practice)"
   ]
  },
  {
   "cell_type": "markdown",
   "id": "3",
   "metadata": {},
   "source": [
    "## Request data\n",
    "\n",
    "Use the historical API to request the front-month ES futures contract for January 2024.\n",
    "\n",
    "**CAUTION: This will incur a cost for every request (only run the request cell once)**"
   ]
  },
  {
   "cell_type": "code",
   "execution_count": null,
   "id": "4",
   "metadata": {},
   "outputs": [],
   "source": [
    "# Path we'll use for persisting this request to disk\n",
    "path = \"es-front-glbx-mbp10.dbn.zst\"\n",
    "\n",
    "# Request lead month\n",
    "data = client.timeseries.get_range(\n",
    "    dataset=\"GLBX.MDP3\",\n",
    "    symbols=[\"ES.n.0\"],\n",
    "    stype_in=\"continuous\",\n",
    "    schema=\"mbp-10\",\n",
    "    start=\"2023-12-06T14:30:00\",\n",
    "    end=\"2023-12-06T20:30:00\",\n",
    "    path=path,\n",
    ")"
   ]
  },
  {
   "cell_type": "code",
   "execution_count": null,
   "id": "5",
   "metadata": {},
   "outputs": [],
   "source": [
    "df = data.to_df()\n",
    "df"
   ]
  },
  {
   "cell_type": "markdown",
   "id": "6",
   "metadata": {},
   "source": [
    "## Write to data catalog"
   ]
  },
  {
   "cell_type": "code",
   "execution_count": null,
   "id": "7",
   "metadata": {},
   "outputs": [],
   "source": [
    "import shutil\n",
    "from pathlib import Path\n",
    "\n",
    "from nautilus_trader.adapters.databento.loaders import DatabentoDataLoader\n",
    "from nautilus_trader.model.identifiers import InstrumentId\n",
    "from nautilus_trader.persistence.catalog import ParquetDataCatalog"
   ]
  },
  {
   "cell_type": "code",
   "execution_count": null,
   "id": "8",
   "metadata": {},
   "outputs": [],
   "source": [
    "instrument_id = InstrumentId.from_str(\"ES.n.0\")  # This should be the raw symbol (update)\n",
    "loader = DatabentoDataLoader()\n",
    "depth10 = loader.from_dbn_file(\n",
    "    path=path,\n",
    "    instrument_id=instrument_id,  # Not required but makes data loading faster (symbology mapping not required)\n",
    "    as_legacy_cython=False,  # This will load Rust pyo3 objects to write to the catalog\n",
    ")"
   ]
  },
  {
   "cell_type": "code",
   "execution_count": null,
   "id": "9",
   "metadata": {},
   "outputs": [],
   "source": [
    "CATALOG_PATH = Path.cwd() / \"catalog\"\n",
    "\n",
    "# Clear if it already exists, then create fresh\n",
    "if CATALOG_PATH.exists():\n",
    "    shutil.rmtree(CATALOG_PATH)\n",
    "CATALOG_PATH.mkdir()\n",
    "\n",
    "# Create a catalog instance\n",
    "catalog = ParquetDataCatalog(CATALOG_PATH)"
   ]
  },
  {
   "cell_type": "code",
   "execution_count": null,
   "id": "10",
   "metadata": {},
   "outputs": [],
   "source": [
    "# Write instrument and ticks to catalog (this takes ~20 seconds)\n",
    "catalog.write_data(depth10)"
   ]
  },
  {
   "cell_type": "code",
   "execution_count": null,
   "id": "11",
   "metadata": {},
   "outputs": [],
   "source": []
  },
  {
   "cell_type": "code",
   "execution_count": null,
   "id": "12",
   "metadata": {},
   "outputs": [],
   "source": [
    "import pyarrow.parquet as pq"
   ]
  },
  {
   "cell_type": "code",
   "execution_count": null,
   "id": "13",
   "metadata": {},
   "outputs": [],
   "source": [
    "depth10_parquet_path = \"catalog/data/order_book_depth10/ES.n.0/part-0.parquet\""
   ]
  },
  {
   "cell_type": "code",
   "execution_count": null,
   "id": "14",
   "metadata": {},
   "outputs": [],
   "source": [
    "table = pq.read_table(depth10_parquet_path)\n",
    "table.schema"
   ]
  },
  {
   "cell_type": "code",
   "execution_count": null,
   "id": "15",
   "metadata": {},
   "outputs": [],
   "source": []
  }
 ],
 "metadata": {
  "kernelspec": {
   "display_name": "Python 3 (ipykernel)",
   "language": "python",
   "name": "python3"
  },
  "language_info": {
   "codemirror_mode": {
    "name": "ipython",
    "version": 3
   },
   "file_extension": ".py",
   "mimetype": "text/x-python",
   "name": "python",
   "nbconvert_exporter": "python",
   "pygments_lexer": "ipython3",
   "version": "3.10.13"
  }
 },
 "nbformat": 4,
 "nbformat_minor": 5
}
