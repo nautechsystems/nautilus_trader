{
 "cells": [
  {
   "cell_type": "markdown",
   "id": "083b166e-c910-4d63-b5b5-eb37dd4f0ac6",
   "metadata": {},
   "source": [
    "# Quick Start\n",
    "\n",
    "This guide explains how to get up and running with NautilusTrader backtesting with some\n",
    "FX data. The Nautilus maintainers have pre-loaded some test data using the standard Nautilus persistence \n",
    "format (Parquet) for this guide.\n",
    "\n",
    "For more details on how to load data into Nautilus, see [Backtest Example](../user_guide/backtest_example.md)."
   ]
  },
  {
   "cell_type": "code",
   "execution_count": null,
   "id": "08df6f06-7371-47c8-a431-0f9cb64a2256",
   "metadata": {
    "tags": []
   },
   "outputs": [],
   "source": [
    "import datetime\n",
    "import os\n",
    "import shutil\n",
    "from decimal import Decimal\n",
    "\n",
    "import fsspec\n",
    "import pandas as pd\n",
    "from nautilus_trader.core.datetime import dt_to_unix_nanos\n",
    "from nautilus_trader.model.data.tick import QuoteTick\n",
    "from nautilus_trader.model.objects import Price, Quantity\n",
    "\n",
    "from nautilus_trader.backtest.node import BacktestNode, BacktestVenueConfig, BacktestDataConfig, BacktestRunConfig, BacktestEngineConfig\n",
    "from nautilus_trader.config import ImportableStrategyConfig\n",
    "from nautilus_trader.config import LoggingConfig\n",
    "from nautilus_trader.persistence.catalog import ParquetDataCatalog\n",
    "from nautilus_trader.persistence.external.core import process_files, write_objects\n",
    "from nautilus_trader.persistence.external.readers import TextReader\n",
    "from nautilus_trader.test_kit.providers import TestInstrumentProvider"
   ]
  },
  {
   "cell_type": "markdown",
   "id": "b01cba3c-1aa1-47d6-b126-65d4f8a725bf",
   "metadata": {},
   "source": [
    "## Connecting to the ParquetDataCatalog\n",
    "\n",
    "You should be able to see a single EUR/USD instrument in the catalog:"
   ]
  },
  {
   "cell_type": "code",
   "execution_count": null,
   "id": "2d8c93b8-932c-494a-a204-0de29315268d",
   "metadata": {},
   "outputs": [],
   "source": [
    "from nautilus_trader.persistence.catalog import ParquetDataCatalog\n",
    "\n",
    "# You can also use a relative path such as `ParquetDataCatalog(\"./catalog\")`,\n",
    "# for example if you're running this notebook after the data setup from the docs.\n",
    "# catalog = ParquetDataCatalog(\"./catalog\")\n",
    "catalog = ParquetDataCatalog.from_env()\n",
    "catalog.instruments()"
   ]
  },
  {
   "cell_type": "markdown",
   "id": "6dad8910-8554-4d7a-8d18-735195a9b28b",
   "metadata": {},
   "source": [
    "## Writing a trading strategy\n",
    "\n",
    "NautilusTrader includes a handful of indicators built-in, in this example we will use a MACD indicator to \n",
    "build a simple trading strategy. \n",
    "\n",
    "You can read more about [MACD here](https://www.investopedia.com/terms/m/macd.asp), so this \n",
    "indicator merely serves as an example without any expected alpha. There is also a way of\n",
    "registering indicators to receive certain data types, however in this example we manually pass the received\n",
    "`QuoteTick` to the indicator in the `on_quote_tick` method."
   ]
  },
  {
   "cell_type": "code",
   "execution_count": null,
   "id": "177077c0-f4b6-4bc0-8dfd-e24b424b9bc1",
   "metadata": {},
   "outputs": [],
   "source": [
    "from typing import Optional\n",
    "from nautilus_trader.core.message import Event\n",
    "from nautilus_trader.indicators.macd import MovingAverageConvergenceDivergence\n",
    "from nautilus_trader.model.data.tick import QuoteTick\n",
    "from nautilus_trader.model.enums import PriceType\n",
    "from nautilus_trader.model.enums import PositionSide\n",
    "from nautilus_trader.model.enums import OrderSide\n",
    "from nautilus_trader.model.events.position import PositionOpened\n",
    "from nautilus_trader.model.identifiers import InstrumentId\n",
    "from nautilus_trader.model.objects import Quantity\n",
    "from nautilus_trader.model.position import Position\n",
    "from nautilus_trader.trading.strategy import Strategy, StrategyConfig\n",
    "\n",
    "\n",
    "class MACDConfig(StrategyConfig):\n",
    "    instrument_id: str\n",
    "    fast_period: int = 12\n",
    "    slow_period: int = 26\n",
    "    trade_size: int = 1_000_000\n",
    "    entry_threshold: float = 0.00010\n",
    "\n",
    "    \n",
    "class MACDStrategy(Strategy):\n",
    "    def __init__(self, config: MACDConfig):\n",
    "        super().__init__(config=config)\n",
    "        # Our \"trading signal\"\n",
    "        self.macd = MovingAverageConvergenceDivergence(\n",
    "            fast_period=config.fast_period, slow_period=config.slow_period, price_type=PriceType.MID\n",
    "        )\n",
    "        # We copy some config values onto the class to make them easier to reference later on\n",
    "        self.entry_threshold = config.entry_threshold\n",
    "        self.instrument_id = InstrumentId.from_str(config.instrument_id)\n",
    "        self.trade_size = Quantity.from_int(config.trade_size)\n",
    "        self.entry_threshold = config.entry_threshold\n",
    "\n",
    "        # Convenience\n",
    "        self.position: Optional[Position] = None\n",
    "\n",
    "    def on_start(self):\n",
    "        self.subscribe_quote_ticks(instrument_id=self.instrument_id)\n",
    "\n",
    "    def on_stop(self):\n",
    "        self.close_all_positions(self.instrument_id)\n",
    "        self.unsubscribe_quote_ticks(instrument_id=self.instrument_id)\n",
    "\n",
    "    def on_quote_tick(self, tick: QuoteTick):\n",
    "        # You can register indicators to receive quote tick updates automatically,\n",
    "        # here we manually update the indicator to demonstrate the flexibility available.\n",
    "        self.macd.handle_quote_tick(tick)\n",
    "\n",
    "        if not self.macd.initialized:\n",
    "            return  # Wait for indicator to warm up\n",
    "        \n",
    "        # self._log.info(f\"{self.macd.value=}:%5d\")\n",
    "        self.check_for_entry()\n",
    "        self.check_for_exit()\n",
    "\n",
    "    def on_event(self, event: Event):\n",
    "        if isinstance(event, PositionOpened):\n",
    "            self.position = self.cache.position(event.position_id)\n",
    "\n",
    "    def check_for_entry(self):\n",
    "        # If MACD line is above our entry threshold, we should be LONG\n",
    "        if self.macd.value > self.entry_threshold:\n",
    "            if self.position and self.position.side == PositionSide.LONG:\n",
    "                return  # Already LONG\n",
    "\n",
    "            order = self.order_factory.market(\n",
    "                instrument_id=self.instrument_id,\n",
    "                order_side=OrderSide.BUY,\n",
    "                quantity=self.trade_size,\n",
    "            )\n",
    "            self.submit_order(order)\n",
    "        # If MACD line is below our entry threshold, we should be SHORT\n",
    "        elif self.macd.value < -self.entry_threshold:\n",
    "            if self.position and self.position.side == PositionSide.SHORT:\n",
    "                return  # Already SHORT\n",
    "\n",
    "            order = self.order_factory.market(\n",
    "                instrument_id=self.instrument_id,\n",
    "                order_side=OrderSide.SELL,\n",
    "                quantity=self.trade_size,\n",
    "            )\n",
    "            self.submit_order(order)\n",
    "\n",
    "    def check_for_exit(self):\n",
    "        # If MACD line is above zero then exit if we are SHORT\n",
    "        if self.macd.value >= 0.0:\n",
    "            if self.position and self.position.side == PositionSide.SHORT:\n",
    "                self.close_position(self.position)\n",
    "        # If MACD line is below zero then exit if we are LONG\n",
    "        else:\n",
    "            if self.position and self.position.side == PositionSide.LONG:\n",
    "                self.close_position(self.position)\n",
    "\n",
    "    def on_dispose(self):\n",
    "        pass  # Do nothing else"
   ]
  },
  {
   "cell_type": "markdown",
   "id": "a22fc47d-e701-4213-9afa-5a648062471e",
   "metadata": {},
   "source": [
    "## Configuring Backtests\n",
    "\n",
    "Now that we have a trading strategy and data, we can begin to configure a backtest run! Nautilus uses a `BacktestNode` \n",
    "to orchestrate backtest runs, which requires some setup. This may seem a little complex at first, \n",
    "however this is necessary for the capabilities that Nautilus strives for.\n",
    "\n",
    "To configure a `BacktestNode`, we first need to create an instance of a `BacktestRunConfig`, configuring the \n",
    "following (minimal) aspects of the backtest:\n",
    "\n",
    "- `engine` - The engine for the backtest representing our core system, which will also contain our strategies\n",
    "- `venues` - The simulated venues (exchanges or brokers) available in the backtest\n",
    "- `data` - The input data we would like to perform the backtest on\n",
    "\n",
    "There are many more configurable features which will be described later in the docs, for now this will get us up and running.\n",
    "\n",
    "## Venue\n",
    "\n",
    "First, we create a venue configuration. For this example we will create a simulated FX ECN. \n",
    "A venue needs a name which acts as an ID (in this case `SIM`), as well as some basic configuration, e.g. \n",
    "the account type (`CASH` vs `MARGIN`), an optional base currency, and starting balance(s)."
   ]
  },
  {
   "cell_type": "code",
   "execution_count": null,
   "id": "5a098369-08e4-4063-a7ec-5f1a88214731",
   "metadata": {},
   "outputs": [],
   "source": [
    "from nautilus_trader.config import BacktestVenueConfig\n",
    "\n",
    "venue = BacktestVenueConfig(\n",
    "    name=\"SIM\",\n",
    "    oms_type=\"NETTING\",\n",
    "    account_type=\"MARGIN\",\n",
    "    base_currency=\"USD\",\n",
    "    starting_balances=[\"1_000_000 USD\"]\n",
    ")"
   ]
  },
  {
   "cell_type": "code",
   "execution_count": null,
   "id": "5bfba48f-9406-4a43-91d7-9c2475ee8762",
   "metadata": {},
   "outputs": [],
   "source": [
    "instruments = catalog.instruments(as_nautilus=True)\n",
    "instruments"
   ]
  },
  {
   "cell_type": "markdown",
   "id": "7d43b9b0-cee5-47bb-aaba-249940aefbe0",
   "metadata": {},
   "source": [
    "## Instruments\n",
    "\n",
    "Second, we need to know about the instruments that we would like to load data for, we can use the `ParquetDataCatalog` for this:\n",
    "\n",
    "```python\n",
    "instruments = catalog.instruments(as_nautilus=True)\n",
    "instruments\n",
    "```\n",
    "\n",
    "## Data\n",
    "\n",
    "Next, we need to configure the data for the backtest. Nautilus is built to be very flexible when it \n",
    "comes to loading data for backtests, however this also means some configuration is required.\n",
    "\n",
    "For each tick type (and instrument), we add a `BacktestDataConfig`. In this instance we are simply \n",
    "adding the `QuoteTick`(s) for our EUR/USD instrument:"
   ]
  },
  {
   "cell_type": "code",
   "execution_count": null,
   "id": "551d967f-40b9-4e31-8268-739ddc2929ef",
   "metadata": {},
   "outputs": [],
   "source": [
    "from nautilus_trader.config import BacktestDataConfig\n",
    "from nautilus_trader.model.data.tick import QuoteTick\n",
    "\n",
    "data = BacktestDataConfig(\n",
    "    catalog_path=str(catalog.path),\n",
    "    data_cls=QuoteTick,\n",
    "    instrument_id=str(instruments[0].id),\n",
    "    end_time=\"2020-01-10\",\n",
    ")"
   ]
  },
  {
   "cell_type": "markdown",
   "id": "57365e02-96ab-44d1-bc39-2b4c53b7065e",
   "metadata": {},
   "source": [
    "## Engine\n",
    "\n",
    "Then, we need a `BacktestEngineConfig` which represents the configuration of our core trading system.\n",
    "Here we need to pass our trading strategies, we can also adjust the log level \n",
    "and configure many other components (however, it's also fine to use the defaults):\n",
    "\n",
    "Strategies are added via the `ImportableStrategyConfig`, which allows importing strategies from arbitrary files or \n",
    "user packages. In this instance, our `MACDStrategy` is defined in the current module, which python refers to as `__main__`."
   ]
  },
  {
   "cell_type": "code",
   "execution_count": null,
   "id": "d6ecd1e6-a603-4b1d-9e8b-69d7722dc9c6",
   "metadata": {},
   "outputs": [],
   "source": [
    "from nautilus_trader.config import BacktestEngineConfig\n",
    "from nautilus_trader.config import ImportableStrategyConfig\n",
    "\n",
    "# NautilusTrader currently exceeds the rate limit for Jupyter notebook logging (stdout output),\n",
    "# this is why the `log_level` is set to \"ERROR\". If you lower this level to see\n",
    "# more logging then the notebook will hang during cell execution. A fix is currently\n",
    "# being investigated which involves either raising the configured rate limits for\n",
    "# Jupyter, or throttling the log flushing from Nautilus.\n",
    "# https://github.com/jupyterlab/jupyterlab/issues/12845\n",
    "# https://github.com/deshaw/jupyterlab-limit-output\n",
    "engine = BacktestEngineConfig(\n",
    "    strategies=[\n",
    "        ImportableStrategyConfig(\n",
    "            strategy_path=\"__main__:MACDStrategy\",\n",
    "            config_path=\"__main__:MACDConfig\",\n",
    "            config=dict(\n",
    "              instrument_id=instruments[0].id.value,\n",
    "              fast_period=12,\n",
    "              slow_period=26,\n",
    "            ),\n",
    "        )\n",
    "    ],\n",
    "    logging=LoggingConfig(log_level=\"ERROR\"),\n",
    ")"
   ]
  },
  {
   "cell_type": "markdown",
   "id": "c0768dec-cfc0-4ca1-abe7-c5105f244d85",
   "metadata": {},
   "source": [
    "## Running a backtest\n",
    "\n",
    "We can now pass our various config pieces to the `BacktestRunConfig`. This object now contains the \n",
    "full configuration for our backtest."
   ]
  },
  {
   "cell_type": "code",
   "execution_count": null,
   "id": "eab6d9f6-832f-4a90-a58d-58d9721e0c40",
   "metadata": {},
   "outputs": [],
   "source": [
    "from nautilus_trader.config import BacktestRunConfig\n",
    "\n",
    "\n",
    "config = BacktestRunConfig(\n",
    "    engine=engine,\n",
    "    venues=[venue],\n",
    "    data=[data],\n",
    ")"
   ]
  },
  {
   "cell_type": "markdown",
   "id": "d3bdd374-56b4-4bd0-8eb2-6eb7acbc2f9b",
   "metadata": {},
   "source": [
    "The `BacktestNode` class will orchestrate the backtest run. The reason for this separation between \n",
    "configuration and execution is the `BacktestNode` allows running multiple configurations (different \n",
    "parameters or batches of data). We are now ready to run some backtests!"
   ]
  },
  {
   "cell_type": "code",
   "execution_count": null,
   "id": "39d640bb-ba7b-4d4b-8c18-5e88f5e294aa",
   "metadata": {},
   "outputs": [],
   "source": [
    "from nautilus_trader.backtest.node import BacktestNode\n",
    "from nautilus_trader.backtest.results import BacktestResult\n",
    "\n",
    "\n",
    "node = BacktestNode(configs=[config])\n",
    "\n",
    " # Runs one or many configs synchronously\n",
    "results: list[BacktestResult] = node.run()"
   ]
  },
  {
   "cell_type": "markdown",
   "id": "8e11a961-2ceb-4cec-986f-0ae703c3db5c",
   "metadata": {},
   "source": [
    "Now that the run is complete, we can also directly query for the `BacktestEngine`(s) used internally by the `BacktestNode`\n",
    "by using the run configs ID. \n",
    "\n",
    "The engine(s) can provide additional reports and information."
   ]
  },
  {
   "cell_type": "code",
   "execution_count": null,
   "id": "628120c5-0480-4ee7-9ef1-b561e054bcdf",
   "metadata": {},
   "outputs": [],
   "source": [
    "from nautilus_trader.backtest.engine import BacktestEngine\n",
    "from nautilus_trader.model.identifiers import Venue\n",
    "\n",
    "engine: BacktestEngine = node.get_engine(config.id)\n",
    "\n",
    "engine.trader.generate_order_fills_report()"
   ]
  },
  {
   "cell_type": "code",
   "execution_count": null,
   "id": "3e71b701-086f-4393-8931-962b5f38f609",
   "metadata": {},
   "outputs": [],
   "source": [
    "engine.trader.generate_positions_report()"
   ]
  },
  {
   "cell_type": "code",
   "execution_count": null,
   "id": "24f33473-a059-49e1-9c4a-df27ee58e3c3",
   "metadata": {},
   "outputs": [],
   "source": [
    "engine.trader.generate_account_report(Venue(\"SIM\"))"
   ]
  },
  {
   "cell_type": "code",
   "execution_count": null,
   "id": "db0239bb-7f8f-408c-b816-b80c001434f6",
   "metadata": {},
   "outputs": [],
   "source": []
  }
 ],
 "metadata": {
  "kernelspec": {
   "display_name": "Python 3 (ipykernel)",
   "language": "python",
   "name": "python3"
  },
  "language_info": {
   "codemirror_mode": {
    "name": "ipython",
    "version": 3
   },
   "file_extension": ".py",
   "mimetype": "text/x-python",
   "name": "python",
   "nbconvert_exporter": "python",
   "pygments_lexer": "ipython3",
   "version": "3.9.16"
  }
 },
 "nbformat": 4,
 "nbformat_minor": 5
}
