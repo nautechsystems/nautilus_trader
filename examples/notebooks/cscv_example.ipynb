{
 "cells": [
  {
   "cell_type": "markdown",
   "id": "172c1a55-34bb-4315-80f9-1dfb1c9e4315",
   "metadata": {},
   "source": [
    "# **Dependecies**"
   ]
  },
  {
   "cell_type": "markdown",
   "id": "3a9d08e8-d38c-4640-ade8-ef9f2fb7c400",
   "metadata": {},
   "source": [
    "The CSCV analysis depends on the following python packages:\n",
    "- matplotlib  \n",
    "- statsmodels"
   ]
  },
  {
   "cell_type": "markdown",
   "id": "e0ea685e-7b3e-4ec8-bc2b-ce2e75642778",
   "metadata": {},
   "source": [
    "# **Importing Libraries**"
   ]
  },
  {
   "cell_type": "code",
   "execution_count": null,
   "id": "0a8eff8a-8fcd-4591-8034-4340a5767ef4",
   "metadata": {},
   "outputs": [],
   "source": [
    "import pandas as pd \n",
    "import numpy as np\n",
    "from nautilus_trader.backtest.cscv_analysis import CSCV\n",
    "from nautilus_trader.analysis.statistics.sharpe_ratio import SharpeRatio"
   ]
  },
  {
   "cell_type": "markdown",
   "id": "179199d1-23e9-4338-95a2-90ac383bdf83",
   "metadata": {},
   "source": [
    "# **Load Data**"
   ]
  },
  {
   "cell_type": "markdown",
   "id": "62573db5-be64-4321-a55a-b5396b16bb72",
   "metadata": {},
   "source": [
    "A EMACrossTrailingStop Strategy is used as example,I perform backtesing of this strategy with different fast_ema_period and slow_ema_period,results are saved into\n",
    "backtest_returns.csv. This pandas DataFrame's index is DatetimeIndex and each column represents one group of parameters' return on a certain day."
   ]
  },
  {
   "cell_type": "code",
   "execution_count": null,
   "id": "a7259223-b291-492c-a306-0d0e0e55d734",
   "metadata": {},
   "outputs": [],
   "source": [
    "df = pd.read_csv(\"backtest_returns.csv\",index_col=0)\n",
    "df.index = pd.to_datetime(df.index)"
   ]
  },
  {
   "cell_type": "code",
   "execution_count": null,
   "id": "971137f9-a8e4-4d2b-bb55-fa8b6e11f00b",
   "metadata": {},
   "outputs": [],
   "source": [
    "df.head()"
   ]
  },
  {
   "cell_type": "markdown",
   "id": "4637ee6b-d52b-4b7e-aa21-d64954ad11f8",
   "metadata": {},
   "source": [
    "## **CSCV Analysis**"
   ]
  },
  {
   "cell_type": "markdown",
   "id": "976a38f2-f8cd-4a0e-aee0-e748c55dea8b",
   "metadata": {},
   "source": [
    "The Combinatorially Symmetric Cross-Validation (CSCV) was introduced in [1].CSCV is a framwork framework for estimating the  probability of backtest overfitting(PBO) for different type of  strategies.\n",
    "\n",
    "### the Combinational Symmetric Cross Validation procedure\n",
    "1. Collect a matrix $J_s$ of returns' time series for each strategy \n",
    "2. Split $J_s$ into S disjoint submatrices\n",
    "    * for example, $J_s$ in [$J_1$, $J_2$, $J_3$, $J_4$,, ...]\n",
    "3. Generate all combination $C_s$ from $J_s$\n",
    "    * for example\n",
    "        * training sets = [$J_1$ + $J_2$ ,   $J_1$ +$J_3$,   $J_1$ + $J_4$, ...] (in-sample)\n",
    "        * testing   sets = [$J_3$ + $J_4$ ,   $J_2$ +$J_4$,   $J_2$ + $J_3$, ...] (out-of-sample)\n",
    "4. Each c in $C_s$,\n",
    "    1. compute in-sample and out-of-sample performance for each strategy \n",
    "    2. find the best in-sample strategy, and its corresponding out-of-sample performance\n",
    "    3. Determine the relative rank of the out-of-sample perfoemance associated with the trial chosen in-sample, denoted by $\\bar{w}_c$, where $\\bar{w}_c \\in (0,1)$; \n",
    "    4. compute the logit $\\lambda_c = log(\\frac{\\bar{w}_c}{1-\\bar{w}_c})$\n",
    "5. compute the probability of backtest overfitting\n",
    "    * $PBO = \\int_{-\\inf}^0 f(\\lambda)\\, d\\lambda$"
   ]
  },
  {
   "cell_type": "code",
   "execution_count": null,
   "id": "7148397c-cea4-419e-9386-ffa6397836ed",
   "metadata": {},
   "outputs": [],
   "source": [
    "cv = CSCV(df,10)"
   ]
  },
  {
   "cell_type": "code",
   "execution_count": null,
   "id": "ef8ad6e5-a51f-472c-8036-dc68a6b5c8a6",
   "metadata": {},
   "outputs": [],
   "source": [
    "cv.estimate()"
   ]
  },
  {
   "cell_type": "code",
   "execution_count": null,
   "id": "791ef24b-fc1c-4b76-8345-f1902282b3b8",
   "metadata": {},
   "outputs": [],
   "source": [
    "cv.plot_pbo()"
   ]
  },
  {
   "cell_type": "markdown",
   "id": "c42e57a5-c9e5-472a-9c91-759822f66fab",
   "metadata": {},
   "source": [
    "As the figure shows that current parameters range for the EMACrossTrailingStop Strategy's probability of backtest overfitting is 16.7%"
   ]
  },
  {
   "cell_type": "code",
   "execution_count": null,
   "id": "19cebdd4-6d81-436d-87ba-8ca1f84affa6",
   "metadata": {},
   "outputs": [],
   "source": [
    "cv.plot_performance_degradation()"
   ]
  },
  {
   "cell_type": "markdown",
   "id": "36d8421a-f848-4a34-96fd-1e9e68f91e20",
   "metadata": {},
   "source": [
    "The last figure Perform a linear regression between the best in-sample strategy simulation performance and out-of-sample simulation performance,\n",
    "the negetive slope indicates that current parameters range for the EMACrossTrailingStop Strategy might meet a performance degradation in the future.\n"
   ]
  },
  {
   "cell_type": "code",
   "execution_count": null,
   "id": "fb406751-e547-45aa-98de-174d3eeb7c2c",
   "metadata": {},
   "outputs": [],
   "source": [
    "cv.plot_stochastic_dominance()"
   ]
  },
  {
   "cell_type": "markdown",
   "id": "e8e89838-a44a-4db0-a2dd-c29b0a4fa99f",
   "metadata": {},
   "source": [
    "The last figure plot  cumulative distribution function of Sharp ratio for in sample and \n",
    "Out of sample set.We can see that in most case SD2 is bigger than 0,which indicates \n",
    "the EMACrossTrailingStop Strategy In-Sample performance is preferable to randomly choosing."
   ]
  },
  {
   "cell_type": "markdown",
   "id": "38af3dd8-8754-43f8-9b0e-bc2b82997598",
   "metadata": {},
   "source": [
    "## **How to use it**"
   ]
  },
  {
   "cell_type": "markdown",
   "id": "b126c61f-fdce-46d8-ab4e-73c9b42ca363",
   "metadata": {},
   "source": [
    "CSCV is used to compare different type of strategies performance,you can compute a CSCV for each strategy,as use 1.0/PBO as asset management weights."
   ]
  },
  {
   "cell_type": "markdown",
   "id": "aa8ac675-bd8d-49b7-8eb2-8b5707ca791e",
   "metadata": {},
   "source": [
    "# **References**"
   ]
  },
  {
   "cell_type": "markdown",
   "id": "6fa27afd-ff5c-43b1-a895-97de93443b1b",
   "metadata": {},
   "source": [
    "[1]. M. L. de Prado, Advances in financial machine learning (John Wiley & Sons, 2018).  \n",
    "\n",
    "[2]. D. Bailey, J. Borwein, M. López de Prado and J. Zhu, “The probability of backtest overfitting,” working paper, 2013, http://ssrn.com/abstract=2326253.  \n",
    "\n",
    "[3]. Bailey, D., J. Borwein, M. López de Prado and J. Zhu. “Pseudo-Mathematics and Financial Charlatanism: The Effects of Backtest Overfitting on Out-Of-Sample Performance.” Notices of the American Mathematical Society, Vol. 61, No. 5 (2014), pp. 458-471. Available at http://ssrn.com/abstract=2308659."
   ]
  },
  {
   "cell_type": "code",
   "execution_count": null,
   "id": "82f0d0ce-69e9-4faa-9337-8eee7866b5fa",
   "metadata": {},
   "outputs": [],
   "source": []
  }
 ],
 "metadata": {
  "kernelspec": {
   "display_name": "nautilus",
   "language": "python",
   "name": "nautilus-trader-py3.8"
  },
  "language_info": {
   "codemirror_mode": {
    "name": "ipython",
    "version": 3
   },
   "file_extension": ".py",
   "mimetype": "text/x-python",
   "name": "python",
   "nbconvert_exporter": "python",
   "pygments_lexer": "ipython3",
   "version": "3.8.10"
  }
 },
 "nbformat": 4,
 "nbformat_minor": 5
}
