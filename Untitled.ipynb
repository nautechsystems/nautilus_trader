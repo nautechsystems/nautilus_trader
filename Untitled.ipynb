{
 "cells": [
  {
   "cell_type": "code",
   "execution_count": 2,
   "id": "8da4a20b-5487-4683-a107-e815cf6878c8",
   "metadata": {},
   "outputs": [],
   "source": [
    "import pathlib"
   ]
  },
  {
   "cell_type": "code",
   "execution_count": 3,
   "id": "f88d749b-e204-40a8-9f21-d76f1528ea40",
   "metadata": {},
   "outputs": [],
   "source": [
    "import os\n",
    "\n",
    "def root_path():\n",
    "    return os.path.abspath(os.sep)"
   ]
  },
  {
   "cell_type": "code",
   "execution_count": 4,
   "id": "d261be0d-fdad-4c0d-b590-0698977bb4a5",
   "metadata": {},
   "outputs": [
    {
     "data": {
      "text/plain": [
       "'C:\\\\'"
      ]
     },
     "execution_count": 4,
     "metadata": {},
     "output_type": "execute_result"
    }
   ],
   "source": [
    "root_path()"
   ]
  },
  {
   "cell_type": "code",
   "execution_count": 5,
   "id": "9a9a10be-2610-425c-a9d5-54f862804c8c",
   "metadata": {},
   "outputs": [],
   "source": [
    "from tempfile import tempdir"
   ]
  },
  {
   "cell_type": "code",
   "execution_count": 7,
   "id": "df526e58-5c04-484b-8d00-9b6d8b3bb8fb",
   "metadata": {},
   "outputs": [
    {
     "data": {
      "text/plain": [
       "'C:\\\\Users\\\\brad\\\\AppData\\\\Local\\\\Temp'"
      ]
     },
     "execution_count": 7,
     "metadata": {},
     "output_type": "execute_result"
    }
   ],
   "source": [
    " tempdir"
   ]
  },
  {
   "cell_type": "code",
   "execution_count": null,
   "id": "a0898027-f60f-4832-b5d4-30090ead0427",
   "metadata": {},
   "outputs": [],
   "source": []
  }
 ],
 "metadata": {
  "kernelspec": {
   "display_name": "Python 3 (ipykernel)",
   "language": "python",
   "name": "python3"
  },
  "language_info": {
   "codemirror_mode": {
    "name": "ipython",
    "version": 3
   },
   "file_extension": ".py",
   "mimetype": "text/x-python",
   "name": "python",
   "nbconvert_exporter": "python",
   "pygments_lexer": "ipython3",
   "version": "3.10.4"
  }
 },
 "nbformat": 4,
 "nbformat_minor": 5
}
