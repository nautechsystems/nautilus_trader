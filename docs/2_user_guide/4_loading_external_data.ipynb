{
 "cells": [
  {
   "cell_type": "markdown",
   "id": "1781c982-1086-44e3-8a2e-5a8d662224fc",
   "metadata": {},
   "source": [
    "# Loading External Data\n",
    "\n",
    "This notebook runs through a example loading raw data (external to nautilus) into the Nautilus Trader specific storage format (parquet files). "
   ]
  },
  {
   "cell_type": "markdown",
   "id": "c5054869-9f66-4782-99a8-5ba7c4b3fb3c",
   "metadata": {
    "tags": []
   },
   "source": [
    "## Getting some raw data\n",
    "\n",
    "Before we start the notebook - as a once off we need to download some sample data for backtesting\n",
    "\n",
    "For this notebook we will use Forex data from `histdata.com`, simply go to https://www.histdata.com/download-free-forex-historical-data/?/ascii/tick-data-quotes/ and select a Forex pair and one or more months of data to download.\n",
    "\n",
    "Once you have downloaded the data, set the variable `DATA_DIR` below to the directory containing the data. By default it will use the users `Downloads` directory."
   ]
  },
  {
   "cell_type": "code",
   "execution_count": null,
   "id": "b6da34f0-9e47-4de2-9f30-68b2725a3ce6",
   "metadata": {},
   "outputs": [],
   "source": [
    "DATA_DIR = \"~/Downloads/\""
   ]
  },
  {
   "cell_type": "markdown",
   "id": "de2ed543-97c1-42b6-82d9-82bd3cb6fc2c",
   "metadata": {},
   "source": [
    "Run the cell below; you should see the files that you downloaded"
   ]
  },
  {
   "cell_type": "code",
   "execution_count": null,
   "id": "152a5cdc-f3d8-4b7e-9bd1-87241cd99967",
   "metadata": {},
   "outputs": [],
   "source": [
    "import fsspec\n",
    "fs = fsspec.filesystem('file')\n",
    "raw_files = fs.glob(f\"{DATA_DIR}/HISTDATA*\")\n",
    "assert raw_files, f\"Unable to find any histdata files in directory {DATA_DIR}\"\n",
    "raw_files"
   ]
  },
  {
   "cell_type": "markdown",
   "id": "a4be5c96-3d1b-40f9-a6ee-6f19f84d0439",
   "metadata": {
    "tags": []
   },
   "source": [
    "## The Data Catalog\n",
    "\n",
    "Next we will load this raw data into the data catalog. The data catalog is a central store for Nautilus data, persisted in the [Parquet](https://parquet.apache.org) file format.\n",
    "\n",
    "We have chosen parquet as the storage format for the following reasons:\n",
    "- It performs much better than CSV/JSON/HDF5/etc in terms of compression (storage size) and read performance.\n",
    "- It does not require any separate running components (for example a database).\n",
    "- It is quick and simple for someone to get up and running with."
   ]
  },
  {
   "cell_type": "markdown",
   "id": "28863c1c-5161-4a5a-880c-f21ea82d6c9e",
   "metadata": {},
   "source": [
    "## Loading data into the catalog\n",
    "\n",
    "We can load data from various sources into the data catalog using helper methods in the `nautilus_trader.persistence.external.readers` module. The module contains methods for reading various data formats (csv, json, txt), minimising the amount of code required to get data loaded correctly into the data catalog.\n",
    "\n",
    "The Forex data from `histdata` is stored in csv/text format, with fields `timestamp, bid_price, ask_price`. To load the data into the catalog, we simply write a function that converts each row into a Nautilus object (in this case, a `QuoteTick`). For this example, we will use the `TextReader` helper, which allows reading and applying a parsing function line by line.\n",
    "\n",
    "Then, we simply instantiate a data catalog (passing in a directory where to store the data, by default we will just use the current directory) and pass our parsing function wrapping in the Reader class to `process_files`. We also need to know about which instrument this data is for; in this example, we will simply use one of the Nautilus test helpers to create a Forex instrument.\n",
    "\n",
    "It should only take a couple of minutes to load the data (depending on how many months)."
   ]
  },
  {
   "cell_type": "code",
   "execution_count": null,
   "id": "83ee13a6-5578-4b32-a75c-3a376d6e971e",
   "metadata": {},
   "outputs": [],
   "source": [
    "import datetime\n",
    "import pandas as pd\n",
    "\n",
    "from nautilus_trader.persistence.catalog import DataCatalog\n",
    "from nautilus_trader.persistence.external.core import process_files, write_objects\n",
    "from nautilus_trader.persistence.external.readers import TextReader\n",
    "\n",
    "from nautilus_trader.model.data.tick import QuoteTick\n",
    "from nautilus_trader.model.objects import Price, Quantity\n",
    "from nautilus_trader.core.datetime import dt_to_unix_nanos\n",
    "\n",
    "\n",
    "from nautilus_trader.backtest.data.providers import TestInstrumentProvider"
   ]
  },
  {
   "cell_type": "code",
   "execution_count": null,
   "id": "d8213a82-3663-412a-aac4-7b93ea1cc358",
   "metadata": {},
   "outputs": [],
   "source": [
    "def parser(line):\n",
    "    ts, bid, ask, idx = line.split(b\",\")\n",
    "    dt = pd.Timestamp(datetime.datetime.strptime(ts.decode(), \"%Y%m%d %H%M%S%f\"), tz='UTC')\n",
    "    yield QuoteTick(\n",
    "        instrument_id=AUDUSD.id,\n",
    "        bid=Price.from_str(bid.decode()),\n",
    "        ask=Price.from_str(ask.decode()),\n",
    "        bid_size=Quantity.from_int(100_000),\n",
    "        ask_size=Quantity.from_int(100_000),\n",
    "        ts_event=dt_to_unix_nanos(dt),\n",
    "        ts_init=dt_to_unix_nanos(dt),\n",
    "    )"
   ]
  },
  {
   "cell_type": "markdown",
   "id": "1a33829d-9f1b-4bbd-89fa-7ffc8e9772fa",
   "metadata": {},
   "source": [
    "We'll set up a catalog in the current working directory"
   ]
  },
  {
   "cell_type": "code",
   "execution_count": null,
   "id": "151e6e66-43ee-4b7e-a22e-41659f19d4b8",
   "metadata": {},
   "outputs": [],
   "source": [
    "import os, shutil\n",
    "CATALOG_PATH = os.getcwd() + \"/catalog\"\n",
    "\n",
    "# Clear if it already exists, then create fresh\n",
    "if os.path.exists(CATALOG_PATH):\n",
    "    shutil.rmtree(CATALOG_PATH)\n",
    "os.mkdir(CATALOG_PATH)"
   ]
  },
  {
   "cell_type": "code",
   "execution_count": null,
   "id": "a3ced2c7-5776-4f8e-954d-fe1102303d80",
   "metadata": {},
   "outputs": [],
   "source": [
    "AUDUSD = TestInstrumentProvider.default_fx_ccy(\"AUD/USD\")\n",
    "\n",
    "catalog = DataCatalog(CATALOG_PATH)\n",
    "\n",
    "process_files(\n",
    "    glob_path=f\"{DATA_DIR}/HISTDATA*.zip\",\n",
    "    reader=TextReader(line_parser=parser),\n",
    "    catalog=catalog,\n",
    ")\n",
    "\n",
    "# Also manually write the AUDUSD instrument to the catalog\n",
    "write_objects(catalog, [AUDUSD])"
   ]
  },
  {
   "cell_type": "markdown",
   "id": "ad998911-7ed2-43c8-98c5-b35059edfca0",
   "metadata": {},
   "source": [
    "## Using the Data Catalog \n",
    "\n",
    "Once data has been loaded into the catalog, the `catalog` instance can be used for loading data into the backtest engine, or simple for research purposes. It contains various methods to pull data from the catalog, like `quote_ticks` (show below))"
   ]
  },
  {
   "cell_type": "code",
   "execution_count": null,
   "id": "99722f39-474d-4101-a898-9a07ef10261a",
   "metadata": {},
   "outputs": [],
   "source": [
    "catalog.instruments()"
   ]
  },
  {
   "cell_type": "code",
   "execution_count": null,
   "id": "a4807b41-e5d0-4d65-8cce-51d75bf50b37",
   "metadata": {},
   "outputs": [],
   "source": [
    "start = dt_to_unix_nanos(pd.Timestamp('2020-01-01', tz='UTC'))\n",
    "end =  dt_to_unix_nanos(pd.Timestamp('2020-01-02', tz='UTC'))\n",
    "\n",
    "catalog.quote_ticks(start=start, end=end)"
   ]
  },
  {
   "cell_type": "code",
   "execution_count": null,
   "id": "a5e1e0a2",
   "metadata": {},
   "outputs": [],
   "source": []
  }
 ],
 "metadata": {
  "jupytext": {
   "formats": "ipynb,md"
  },
  "kernelspec": {
   "display_name": "Python (nautilus_trader)",
   "language": "python",
   "name": "nautilus_trader"
  },
  "language_info": {
   "codemirror_mode": {
    "name": "ipython",
    "version": 3
   },
   "file_extension": ".py",
   "mimetype": "text/x-python",
   "name": "python",
   "nbconvert_exporter": "python",
   "pygments_lexer": "ipython3",
   "version": "3.9.7"
  }
 },
 "nbformat": 4,
 "nbformat_minor": 5
}
