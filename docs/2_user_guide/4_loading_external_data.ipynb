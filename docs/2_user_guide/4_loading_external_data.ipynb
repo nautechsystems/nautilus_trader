{
 "cells": [
  {
   "cell_type": "markdown",
   "id": "1781c982-1086-44e3-8a2e-5a8d662224fc",
   "metadata": {},
   "source": [
    "# Loading External Data\n",
    "\n",
    "This notebook runs through a example loading raw data (external to nautilus) into the Nautilus Trader `DataCatalog`, for use in backtesting.\n",
    "\n",
    "### The Data Catalog\n",
    "\n",
    "The data catalog is a central store for Nautilus data, persisted in the [Parquet](https://parquet.apache.org) file format.\n",
    "\n",
    "We have chosen parquet as the storage format for the following reasons:\n",
    "- It performs much better than CSV/JSON/HDF5/etc in terms of compression (storage size) and read performance.\n",
    "- It does not require any separate running components (for example a database).\n",
    "- It is quick and simple for someone to get up and running with."
   ]
  },
  {
   "cell_type": "markdown",
   "id": "c5054869-9f66-4782-99a8-5ba7c4b3fb3c",
   "metadata": {
    "tags": []
   },
   "source": [
    "## Getting some sample raw data\n",
    "\n",
    "Before we start the notebook - as a once off we need to download some sample data for loading\n",
    "\n",
    "For this notebook we will use Forex data from `histdata.com`, simply go to https://www.histdata.com/download-free-forex-historical-data/?/ascii/tick-data-quotes/ and select a Forex pair and one or more months of data to download.\n",
    "\n",
    "Once you have downloaded the data, set the variable `input_files` below to the path containing the data. You can also use a glob to select multiple files, for example `\"~/Downloads/HISTDATA_COM_ASCII_AUDUSD_*.zip\"`"
   ]
  },
  {
   "cell_type": "code",
   "execution_count": null,
   "id": "b6da34f0-9e47-4de2-9f30-68b2725a3ce6",
   "metadata": {},
   "outputs": [],
   "source": [
    "import fsspec\n",
    "fs = fsspec.filesystem('file')\n",
    "\n",
    "input_files = \"~/Downloads/HISTDATA_COM_ASCII_AUDUSD_T202001.zip\""
   ]
  },
  {
   "cell_type": "markdown",
   "id": "de2ed543-97c1-42b6-82d9-82bd3cb6fc2c",
   "metadata": {},
   "source": [
    "Run the cell below; you should see the files that you downloaded"
   ]
  },
  {
   "cell_type": "code",
   "execution_count": null,
   "id": "f39f00a8-1429-4887-9a2c-4e63e2a02eaf",
   "metadata": {},
   "outputs": [],
   "source": [
    "# Simple check that the file path is correct\n",
    "assert len(fs.glob(input_files)), f\"Could not find files with {input_files=}\""
   ]
  },
  {
   "cell_type": "markdown",
   "id": "28863c1c-5161-4a5a-880c-f21ea82d6c9e",
   "metadata": {},
   "source": [
    "### Loading data via `Reader` classes\n",
    "\n",
    "We can load data from various sources into the data catalog using helper methods in the `nautilus_trader.persistence.external.readers` module. The module contains methods for reading various data formats (csv, json, txt), minimising the amount of code required to get data loaded correctly into the data catalog.\n",
    "\n",
    "There are a handful of readers available, some notes on when to use which:\n",
    "- `CSVReader` - use when your data is CSV (comma separated values) and has a header row. Each row of the data typically is one \"entry\" and is linked to the header.\n",
    "- `TextReader` - similar to CSVReader, but used when data may container multiple \"entries\" per line, for example JSON data with multiple orderbook or trade ticks in a single line. Typically does not have a header row and field names come from some definition elsewhere. \n",
    "- `ParquetReader` - for parquet files, will read chunks of the data and process similar to `CSVReader`\n",
    "\n",
    "Each of the `Reader` classes takes a `line_parser` or `block_parser` function, a user defined function to convert a line or block (chunk / multiple rows) of data into nautilus object(s) (for example `QuoteTick` or `TradeTick`)."
   ]
  },
  {
   "cell_type": "markdown",
   "id": "9852d12f-d0cf-4fe9-80f8-cff6edc1a57f",
   "metadata": {},
   "source": [
    "### Writing the `parser` function\n",
    "\n",
    "The Forex data from `histdata` is stored in csv/text format, with fields `timestamp, bid_price, ask_price`. \n",
    "\n",
    "For this example, we will use the `CSVReader` class, but we need to manually pass a header as the files do not contain one. The `CSVReader` has a couple of options, we'll be setting and `chunked=False` to process the data line-by-line and `as_dataframe=False` to process the data as a string rather than DataFrame. See the [API Reference](\"../3_api_reference/persistence\") for more details"
   ]
  },
  {
   "cell_type": "code",
   "execution_count": null,
   "id": "d8213a82-3663-412a-aac4-7b93ea1cc358",
   "metadata": {},
   "outputs": [],
   "source": [
    "import datetime\n",
    "import pandas as pd\n",
    "from nautilus_trader.persistence.external.readers import CSVReader\n",
    "from nautilus_trader.model.data.tick import QuoteTick\n",
    "from nautilus_trader.model.objects import Price, Quantity\n",
    "from nautilus_trader.core.datetime import dt_to_unix_nanos\n",
    "\n",
    "def parser(data, instrument_id):\n",
    "    \"\"\" Parser function for hist_data FX data, for use with CSV Reader \"\"\"\n",
    "    dt = pd.Timestamp(datetime.datetime.strptime(data['timestamp'].decode(), \"%Y%m%d %H%M%S%f\"), tz='UTC')\n",
    "    yield QuoteTick(\n",
    "        instrument_id=instrument_id,\n",
    "        bid=Price.from_str(data['bid'].decode()),\n",
    "        ask=Price.from_str(data['ask'].decode()),\n",
    "        bid_size=Quantity.from_int(100_000),\n",
    "        ask_size=Quantity.from_int(100_000),\n",
    "        ts_event=dt_to_unix_nanos(dt),\n",
    "        ts_init=dt_to_unix_nanos(dt),\n",
    "    )"
   ]
  },
  {
   "cell_type": "markdown",
   "id": "f022d5a2-9c1f-4c0d-828f-879f328cc589",
   "metadata": {},
   "source": [
    "### Creating a DataCatalog if one does not exist\n",
    "\n",
    "Now that we have our parser function, we instantiate a `DataCatalog` (passing in a directory where to store the data, by default we will just use the current directory)"
   ]
  },
  {
   "cell_type": "code",
   "execution_count": null,
   "id": "151e6e66-43ee-4b7e-a22e-41659f19d4b8",
   "metadata": {},
   "outputs": [],
   "source": [
    "import os, shutil\n",
    "CATALOG_PATH = os.getcwd() + \"/catalog\"\n",
    "\n",
    "# Clear if it already exists, then create fresh\n",
    "if os.path.exists(CATALOG_PATH):\n",
    "    shutil.rmtree(CATALOG_PATH)\n",
    "os.mkdir(CATALOG_PATH)"
   ]
  },
  {
   "cell_type": "code",
   "execution_count": null,
   "id": "27f491c1-8458-443e-9fe7-ab75aa0f5ee3",
   "metadata": {},
   "outputs": [],
   "source": [
    "# Create an instance of the DataCatalog\n",
    "from nautilus_trader.persistence.catalog import DataCatalog\n",
    "catalog = DataCatalog(CATALOG_PATH)"
   ]
  },
  {
   "cell_type": "markdown",
   "id": "3006b5e0-f29e-44cc-b139-b0baf512cffd",
   "metadata": {},
   "source": [
    "### Instruments\n",
    "\n",
    "Nautilus needs to link market data to an `instrument_id`, and an `instrument_id` to an `Instrument` definition. This can be done at any time, but typically it makes sense to do it when you are loading market data into the catalog.\n",
    "\n",
    "For our example, Nautilus contains some helpers for creating Forex pairs, which we will use. If, however, you were adding data for financial or crypto markets, you could need to create (and add to the catalog) an instrument corresponding to that instrument_id. Definitions for various other instruments can be found in `nautilus_trader.model.instruments`. \n",
    "\n",
    "See [Instruments #TODO](\"./5_instruments\") for more details on creating other instruments\n",
    "\n"
   ]
  },
  {
   "cell_type": "code",
   "execution_count": null,
   "id": "0babcb60-56d8-40b0-adb4-18834aeec470",
   "metadata": {},
   "outputs": [],
   "source": [
    "from nautilus_trader.persistence.external.core import process_files, write_objects\n",
    "from nautilus_trader.backtest.data.providers import TestInstrumentProvider\n",
    "\n",
    "# Use nautilus test helpers to create a EUR/USD Forex instrument for our purposes\n",
    "instrument = TestInstrumentProvider.default_fx_ccy(\"EUR/USD\")"
   ]
  },
  {
   "cell_type": "markdown",
   "id": "d30cae3e-139d-4f41-907f-7d2e38887bc7",
   "metadata": {},
   "source": [
    "We can now add our new instrument to the `DataCatalog`"
   ]
  },
  {
   "cell_type": "code",
   "execution_count": null,
   "id": "1e008b64-b972-4f40-8e9b-f7c0a0b8cd0f",
   "metadata": {},
   "outputs": [],
   "source": [
    "from nautilus_trader.persistence.external.core import write_objects\n",
    "\n",
    "write_objects(catalog, [instrument])"
   ]
  },
  {
   "cell_type": "markdown",
   "id": "bd6f66b1-462d-401d-8175-10d658c74d92",
   "metadata": {},
   "source": [
    "And check its existence:"
   ]
  },
  {
   "cell_type": "code",
   "execution_count": null,
   "id": "4ce59a02-ef0e-4fca-b34d-845105615907",
   "metadata": {},
   "outputs": [],
   "source": [
    "catalog.instruments()"
   ]
  },
  {
   "cell_type": "markdown",
   "id": "f8fe6776-5183-45d8-8219-9cf1af35b8ce",
   "metadata": {},
   "source": [
    "### Loading the files \n",
    "\n",
    "One final note, our parsing function takes an `instrument_id` argument, as in our case with hist_data, the actual file does not contain information about the instrument, only the file name does. In our instance, we would likely need to split our loading per Forex pair, so we can determine which instrument we are loading. We will use a simple lambda function to pass our `instrument_id` to the parsing function.\n",
    "\n",
    "We can now use the `process_files` function to load one or more files using our `Reader` class and `parsing` function as shown below. This function will loop over many files, as well as breaking up large files into chunks (protecting us from out of memory errors when reading large files) and save the results to the `DataCatalog`\n",
    "\n",
    "\n",
    "For the hist_data, it should take less than a minute or two to load each Forex file (a progress bar will appear below)."
   ]
  },
  {
   "cell_type": "code",
   "execution_count": null,
   "id": "a3ced2c7-5776-4f8e-954d-fe1102303d80",
   "metadata": {},
   "outputs": [],
   "source": [
    "from nautilus_trader.persistence.external.core import process_files\n",
    "\n",
    "process_files(\n",
    "    glob_path=input_files,\n",
    "    reader=CSVReader(\n",
    "        block_parser=lambda x: parser(x, instrument_id=instrument.id), \n",
    "        header=['timestamp', 'bid', 'ask', 'volume'],\n",
    "        chunked=False, \n",
    "        as_dataframe=False,\n",
    "    ),\n",
    "    catalog=catalog,\n",
    ")"
   ]
  },
  {
   "cell_type": "markdown",
   "id": "ad998911-7ed2-43c8-98c5-b35059edfca0",
   "metadata": {},
   "source": [
    "## Using the Data Catalog \n",
    "\n",
    "Once data has been loaded into the catalog, the `catalog` instance can be used for loading data into the backtest engine, or simple for research purposes. It contains various methods to pull data from the catalog, like `quote_ticks` (show below)"
   ]
  },
  {
   "cell_type": "code",
   "execution_count": null,
   "id": "a4807b41-e5d0-4d65-8cce-51d75bf50b37",
   "metadata": {},
   "outputs": [],
   "source": [
    "start = dt_to_unix_nanos(pd.Timestamp('2020-01-01', tz='UTC'))\n",
    "end =  dt_to_unix_nanos(pd.Timestamp('2020-01-02', tz='UTC'))\n",
    "\n",
    "catalog.quote_ticks(start=start, end=end)"
   ]
  },
  {
   "cell_type": "markdown",
   "id": "d82e4715-9e0e-463a-9505-f0e542379fd6",
   "metadata": {},
   "source": [
    "Finally, clean up the catalog"
   ]
  },
  {
   "cell_type": "code",
   "execution_count": null,
   "id": "7deba931-5d54-430b-b661-5b39d0bff521",
   "metadata": {},
   "outputs": [],
   "source": [
    "if os.path.exists(CATALOG_PATH):\n",
    "    shutil.rmtree(CATALOG_PATH)"
   ]
  }
 ],
 "metadata": {
  "jupytext": {
   "formats": "ipynb,md"
  },
  "kernelspec": {
   "display_name": "Python (nautilus_trader)",
   "language": "python",
   "name": "nautilus_trader"
  },
  "language_info": {
   "codemirror_mode": {
    "name": "ipython",
    "version": 3
   },
   "file_extension": ".py",
   "mimetype": "text/x-python",
   "name": "python",
   "nbconvert_exporter": "python",
   "pygments_lexer": "ipython3",
   "version": "3.9.7"
  }
 },
 "nbformat": 4,
 "nbformat_minor": 5
}
