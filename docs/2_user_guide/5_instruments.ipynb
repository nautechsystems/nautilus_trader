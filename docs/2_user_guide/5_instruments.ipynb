{
 "cells": [
  {
   "cell_type": "markdown",
   "id": "1781c982-1086-44e3-8a2e-5a8d662224fc",
   "metadata": {},
   "source": [
    "# Instruments\n",
    "\n",
    "This notebook runs through some examples of setting up instruments for use in Nautilus Trader"
   ]
  },
  {
   "cell_type": "code",
   "execution_count": null,
   "id": "98c9323b-8e54-4b82-8532-97c0abc66cbb",
   "metadata": {},
   "outputs": [],
   "source": []
  },
  {
   "cell_type": "code",
   "execution_count": null,
   "id": "aef499bc-472b-4f08-a90a-31ca7a873c19",
   "metadata": {},
   "outputs": [],
   "source": []
  },
  {
   "cell_type": "code",
   "execution_count": null,
   "id": "f184aac1-5004-4dcb-90a9-c3c5d02734cc",
   "metadata": {},
   "outputs": [],
   "source": []
  }
 ],
 "metadata": {
  "jupytext": {
   "formats": "ipynb,md"
  },
  "kernelspec": {
   "display_name": "Python (nautilus_trader)",
   "language": "python",
   "name": "nautilus_trader"
  },
  "language_info": {
   "codemirror_mode": {
    "name": "ipython",
    "version": 3
   },
   "file_extension": ".py",
   "mimetype": "text/x-python",
   "name": "python",
   "nbconvert_exporter": "python",
   "pygments_lexer": "ipython3",
   "version": "3.9.7"
  }
 },
 "nbformat": 4,
 "nbformat_minor": 5
}
