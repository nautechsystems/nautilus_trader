{
 "cells": [
  {
   "cell_type": "markdown",
   "id": "415a7ea8-f213-4e88-889f-2461115d6a25",
   "metadata": {},
   "source": [
    "### Quick start\n",
    "\n",
    "This section explains how to get up and running with Nautilus Trader by running some backtests on some Forex data. The Nautilus maintainers have pre-loaded some existing data into the nautilus storage format (parquet) for this guide.\n",
    "\n",
    "For more details on how to load other data into Nautilus, see #TODO [Backtest Example](../2_user_guide/backtest_example)"
   ]
  },
  {
   "cell_type": "markdown",
   "id": "3dfc1612-16f7-4e17-98d4-19eb367e8bf9",
   "metadata": {},
   "source": [
    "#### Getting the sample data\n",
    "\n",
    "We have prepared some sample data in the nautilus parquet format for use with this example. First, download and unpack the data:"
   ]
  },
  {
   "cell_type": "code",
   "execution_count": 6,
   "id": "f173e2f3-fe21-4a5c-b28e-479faae4580a",
   "metadata": {},
   "outputs": [],
   "source": [
    "import requests, io, tarfile\n",
    "\n",
    "#TODO\n",
    "resp = requests.get(\"https://raw.githubusercontent.com/limx0/nautilus_data/main/catalogs/EUDUSD202001.tar.gz?token=ABEX2GJNOOJYAPP5AIBWQALB2LLBO\")\n",
    "tarfile.open(fileobj=io.BytesIO(resp.content)).extractall()"
   ]
  },
  {
   "cell_type": "code",
   "execution_count": 1,
   "id": "1146c1dd-07eb-483c-8555-28eb392f64e5",
   "metadata": {},
   "outputs": [],
   "source": [
    "from nautilus_trader.persistence.catalog import DataCatalog"
   ]
  },
  {
   "cell_type": "code",
   "execution_count": 2,
   "id": "466ecc68-b89f-454d-a89f-24195666d323",
   "metadata": {},
   "outputs": [],
   "source": [
    "catalog = DataCatalog(\"EUDUSD202001/\")"
   ]
  },
  {
   "cell_type": "markdown",
   "id": "d3e1972b-27b6-4d5f-9ccd-93e94365e072",
   "metadata": {},
   "source": [
    "### Writing a trading strategy\n",
    "\n",
    "Nautilus includes a handful of indicators built-in, in this example we will use a MACD indicator to build a simple trading strategy. You can read more about [MACD here](https://www.investopedia.com/terms/m/macd.asp), but this indicator merely serves as an example without any expected alpha."
   ]
  },
  {
   "cell_type": "code",
   "execution_count": 3,
   "id": "bd375b90-f2e5-47f3-acc2-4ad93abbc1e1",
   "metadata": {},
   "outputs": [],
   "source": [
    "from nautilus_trader.trading.strategy import TradingStrategy, TradingStrategyConfig\n",
    "from nautilus_trader.indicators.macd import MovingAverageConvergenceDivergence\n",
    "from nautilus_trader.model.data.tick import QuoteTick\n",
    "\n",
    "class MACDConfig(TradingStrategyConfig):\n",
    "    instrument_id: str\n",
    "\n",
    "\n",
    "class MACD(TradingStrategy):\n",
    "    def __init__(self, config):\n",
    "        super().__init__(config=config)\n",
    "        self.macd = MovingAverageConvergenceDivergence(fast_period=12, slow_period=26)\n",
    "\n",
    "    def on_start(self):\n",
    "        self.subscribe_quote_ticks(instrument_id=self.config.instrument_id)\n",
    "\n",
    "    def on_quote_tick(self, tick: QuoteTick):\n",
    "        # Update our MACD\n",
    "        self.macd.handle_quote_tick(tick)\n",
    "\n"
   ]
  },
  {
   "cell_type": "markdown",
   "id": "0d035629-b2f1-4147-9f9e-15226a181bc5",
   "metadata": {
    "pycharm": {
     "name": "#%% md\n"
    }
   },
   "source": [
    "### Configuing Backtests\n",
    "\n",
    "Now that we have a trading strategy and data, we can run a backtest! Nautilus uses a `BacktestEngine` to configure and run backtests, and requires some setup. This may seem a little complex at first, but this is necessary for the correctness that Nautilus strives for.\n",
    "\n",
    "To configure a `BacktestEngine`, we create an instance of a `BacktestRunConfig`, configuring the following (minimal) aspects of the backtest:\n",
    "- `data` - The input data we would like to perform the backtest on\n",
    "- `venues` - the simulated venues (exchanges or brokers) available in the backtest\n",
    "- `strategies` - the strategy or strategies we would like to run for the backtest\n",
    "\n",
    "There are many more configurable features which will be described later in the docs, for now this will get us up and running."
   ]
  },
  {
   "cell_type": "markdown",
   "id": "16e24d1b",
   "metadata": {
    "pycharm": {
     "name": "#%% md\n"
    }
   },
   "source": [
    "First, we create a venue. For this example we will create a simulated venue for Oanda, a Forex broker. A venue needs a name, as well as some basic configuration; the account type (cash vs margin), the base currency and starting balance."
   ]
  },
  {
   "cell_type": "code",
   "execution_count": 31,
   "id": "b80a17d1",
   "metadata": {
    "collapsed": false,
    "jupyter": {
     "outputs_hidden": false
    },
    "pycharm": {
     "name": "#%%\n"
    }
   },
   "outputs": [],
   "source": [
    "from nautilus_trader.backtest.config import BacktestVenueConfig\n",
    "from nautilus_trader.model.enums import VenueType, OMSType, AccountType\n",
    "\n",
    "oanda_venue = BacktestVenueConfig(\n",
    "    name=\"SIM\",\n",
    "    venue_type='BROKERAGE',\n",
    "    oms_type='NETTING',\n",
    "    account_type='CASH',\n",
    "    base_currency=\"USD\",\n",
    "    starting_balances=['100_000 USD']\n",
    ")"
   ]
  },
  {
   "cell_type": "markdown",
   "id": "489c40ed",
   "metadata": {
    "jupyter": {
     "outputs_hidden": false
    },
    "pycharm": {
     "name": "#%% md\n"
    }
   },
   "source": [
    "Next, we need to configure the data for the backtest. Nautilus is built to be very flexible when it comes to loading data for backtests, but this also means configuration is required.\n",
    "\n",
    "For each"
   ]
  },
  {
   "cell_type": "code",
   "execution_count": 34,
   "id": "3ffb1bac",
   "metadata": {
    "collapsed": false,
    "jupyter": {
     "outputs_hidden": false
    },
    "pycharm": {
     "name": "#%%\n"
    }
   },
   "outputs": [],
   "source": [
    "from nautilus_trader.model.data.tick import QuoteTick\n",
    "from nautilus_trader.backtest.config import BacktestDataConfig\n",
    "\n",
    "data = [\n",
    "    BacktestDataConfig(\n",
    "        catalog_path=str(catalog.path),\n",
    "        data_cls_path=f\"{QuoteTick.__module__}.{QuoteTick.__name__}\",\n",
    "        instrument_id=str(instruments[0].id)\n",
    "    )\n",
    "]"
   ]
  },
  {
   "cell_type": "markdown",
   "id": "ae0fb24b",
   "metadata": {
    "pycharm": {
     "name": "#%% md\n"
    }
   },
   "source": [
    "Finally, we need a `BacktestEngineConfig` which allows configuring the log level and other components, but is fine to leave with its defaults"
   ]
  },
  {
   "cell_type": "code",
   "execution_count": 33,
   "id": "7d45fd6c",
   "metadata": {
    "collapsed": false,
    "jupyter": {
     "outputs_hidden": false
    },
    "pycharm": {
     "name": "#%%\n"
    }
   },
   "outputs": [],
   "source": [
    "from nautilus_trader.backtest.config import BacktestEngineConfig\n",
    "\n",
    "engine = BacktestEngineConfig()"
   ]
  },
  {
   "cell_type": "markdown",
   "id": "4842dd1a-605c-4052-8235-fda9b89eb16a",
   "metadata": {},
   "source": [
    "We can now pass our config to the `BacktestRunConfig`. This object now contains the full configuration for our backtest, we are ready to run some backtests!"
   ]
  },
  {
   "cell_type": "code",
   "execution_count": 35,
   "id": "1a18d1a5",
   "metadata": {
    "collapsed": false,
    "jupyter": {
     "outputs_hidden": false
    },
    "pycharm": {
     "name": "#%%\n"
    }
   },
   "outputs": [],
   "source": [
    "config = BacktestRunConfig(\n",
    "    venues=[oanda_venue],\n",
    "    data=data,\n",
    "    engine=engine\n",
    ")"
   ]
  },
  {
   "cell_type": "markdown",
   "id": "2533d0dc-ea73-46f5-b045-30767f6ca3f0",
   "metadata": {},
   "source": [
    "## Running a backtest\n",
    "\n",
    "The `BacktestNode` class _actually_ runs the backtest. The reason for this separation between configuration and execution is the `BacktestNode` allows running multiple configurations (different parameters or batches of data), as well as parallelisation via the excellent [dask](https://dask.org/] library."
   ]
  },
  {
   "cell_type": "code",
   "execution_count": 36,
   "id": "9e5898cb-0b0d-4e43-99c4-efcabec63ab0",
   "metadata": {
    "pycharm": {
     "name": "#%%\n"
    }
   },
   "outputs": [],
   "source": [
    "from nautilus_trader.backtest.node import BacktestNode\n",
    "\n",
    "node = BacktestNode()\n",
    "node.run_sync(run_configs=[config]) # run_sync runs one or many configs synchronously"
   ]
  }
 ],
 "metadata": {
  "kernelspec": {
   "display_name": "Python (nautilus_trader_gh)",
   "language": "python",
   "name": "nautilus_trader_gh"
  },
  "language_info": {
   "codemirror_mode": {
    "name": "ipython",
    "version": 3
   },
   "file_extension": ".py",
   "mimetype": "text/x-python",
   "name": "python",
   "nbconvert_exporter": "python",
   "pygments_lexer": "ipython3",
   "version": "3.9.7"
  }
 },
 "nbformat": 4,
 "nbformat_minor": 5
}