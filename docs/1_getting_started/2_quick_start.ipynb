{
 "cells": [
  {
   "cell_type": "markdown",
   "id": "415a7ea8-f213-4e88-889f-2461115d6a25",
   "metadata": {},
   "source": [
    "### Quick start\n",
    "\n",
    "This section explains how to get up and running with Nautilus Trader by running some backtests on some Forex data. The Nautilus maintainers have pre-loaded some existing data into the nautilus storage format (parquet) for this guide.\n",
    "\n",
    "For more details on how to load other data into Nautilus, see #TODO [Backtest Example](../2_user_guide/backtest_example)"
   ]
  },
  {
   "cell_type": "markdown",
   "id": "3dfc1612-16f7-4e17-98d4-19eb367e8bf9",
   "metadata": {},
   "source": [
    "#### Getting the sample data\n",
    "\n",
    "We have prepared some sample data in the nautilus parquet format for use with this example. First, download and unpack the data:"
   ]
  },
  {
   "cell_type": "code",
   "execution_count": 3,
   "id": "f173e2f3-fe21-4a5c-b28e-479faae4580a",
   "metadata": {},
   "outputs": [],
   "source": [
    "import requests, io, tarfile\n",
    "\n",
    "#TODO\n",
    "resp = requests.get(\"https://raw.githubusercontent.com/limx0/nautilus_data/main/catalogs/EUDUSD202001.tar.gz?token=ABEX2GKWQHJYMZWZKDF4ROTB2K4PE\")\n",
    "tarfile.open(fileobj=io.BytesIO(resp.content)).extractall()"
   ]
  },
  {
   "cell_type": "code",
   "execution_count": 5,
   "id": "1146c1dd-07eb-483c-8555-28eb392f64e5",
   "metadata": {},
   "outputs": [],
   "source": [
    "from nautilus_trader.persistence.catalog import DataCatalog"
   ]
  },
  {
   "cell_type": "code",
   "execution_count": 8,
   "id": "466ecc68-b89f-454d-a89f-24195666d323",
   "metadata": {},
   "outputs": [],
   "source": [
    "catalog = DataCatalog(\"EUDUSD202001/\")"
   ]
  },
  {
   "cell_type": "markdown",
   "id": "d3e1972b-27b6-4d5f-9ccd-93e94365e072",
   "metadata": {},
   "source": [
    "### Writing a trading strategy"
   ]
  },
  {
   "cell_type": "code",
   "execution_count": null,
   "id": "fe2f28a2-0d1a-403e-a76f-deb7328997b7",
   "metadata": {},
   "outputs": [],
   "source": []
  },
  {
   "cell_type": "code",
   "execution_count": null,
   "id": "bd375b90-f2e5-47f3-acc2-4ad93abbc1e1",
   "metadata": {},
   "outputs": [],
   "source": []
  },
  {
   "cell_type": "code",
   "execution_count": null,
   "id": "0d035629-b2f1-4147-9f9e-15226a181bc5",
   "metadata": {},
   "outputs": [],
   "source": []
  },
  {
   "cell_type": "code",
   "execution_count": null,
   "id": "73eaf10c-5f85-4bba-a4af-a89eb05a6bb5",
   "metadata": {},
   "outputs": [],
   "source": []
  }
 ],
 "metadata": {
  "kernelspec": {
   "display_name": "Python (nautilus_trader_gh)",
   "language": "python",
   "name": "nautilus_trader_gh"
  },
  "language_info": {
   "codemirror_mode": {
    "name": "ipython",
    "version": 3
   },
   "file_extension": ".py",
   "mimetype": "text/x-python",
   "name": "python",
   "nbconvert_exporter": "python",
   "pygments_lexer": "ipython3",
   "version": "3.9.7"
  }
 },
 "nbformat": 4,
 "nbformat_minor": 5
}
